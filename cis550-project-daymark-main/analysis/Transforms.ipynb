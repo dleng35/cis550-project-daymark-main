{
 "cells": [
  {
   "cell_type": "code",
   "execution_count": 1,
   "metadata": {},
   "outputs": [],
   "source": [
    "import gzip\n",
    "import csv\n",
    "import json\n",
    "import re\n",
    "import os\n",
    "import sys\n",
    "import numpy as np\n",
    "import pandas as pd\n",
    "from collections import defaultdict\n",
    "import dask.dataframe as dd"
   ]
  },
  {
   "cell_type": "markdown",
   "metadata": {},
   "source": [
    "dir = {your file directory here}"
   ]
  },
  {
   "cell_type": "code",
   "execution_count": 3,
   "metadata": {},
   "outputs": [],
   "source": [
    "def load_books(file_name, head = 500):\n",
    "    count = 0\n",
    "    data = []\n",
    "    with gzip.open(file_name) as fin:\n",
    "        for l in fin:\n",
    "            d = json.loads(l)\n",
    "            d['series'] = ','.join([str(i) for i in d['series']])\n",
    "            d.pop('similar)books')\n",
    "            d.pop('authors')\n",
    "            count += 1\n",
    "            data.append(d)\n",
    "            \n",
    "            # break if reaches the 100th line\n",
    "            if (head is not None) and (count > head):\n",
    "                break\n",
    "    return data"
   ]
  },
  {
   "cell_type": "code",
   "execution_count": 5,
   "metadata": {},
   "outputs": [],
   "source": [
    "def lw_jcBooks(file_name, chunk=10, nrows=-1):\n",
    "    csv_file = os.path.join(dir, 'books.csv')\n",
    "    lines_to_read = 0\n",
    "    with gzip.open(file_name) as lines:\n",
    "        for l in lines:\n",
    "            lines_to_read += 1\n",
    "        print(lines_to_read)\n",
    "    total = 0\n",
    "    count = 0\n",
    "    data = []\n",
    "    with gzip.open(file_name) as fin, open(csv_file, 'w', encoding='utf-8', newline='\\n') as csv:\n",
    "        header = True\n",
    "        for l in fin:\n",
    "            if nrows == -1:\n",
    "                d = json.loads(l)\n",
    "                count += 1\n",
    "                total += 1\n",
    "                data.append(d)\n",
    "\n",
    "                if (chunk is not None) and (count > chunk - 1):\n",
    "                    df = pd.DataFrame(data)\n",
    "                    count = 0\n",
    "                    data.clear()\n",
    "                    df = df.drop(['popular_shelves', 'asin', 'kindle_asin', 'is_ebook', 'edition_information', 'authors', 'similar_books', 'url', 'link', 'title_without_series', 'series', 'text_reviews_count', 'average_rating', 'ratings_count', 'work_id'], axis=1)\n",
    "                    df['description'] = df['description'].str.strip().str.replace('\\'', '').str.replace('\\\"', '').str.replace('\\n', '')\n",
    "                    df.to_csv(csv, header=header, index=0)\n",
    "                    header = False\n",
    "                \n",
    "                # Last Chunk\n",
    "                if total == lines_to_read:\n",
    "                    df = pd.DataFrame(data)\n",
    "                    df = df.drop(['popular_shelves', 'asin', 'kindle_asin', 'is_ebook', 'edition_information', 'authors', 'similar_books', 'url', 'link', 'title_without_series', 'series', 'text_reviews_count', 'average_rating', 'ratings_count', 'work_id'], axis=1)\n",
    "                    df['description'] = df['description'].str.strip().str.replace('\\'', '').str.replace('\\\"', '').str.replace('\\n', '')\n",
    "                    df.to_csv(csv, header=header, index=0)\n",
    "            else:\n",
    "                if total < nrows:\n",
    "                    d = json.loads(l)\n",
    "                    count += 1\n",
    "                    total += 1\n",
    "                    data.append(d)\n",
    "\n",
    "                    if (chunk is not None) and (count > chunk - 1):\n",
    "                        df = pd.DataFrame(data)\n",
    "                        count = 0\n",
    "                        data.clear()\n",
    "                        df = df.drop(['popular_shelves', 'asin', 'kindle_asin', 'is_ebook', 'edition_information', 'authors', 'similar_books', 'url', 'link', 'title_without_series', 'series', 'text_reviews_count', 'average_rating', 'ratings_count', 'work_id'], axis=1)\n",
    "                        df['description'] = df['description'].str.strip().str.replace('\\'', '').str.replace('\\\"', '').str.replace('\\n', '')\n",
    "                        df.to_csv(csv, header=header, index=0)\n",
    "                        header = False\n",
    "                else:\n",
    "                    break\n",
    "    return total"
   ]
  },
  {
   "cell_type": "code",
   "execution_count": 6,
   "metadata": {},
   "outputs": [
    {
     "name": "stdout",
     "output_type": "stream",
     "text": [
      "2360655\n"
     ]
    },
    {
     "data": {
      "text/plain": [
       "2360655"
      ]
     },
     "execution_count": 6,
     "metadata": {},
     "output_type": "execute_result"
    }
   ],
   "source": [
    "lw_jcBooks(os.path.join(dir, 'goodreads_books.json.gz'), chunk=1000)"
   ]
  },
  {
   "cell_type": "code",
   "execution_count": 6,
   "metadata": {},
   "outputs": [
    {
     "data": {
      "text/html": [
       "<div><strong>Dask DataFrame Structure:</strong></div>\n",
       "<div>\n",
       "<style scoped>\n",
       "    .dataframe tbody tr th:only-of-type {\n",
       "        vertical-align: middle;\n",
       "    }\n",
       "\n",
       "    .dataframe tbody tr th {\n",
       "        vertical-align: top;\n",
       "    }\n",
       "\n",
       "    .dataframe thead th {\n",
       "        text-align: right;\n",
       "    }\n",
       "</style>\n",
       "<table border=\"1\" class=\"dataframe\">\n",
       "  <thead>\n",
       "    <tr style=\"text-align: right;\">\n",
       "      <th></th>\n",
       "      <th>isbn</th>\n",
       "      <th>country_code</th>\n",
       "      <th>language_code</th>\n",
       "      <th>description</th>\n",
       "      <th>format</th>\n",
       "      <th>publisher</th>\n",
       "      <th>num_pages</th>\n",
       "      <th>publication_day</th>\n",
       "      <th>isbn13</th>\n",
       "      <th>publication_month</th>\n",
       "      <th>publication_year</th>\n",
       "      <th>image_url</th>\n",
       "      <th>book_id</th>\n",
       "      <th>title</th>\n",
       "    </tr>\n",
       "    <tr>\n",
       "      <th>npartitions=32</th>\n",
       "      <th></th>\n",
       "      <th></th>\n",
       "      <th></th>\n",
       "      <th></th>\n",
       "      <th></th>\n",
       "      <th></th>\n",
       "      <th></th>\n",
       "      <th></th>\n",
       "      <th></th>\n",
       "      <th></th>\n",
       "      <th></th>\n",
       "      <th></th>\n",
       "      <th></th>\n",
       "      <th></th>\n",
       "    </tr>\n",
       "  </thead>\n",
       "  <tbody>\n",
       "    <tr>\n",
       "      <th></th>\n",
       "      <td>object</td>\n",
       "      <td>object</td>\n",
       "      <td>object</td>\n",
       "      <td>object</td>\n",
       "      <td>object</td>\n",
       "      <td>object</td>\n",
       "      <td>float64</td>\n",
       "      <td>float64</td>\n",
       "      <td>object</td>\n",
       "      <td>float64</td>\n",
       "      <td>float64</td>\n",
       "      <td>object</td>\n",
       "      <td>int64</td>\n",
       "      <td>object</td>\n",
       "    </tr>\n",
       "    <tr>\n",
       "      <th></th>\n",
       "      <td>...</td>\n",
       "      <td>...</td>\n",
       "      <td>...</td>\n",
       "      <td>...</td>\n",
       "      <td>...</td>\n",
       "      <td>...</td>\n",
       "      <td>...</td>\n",
       "      <td>...</td>\n",
       "      <td>...</td>\n",
       "      <td>...</td>\n",
       "      <td>...</td>\n",
       "      <td>...</td>\n",
       "      <td>...</td>\n",
       "      <td>...</td>\n",
       "    </tr>\n",
       "    <tr>\n",
       "      <th>...</th>\n",
       "      <td>...</td>\n",
       "      <td>...</td>\n",
       "      <td>...</td>\n",
       "      <td>...</td>\n",
       "      <td>...</td>\n",
       "      <td>...</td>\n",
       "      <td>...</td>\n",
       "      <td>...</td>\n",
       "      <td>...</td>\n",
       "      <td>...</td>\n",
       "      <td>...</td>\n",
       "      <td>...</td>\n",
       "      <td>...</td>\n",
       "      <td>...</td>\n",
       "    </tr>\n",
       "    <tr>\n",
       "      <th></th>\n",
       "      <td>...</td>\n",
       "      <td>...</td>\n",
       "      <td>...</td>\n",
       "      <td>...</td>\n",
       "      <td>...</td>\n",
       "      <td>...</td>\n",
       "      <td>...</td>\n",
       "      <td>...</td>\n",
       "      <td>...</td>\n",
       "      <td>...</td>\n",
       "      <td>...</td>\n",
       "      <td>...</td>\n",
       "      <td>...</td>\n",
       "      <td>...</td>\n",
       "    </tr>\n",
       "    <tr>\n",
       "      <th></th>\n",
       "      <td>...</td>\n",
       "      <td>...</td>\n",
       "      <td>...</td>\n",
       "      <td>...</td>\n",
       "      <td>...</td>\n",
       "      <td>...</td>\n",
       "      <td>...</td>\n",
       "      <td>...</td>\n",
       "      <td>...</td>\n",
       "      <td>...</td>\n",
       "      <td>...</td>\n",
       "      <td>...</td>\n",
       "      <td>...</td>\n",
       "      <td>...</td>\n",
       "    </tr>\n",
       "  </tbody>\n",
       "</table>\n",
       "</div>\n",
       "<div>Dask Name: read-csv, 32 tasks</div>"
      ],
      "text/plain": [
       "Dask DataFrame Structure:\n",
       "                  isbn country_code language_code description  format publisher num_pages publication_day  isbn13 publication_month publication_year image_url book_id   title\n",
       "npartitions=32                                                                                                                                                                \n",
       "                object       object        object      object  object    object   float64         float64  object           float64          float64    object   int64  object\n",
       "                   ...          ...           ...         ...     ...       ...       ...             ...     ...               ...              ...       ...     ...     ...\n",
       "...                ...          ...           ...         ...     ...       ...       ...             ...     ...               ...              ...       ...     ...     ...\n",
       "                   ...          ...           ...         ...     ...       ...       ...             ...     ...               ...              ...       ...     ...     ...\n",
       "                   ...          ...           ...         ...     ...       ...       ...             ...     ...               ...              ...       ...     ...     ...\n",
       "Dask Name: read-csv, 32 tasks"
      ]
     },
     "execution_count": 6,
     "metadata": {},
     "output_type": "execute_result"
    }
   ],
   "source": [
    "dd_bi = dd.read_csv(os.path.join(dir, 'books.csv'), dtype={'isbn': 'object',\n",
    "       'isbn13': 'object',\n",
    "       'ratings_count': 'float64',\n",
    "       'text_reviews_count': 'float64',\n",
    "       'work_id': 'float64'})\n",
    "dd_bi"
   ]
  },
  {
   "cell_type": "code",
   "execution_count": 7,
   "metadata": {},
   "outputs": [
    {
     "data": {
      "text/plain": [
       "2360655"
      ]
     },
     "execution_count": 7,
     "metadata": {},
     "output_type": "execute_result"
    }
   ],
   "source": [
    "len(dd_bi)"
   ]
  },
  {
   "cell_type": "code",
   "execution_count": 8,
   "metadata": {},
   "outputs": [
    {
     "data": {
      "text/plain": [
       "isbn                  object\n",
       "country_code          object\n",
       "language_code         object\n",
       "description           object\n",
       "format                object\n",
       "publisher             object\n",
       "num_pages            float64\n",
       "publication_day      float64\n",
       "isbn13                object\n",
       "publication_month    float64\n",
       "publication_year     float64\n",
       "image_url             object\n",
       "book_id                int64\n",
       "title                 object\n",
       "dtype: object"
      ]
     },
     "execution_count": 8,
     "metadata": {},
     "output_type": "execute_result"
    }
   ],
   "source": [
    "dd_bi.dtypes"
   ]
  },
  {
   "cell_type": "code",
   "execution_count": 9,
   "metadata": {},
   "outputs": [
    {
     "data": {
      "text/plain": [
       "isbn                  983373\n",
       "country_code             490\n",
       "language_code        1060153\n",
       "description           412249\n",
       "format                646754\n",
       "publisher             654372\n",
       "num_pages             764133\n",
       "publication_day      1024429\n",
       "isbn13                780263\n",
       "publication_month     882945\n",
       "publication_year      599625\n",
       "image_url                490\n",
       "book_id                    0\n",
       "title                     11\n",
       "dtype: int64"
      ]
     },
     "execution_count": 9,
     "metadata": {},
     "output_type": "execute_result"
    }
   ],
   "source": [
    "dd_bi.isna().sum().compute()"
   ]
  },
  {
   "cell_type": "code",
   "execution_count": 10,
   "metadata": {},
   "outputs": [
    {
     "data": {
      "text/html": [
       "<div>\n",
       "<style scoped>\n",
       "    .dataframe tbody tr th:only-of-type {\n",
       "        vertical-align: middle;\n",
       "    }\n",
       "\n",
       "    .dataframe tbody tr th {\n",
       "        vertical-align: top;\n",
       "    }\n",
       "\n",
       "    .dataframe thead th {\n",
       "        text-align: right;\n",
       "    }\n",
       "</style>\n",
       "<table border=\"1\" class=\"dataframe\">\n",
       "  <thead>\n",
       "    <tr style=\"text-align: right;\">\n",
       "      <th></th>\n",
       "      <th>isbn</th>\n",
       "      <th>country_code</th>\n",
       "      <th>language_code</th>\n",
       "      <th>description</th>\n",
       "      <th>format</th>\n",
       "      <th>publisher</th>\n",
       "      <th>num_pages</th>\n",
       "      <th>publication_day</th>\n",
       "      <th>isbn13</th>\n",
       "      <th>publication_month</th>\n",
       "      <th>publication_year</th>\n",
       "      <th>image_url</th>\n",
       "      <th>book_id</th>\n",
       "      <th>title</th>\n",
       "    </tr>\n",
       "  </thead>\n",
       "  <tbody>\n",
       "    <tr>\n",
       "      <th>0</th>\n",
       "      <td>0312853122</td>\n",
       "      <td>US</td>\n",
       "      <td>NaN</td>\n",
       "      <td>NaN</td>\n",
       "      <td>Paperback</td>\n",
       "      <td>St. Martin's Press</td>\n",
       "      <td>256.0</td>\n",
       "      <td>1.0</td>\n",
       "      <td>9780312853129</td>\n",
       "      <td>9.0</td>\n",
       "      <td>1984.0</td>\n",
       "      <td>https://images.gr-assets.com/books/1310220028m...</td>\n",
       "      <td>5333265</td>\n",
       "      <td>W.C. Fields: A Life on Film</td>\n",
       "    </tr>\n",
       "    <tr>\n",
       "      <th>1</th>\n",
       "      <td>0743509986</td>\n",
       "      <td>US</td>\n",
       "      <td>NaN</td>\n",
       "      <td>Anita Diamant's international bestseller \"The ...</td>\n",
       "      <td>Audio CD</td>\n",
       "      <td>Simon &amp; Schuster Audio</td>\n",
       "      <td>NaN</td>\n",
       "      <td>1.0</td>\n",
       "      <td>9780743509985</td>\n",
       "      <td>10.0</td>\n",
       "      <td>2001.0</td>\n",
       "      <td>https://s.gr-assets.com/assets/nophoto/book/11...</td>\n",
       "      <td>1333909</td>\n",
       "      <td>Good Harbor</td>\n",
       "    </tr>\n",
       "    <tr>\n",
       "      <th>2</th>\n",
       "      <td>NaN</td>\n",
       "      <td>US</td>\n",
       "      <td>eng</td>\n",
       "      <td>Omnibus book club edition containing the Ladie...</td>\n",
       "      <td>Hardcover</td>\n",
       "      <td>Nelson Doubleday, Inc.</td>\n",
       "      <td>600.0</td>\n",
       "      <td>NaN</td>\n",
       "      <td>NaN</td>\n",
       "      <td>NaN</td>\n",
       "      <td>1987.0</td>\n",
       "      <td>https://images.gr-assets.com/books/1304100136m...</td>\n",
       "      <td>7327624</td>\n",
       "      <td>The Unschooled Wizard (Sun Wolf and Starhawk, ...</td>\n",
       "    </tr>\n",
       "    <tr>\n",
       "      <th>3</th>\n",
       "      <td>0743294297</td>\n",
       "      <td>US</td>\n",
       "      <td>eng</td>\n",
       "      <td>Addie Downs and Valerie Adler were eight when ...</td>\n",
       "      <td>Hardcover</td>\n",
       "      <td>Atria Books</td>\n",
       "      <td>368.0</td>\n",
       "      <td>14.0</td>\n",
       "      <td>9780743294294</td>\n",
       "      <td>7.0</td>\n",
       "      <td>2009.0</td>\n",
       "      <td>https://s.gr-assets.com/assets/nophoto/book/11...</td>\n",
       "      <td>6066819</td>\n",
       "      <td>Best Friends Forever</td>\n",
       "    </tr>\n",
       "    <tr>\n",
       "      <th>4</th>\n",
       "      <td>0850308712</td>\n",
       "      <td>US</td>\n",
       "      <td>NaN</td>\n",
       "      <td>NaN</td>\n",
       "      <td>NaN</td>\n",
       "      <td>NaN</td>\n",
       "      <td>NaN</td>\n",
       "      <td>NaN</td>\n",
       "      <td>9780850308716</td>\n",
       "      <td>NaN</td>\n",
       "      <td>NaN</td>\n",
       "      <td>https://images.gr-assets.com/books/1413219371m...</td>\n",
       "      <td>287140</td>\n",
       "      <td>Runic Astrology: Starcraft and Timekeeping in ...</td>\n",
       "    </tr>\n",
       "  </tbody>\n",
       "</table>\n",
       "</div>"
      ],
      "text/plain": [
       "         isbn country_code language_code  \\\n",
       "0  0312853122           US           NaN   \n",
       "1  0743509986           US           NaN   \n",
       "2         NaN           US           eng   \n",
       "3  0743294297           US           eng   \n",
       "4  0850308712           US           NaN   \n",
       "\n",
       "                                         description     format  \\\n",
       "0                                                NaN  Paperback   \n",
       "1  Anita Diamant's international bestseller \"The ...   Audio CD   \n",
       "2  Omnibus book club edition containing the Ladie...  Hardcover   \n",
       "3  Addie Downs and Valerie Adler were eight when ...  Hardcover   \n",
       "4                                                NaN        NaN   \n",
       "\n",
       "                publisher  num_pages  publication_day         isbn13  \\\n",
       "0      St. Martin's Press      256.0              1.0  9780312853129   \n",
       "1  Simon & Schuster Audio        NaN              1.0  9780743509985   \n",
       "2  Nelson Doubleday, Inc.      600.0              NaN            NaN   \n",
       "3             Atria Books      368.0             14.0  9780743294294   \n",
       "4                     NaN        NaN              NaN  9780850308716   \n",
       "\n",
       "   publication_month  publication_year  \\\n",
       "0                9.0            1984.0   \n",
       "1               10.0            2001.0   \n",
       "2                NaN            1987.0   \n",
       "3                7.0            2009.0   \n",
       "4                NaN               NaN   \n",
       "\n",
       "                                           image_url  book_id  \\\n",
       "0  https://images.gr-assets.com/books/1310220028m...  5333265   \n",
       "1  https://s.gr-assets.com/assets/nophoto/book/11...  1333909   \n",
       "2  https://images.gr-assets.com/books/1304100136m...  7327624   \n",
       "3  https://s.gr-assets.com/assets/nophoto/book/11...  6066819   \n",
       "4  https://images.gr-assets.com/books/1413219371m...   287140   \n",
       "\n",
       "                                               title  \n",
       "0                        W.C. Fields: A Life on Film  \n",
       "1                                        Good Harbor  \n",
       "2  The Unschooled Wizard (Sun Wolf and Starhawk, ...  \n",
       "3                               Best Friends Forever  \n",
       "4  Runic Astrology: Starcraft and Timekeeping in ...  "
      ]
     },
     "execution_count": 10,
     "metadata": {},
     "output_type": "execute_result"
    }
   ],
   "source": [
    "dd_bi.head()"
   ]
  },
  {
   "cell_type": "code",
   "execution_count": 11,
   "metadata": {},
   "outputs": [],
   "source": [
    "format = dd_bi['format']"
   ]
  },
  {
   "cell_type": "code",
   "execution_count": 12,
   "metadata": {},
   "outputs": [
    {
     "data": {
      "text/plain": [
       "0                                Paperback\n",
       "1                                 Audio CD\n",
       "2                                Hardcover\n",
       "3                                      NaN\n",
       "4                                    ebook\n",
       "                       ...                \n",
       "2233    Paperback, Direct Sales Comic Book\n",
       "2234                                Thesis\n",
       "2235                            Hardcovver\n",
       "2236       historical fiction--young adult\n",
       "2237                              eJournal\n",
       "Name: format, Length: 2238, dtype: object"
      ]
     },
     "execution_count": 12,
     "metadata": {},
     "output_type": "execute_result"
    }
   ],
   "source": [
    "format.unique().compute()"
   ]
  },
  {
   "cell_type": "code",
   "execution_count": 19,
   "metadata": {},
   "outputs": [],
   "source": [
    "desc = dd_bi['description']"
   ]
  },
  {
   "cell_type": "code",
   "execution_count": 28,
   "metadata": {},
   "outputs": [
    {
     "data": {
      "text/plain": [
       "64980.0"
      ]
     },
     "execution_count": 28,
     "metadata": {},
     "output_type": "execute_result"
    }
   ],
   "source": [
    "desc.str.len().max().compute()"
   ]
  },
  {
   "cell_type": "code",
   "execution_count": 29,
   "metadata": {},
   "outputs": [],
   "source": [
    "series = dd_bi['series']"
   ]
  },
  {
   "cell_type": "code",
   "execution_count": 30,
   "metadata": {},
   "outputs": [
    {
     "data": {
      "text/plain": [
       "0            []\n",
       "1            []\n",
       "2    ['189911']\n",
       "3            []\n",
       "4            []\n",
       "Name: series, dtype: object"
      ]
     },
     "execution_count": 30,
     "metadata": {},
     "output_type": "execute_result"
    }
   ],
   "source": [
    "series.head()"
   ]
  },
  {
   "cell_type": "code",
   "execution_count": 31,
   "metadata": {},
   "outputs": [
    {
     "data": {
      "text/plain": [
       "3"
      ]
     },
     "execution_count": 31,
     "metadata": {},
     "output_type": "execute_result"
    }
   ],
   "source": [
    "series.str.count(',').max().compute()"
   ]
  },
  {
   "cell_type": "code",
   "execution_count": 65,
   "metadata": {},
   "outputs": [],
   "source": [
    "series_df = dd_bi[['series']]"
   ]
  },
  {
   "cell_type": "code",
   "execution_count": 66,
   "metadata": {},
   "outputs": [
    {
     "data": {
      "text/html": [
       "<div><strong>Dask DataFrame Structure:</strong></div>\n",
       "<div>\n",
       "<style scoped>\n",
       "    .dataframe tbody tr th:only-of-type {\n",
       "        vertical-align: middle;\n",
       "    }\n",
       "\n",
       "    .dataframe tbody tr th {\n",
       "        vertical-align: top;\n",
       "    }\n",
       "\n",
       "    .dataframe thead th {\n",
       "        text-align: right;\n",
       "    }\n",
       "</style>\n",
       "<table border=\"1\" class=\"dataframe\">\n",
       "  <thead>\n",
       "    <tr style=\"text-align: right;\">\n",
       "      <th></th>\n",
       "      <th>series</th>\n",
       "    </tr>\n",
       "    <tr>\n",
       "      <th>npartitions=35</th>\n",
       "      <th></th>\n",
       "    </tr>\n",
       "  </thead>\n",
       "  <tbody>\n",
       "    <tr>\n",
       "      <th></th>\n",
       "      <td>object</td>\n",
       "    </tr>\n",
       "    <tr>\n",
       "      <th></th>\n",
       "      <td>...</td>\n",
       "    </tr>\n",
       "    <tr>\n",
       "      <th>...</th>\n",
       "      <td>...</td>\n",
       "    </tr>\n",
       "    <tr>\n",
       "      <th></th>\n",
       "      <td>...</td>\n",
       "    </tr>\n",
       "    <tr>\n",
       "      <th></th>\n",
       "      <td>...</td>\n",
       "    </tr>\n",
       "  </tbody>\n",
       "</table>\n",
       "</div>\n",
       "<div>Dask Name: getitem, 70 tasks</div>"
      ],
      "text/plain": [
       "Dask DataFrame Structure:\n",
       "                series\n",
       "npartitions=35        \n",
       "                object\n",
       "                   ...\n",
       "...                ...\n",
       "                   ...\n",
       "                   ...\n",
       "Dask Name: getitem, 70 tasks"
      ]
     },
     "execution_count": 66,
     "metadata": {},
     "output_type": "execute_result"
    }
   ],
   "source": [
    "series_df"
   ]
  },
  {
   "cell_type": "code",
   "execution_count": 67,
   "metadata": {},
   "outputs": [
    {
     "data": {
      "text/plain": [
       "False"
      ]
     },
     "execution_count": 67,
     "metadata": {},
     "output_type": "execute_result"
    }
   ],
   "source": [
    "series_df.index.compute().is_unique"
   ]
  },
  {
   "cell_type": "code",
   "execution_count": 74,
   "metadata": {},
   "outputs": [],
   "source": [
    "seriesIndexDups = series_df.index.compute().duplicated()"
   ]
  },
  {
   "cell_type": "code",
   "execution_count": 78,
   "metadata": {},
   "outputs": [
    {
     "data": {
      "text/plain": [
       "array([False, False, False, ...,  True,  True,  True])"
      ]
     },
     "execution_count": 78,
     "metadata": {},
     "output_type": "execute_result"
    }
   ],
   "source": [
    "seriesIndexDups"
   ]
  },
  {
   "cell_type": "code",
   "execution_count": 79,
   "metadata": {},
   "outputs": [
    {
     "data": {
      "text/html": [
       "<div>\n",
       "<style scoped>\n",
       "    .dataframe tbody tr th:only-of-type {\n",
       "        vertical-align: middle;\n",
       "    }\n",
       "\n",
       "    .dataframe tbody tr th {\n",
       "        vertical-align: top;\n",
       "    }\n",
       "\n",
       "    .dataframe thead th {\n",
       "        text-align: right;\n",
       "    }\n",
       "</style>\n",
       "<table border=\"1\" class=\"dataframe\">\n",
       "  <thead>\n",
       "    <tr style=\"text-align: right;\">\n",
       "      <th></th>\n",
       "      <th>series</th>\n",
       "    </tr>\n",
       "  </thead>\n",
       "  <tbody>\n",
       "    <tr>\n",
       "      <th>0</th>\n",
       "      <td>[]</td>\n",
       "    </tr>\n",
       "    <tr>\n",
       "      <th>1</th>\n",
       "      <td>[]</td>\n",
       "    </tr>\n",
       "    <tr>\n",
       "      <th>2</th>\n",
       "      <td>['189911']</td>\n",
       "    </tr>\n",
       "    <tr>\n",
       "      <th>3</th>\n",
       "      <td>[]</td>\n",
       "    </tr>\n",
       "    <tr>\n",
       "      <th>4</th>\n",
       "      <td>[]</td>\n",
       "    </tr>\n",
       "    <tr>\n",
       "      <th>...</th>\n",
       "      <td>...</td>\n",
       "    </tr>\n",
       "    <tr>\n",
       "      <th>23807</th>\n",
       "      <td>[]</td>\n",
       "    </tr>\n",
       "    <tr>\n",
       "      <th>23808</th>\n",
       "      <td>['943808']</td>\n",
       "    </tr>\n",
       "    <tr>\n",
       "      <th>23809</th>\n",
       "      <td>['513826']</td>\n",
       "    </tr>\n",
       "    <tr>\n",
       "      <th>23810</th>\n",
       "      <td>[]</td>\n",
       "    </tr>\n",
       "    <tr>\n",
       "      <th>23811</th>\n",
       "      <td>['256381', '1038225']</td>\n",
       "    </tr>\n",
       "  </tbody>\n",
       "</table>\n",
       "<p>2360000 rows × 1 columns</p>\n",
       "</div>"
      ],
      "text/plain": [
       "                      series\n",
       "0                         []\n",
       "1                         []\n",
       "2                 ['189911']\n",
       "3                         []\n",
       "4                         []\n",
       "...                      ...\n",
       "23807                     []\n",
       "23808             ['943808']\n",
       "23809             ['513826']\n",
       "23810                     []\n",
       "23811  ['256381', '1038225']\n",
       "\n",
       "[2360000 rows x 1 columns]"
      ]
     },
     "execution_count": 79,
     "metadata": {},
     "output_type": "execute_result"
    }
   ],
   "source": [
    "series_df.compute()"
   ]
  },
  {
   "cell_type": "code",
   "execution_count": 82,
   "metadata": {},
   "outputs": [],
   "source": [
    "series_df = series_df.compute()"
   ]
  },
  {
   "cell_type": "code",
   "execution_count": 83,
   "metadata": {},
   "outputs": [
    {
     "data": {
      "text/plain": [
       "pandas.core.frame.DataFrame"
      ]
     },
     "execution_count": 83,
     "metadata": {},
     "output_type": "execute_result"
    }
   ],
   "source": [
    "type(series_df)"
   ]
  },
  {
   "cell_type": "code",
   "execution_count": 89,
   "metadata": {},
   "outputs": [
    {
     "data": {
      "text/plain": [
       "Int64Index([    0,     1,     2,     3,     4,     5,     6,     7,     8,\n",
       "                9,\n",
       "            ...\n",
       "            23802, 23803, 23804, 23805, 23806, 23807, 23808, 23809, 23810,\n",
       "            23811],\n",
       "           dtype='int64', length=2360000)"
      ]
     },
     "execution_count": 89,
     "metadata": {},
     "output_type": "execute_result"
    }
   ],
   "source": [
    "series_df.index"
   ]
  },
  {
   "cell_type": "code",
   "execution_count": 90,
   "metadata": {},
   "outputs": [],
   "source": [
    "series_df.reset_index(inplace=True)"
   ]
  },
  {
   "cell_type": "code",
   "execution_count": 95,
   "metadata": {},
   "outputs": [
    {
     "data": {
      "text/plain": [
       "True"
      ]
     },
     "execution_count": 95,
     "metadata": {},
     "output_type": "execute_result"
    }
   ],
   "source": [
    "series_df.index.is_unique"
   ]
  },
  {
   "cell_type": "code",
   "execution_count": 96,
   "metadata": {},
   "outputs": [],
   "source": [
    "series_df['count'] = series_df['series'].str.count(',')"
   ]
  },
  {
   "cell_type": "code",
   "execution_count": 97,
   "metadata": {},
   "outputs": [
    {
     "data": {
      "text/html": [
       "<div>\n",
       "<style scoped>\n",
       "    .dataframe tbody tr th:only-of-type {\n",
       "        vertical-align: middle;\n",
       "    }\n",
       "\n",
       "    .dataframe tbody tr th {\n",
       "        vertical-align: top;\n",
       "    }\n",
       "\n",
       "    .dataframe thead th {\n",
       "        text-align: right;\n",
       "    }\n",
       "</style>\n",
       "<table border=\"1\" class=\"dataframe\">\n",
       "  <thead>\n",
       "    <tr style=\"text-align: right;\">\n",
       "      <th></th>\n",
       "      <th>index</th>\n",
       "      <th>series</th>\n",
       "      <th>count</th>\n",
       "    </tr>\n",
       "  </thead>\n",
       "  <tbody>\n",
       "    <tr>\n",
       "      <th>0</th>\n",
       "      <td>0</td>\n",
       "      <td>[]</td>\n",
       "      <td>0</td>\n",
       "    </tr>\n",
       "    <tr>\n",
       "      <th>1</th>\n",
       "      <td>1</td>\n",
       "      <td>[]</td>\n",
       "      <td>0</td>\n",
       "    </tr>\n",
       "    <tr>\n",
       "      <th>2</th>\n",
       "      <td>2</td>\n",
       "      <td>['189911']</td>\n",
       "      <td>0</td>\n",
       "    </tr>\n",
       "    <tr>\n",
       "      <th>3</th>\n",
       "      <td>3</td>\n",
       "      <td>[]</td>\n",
       "      <td>0</td>\n",
       "    </tr>\n",
       "    <tr>\n",
       "      <th>4</th>\n",
       "      <td>4</td>\n",
       "      <td>[]</td>\n",
       "      <td>0</td>\n",
       "    </tr>\n",
       "    <tr>\n",
       "      <th>...</th>\n",
       "      <td>...</td>\n",
       "      <td>...</td>\n",
       "      <td>...</td>\n",
       "    </tr>\n",
       "    <tr>\n",
       "      <th>2359995</th>\n",
       "      <td>23807</td>\n",
       "      <td>[]</td>\n",
       "      <td>0</td>\n",
       "    </tr>\n",
       "    <tr>\n",
       "      <th>2359996</th>\n",
       "      <td>23808</td>\n",
       "      <td>['943808']</td>\n",
       "      <td>0</td>\n",
       "    </tr>\n",
       "    <tr>\n",
       "      <th>2359997</th>\n",
       "      <td>23809</td>\n",
       "      <td>['513826']</td>\n",
       "      <td>0</td>\n",
       "    </tr>\n",
       "    <tr>\n",
       "      <th>2359998</th>\n",
       "      <td>23810</td>\n",
       "      <td>[]</td>\n",
       "      <td>0</td>\n",
       "    </tr>\n",
       "    <tr>\n",
       "      <th>2359999</th>\n",
       "      <td>23811</td>\n",
       "      <td>['256381', '1038225']</td>\n",
       "      <td>1</td>\n",
       "    </tr>\n",
       "  </tbody>\n",
       "</table>\n",
       "<p>2360000 rows × 3 columns</p>\n",
       "</div>"
      ],
      "text/plain": [
       "         index                 series  count\n",
       "0            0                     []      0\n",
       "1            1                     []      0\n",
       "2            2             ['189911']      0\n",
       "3            3                     []      0\n",
       "4            4                     []      0\n",
       "...        ...                    ...    ...\n",
       "2359995  23807                     []      0\n",
       "2359996  23808             ['943808']      0\n",
       "2359997  23809             ['513826']      0\n",
       "2359998  23810                     []      0\n",
       "2359999  23811  ['256381', '1038225']      1\n",
       "\n",
       "[2360000 rows x 3 columns]"
      ]
     },
     "execution_count": 97,
     "metadata": {},
     "output_type": "execute_result"
    }
   ],
   "source": [
    "series_df"
   ]
  },
  {
   "cell_type": "code",
   "execution_count": 98,
   "metadata": {},
   "outputs": [
    {
     "data": {
      "text/plain": [
       "3"
      ]
     },
     "execution_count": 98,
     "metadata": {},
     "output_type": "execute_result"
    }
   ],
   "source": [
    "series_df['count'].max()"
   ]
  },
  {
   "cell_type": "code",
   "execution_count": 99,
   "metadata": {},
   "outputs": [
    {
     "data": {
      "text/html": [
       "<div>\n",
       "<style scoped>\n",
       "    .dataframe tbody tr th:only-of-type {\n",
       "        vertical-align: middle;\n",
       "    }\n",
       "\n",
       "    .dataframe tbody tr th {\n",
       "        vertical-align: top;\n",
       "    }\n",
       "\n",
       "    .dataframe thead th {\n",
       "        text-align: right;\n",
       "    }\n",
       "</style>\n",
       "<table border=\"1\" class=\"dataframe\">\n",
       "  <thead>\n",
       "    <tr style=\"text-align: right;\">\n",
       "      <th></th>\n",
       "      <th>index</th>\n",
       "      <th>series</th>\n",
       "      <th>count</th>\n",
       "    </tr>\n",
       "  </thead>\n",
       "  <tbody>\n",
       "    <tr>\n",
       "      <th>41</th>\n",
       "      <td>41</td>\n",
       "      <td>['250807', '415703', '181883']</td>\n",
       "      <td>2</td>\n",
       "    </tr>\n",
       "    <tr>\n",
       "      <th>84</th>\n",
       "      <td>84</td>\n",
       "      <td>['246830', '362583', '362581', '623032']</td>\n",
       "      <td>3</td>\n",
       "    </tr>\n",
       "    <tr>\n",
       "      <th>112</th>\n",
       "      <td>112</td>\n",
       "      <td>['266759', '1096220']</td>\n",
       "      <td>1</td>\n",
       "    </tr>\n",
       "    <tr>\n",
       "      <th>137</th>\n",
       "      <td>137</td>\n",
       "      <td>['981445', '981448']</td>\n",
       "      <td>1</td>\n",
       "    </tr>\n",
       "    <tr>\n",
       "      <th>152</th>\n",
       "      <td>152</td>\n",
       "      <td>['179176', '232917']</td>\n",
       "      <td>1</td>\n",
       "    </tr>\n",
       "    <tr>\n",
       "      <th>...</th>\n",
       "      <td>...</td>\n",
       "      <td>...</td>\n",
       "      <td>...</td>\n",
       "    </tr>\n",
       "    <tr>\n",
       "      <th>2359862</th>\n",
       "      <td>23674</td>\n",
       "      <td>['220785', '504702']</td>\n",
       "      <td>1</td>\n",
       "    </tr>\n",
       "    <tr>\n",
       "      <th>2359925</th>\n",
       "      <td>23737</td>\n",
       "      <td>['146642', '268841', '702396']</td>\n",
       "      <td>2</td>\n",
       "    </tr>\n",
       "    <tr>\n",
       "      <th>2359927</th>\n",
       "      <td>23739</td>\n",
       "      <td>['1131248', '146641', '702395']</td>\n",
       "      <td>2</td>\n",
       "    </tr>\n",
       "    <tr>\n",
       "      <th>2359987</th>\n",
       "      <td>23799</td>\n",
       "      <td>['154538', '958071']</td>\n",
       "      <td>1</td>\n",
       "    </tr>\n",
       "    <tr>\n",
       "      <th>2359999</th>\n",
       "      <td>23811</td>\n",
       "      <td>['256381', '1038225']</td>\n",
       "      <td>1</td>\n",
       "    </tr>\n",
       "  </tbody>\n",
       "</table>\n",
       "<p>64971 rows × 3 columns</p>\n",
       "</div>"
      ],
      "text/plain": [
       "         index                                    series  count\n",
       "41          41            ['250807', '415703', '181883']      2\n",
       "84          84  ['246830', '362583', '362581', '623032']      3\n",
       "112        112                     ['266759', '1096220']      1\n",
       "137        137                      ['981445', '981448']      1\n",
       "152        152                      ['179176', '232917']      1\n",
       "...        ...                                       ...    ...\n",
       "2359862  23674                      ['220785', '504702']      1\n",
       "2359925  23737            ['146642', '268841', '702396']      2\n",
       "2359927  23739           ['1131248', '146641', '702395']      2\n",
       "2359987  23799                      ['154538', '958071']      1\n",
       "2359999  23811                     ['256381', '1038225']      1\n",
       "\n",
       "[64971 rows x 3 columns]"
      ]
     },
     "execution_count": 99,
     "metadata": {},
     "output_type": "execute_result"
    }
   ],
   "source": [
    "series_df[series_df['count'] > 0]"
   ]
  },
  {
   "cell_type": "code",
   "execution_count": 100,
   "metadata": {},
   "outputs": [],
   "source": [
    "titles = dd_bi[['title', 'title_without_series']]"
   ]
  },
  {
   "cell_type": "code",
   "execution_count": 103,
   "metadata": {},
   "outputs": [],
   "source": [
    "titles['equal'] = titles['title'].compute().equals(titles['title_without_series'].compute())"
   ]
  },
  {
   "cell_type": "code",
   "execution_count": 106,
   "metadata": {},
   "outputs": [
    {
     "data": {
      "text/plain": [
       "True    2360000\n",
       "Name: equal, dtype: int64"
      ]
     },
     "execution_count": 106,
     "metadata": {},
     "output_type": "execute_result"
    }
   ],
   "source": [
    "titles['equal'].value_counts().compute()"
   ]
  },
  {
   "cell_type": "code",
   "execution_count": 110,
   "metadata": {},
   "outputs": [
    {
     "data": {
      "text/plain": [
       "2360000"
      ]
     },
     "execution_count": 110,
     "metadata": {},
     "output_type": "execute_result"
    }
   ],
   "source": [
    "# 7327624 8948723\n"
   ]
  },
  {
   "cell_type": "code",
   "execution_count": 131,
   "metadata": {},
   "outputs": [],
   "source": [
    "def lw_jcSimilar(file_name, chunk=10, nrows=-1):\n",
    "    csv_file = os.path.join(dir, 'similar.csv')\n",
    "    lines_to_read = 0\n",
    "    with gzip.open(file_name) as lines:\n",
    "        for l in lines:\n",
    "            lines_to_read += 1\n",
    "        print(lines_to_read)\n",
    "    total = 0\n",
    "    count = 0\n",
    "    data = []\n",
    "    with gzip.open(file_name) as fin, open(csv_file, 'w', encoding='utf-8', newline='\\n') as csv:\n",
    "        header = True\n",
    "        for l in fin:\n",
    "            if nrows == -1:\n",
    "                d = json.loads(l)\n",
    "                keysToExtract = ['book_id', 'similar_books']\n",
    "                dd = {key:d[key] for key in keysToExtract}\n",
    "                count += 1\n",
    "                total += 1\n",
    "                data.append(dd)\n",
    "\n",
    "                if (chunk is not None) and (count > chunk - 1):\n",
    "                    df = pd.DataFrame(data)\n",
    "                    df = df.explode('similar_books')\n",
    "                    count = 0\n",
    "                    data.clear()\n",
    "                    df.to_csv(csv, header=header, index=0)\n",
    "                    header = False\n",
    "                \n",
    "                # Last Chunk\n",
    "                if total == lines_to_read:\n",
    "                    df = pd.DataFrame(data)\n",
    "                    df = df.explode('similar_books')\n",
    "                    df.to_csv(csv, header=header, index=0)\n",
    "            else:\n",
    "                if total < nrows:\n",
    "                    d = json.loads(l)\n",
    "                    count += 1\n",
    "                    total += 1\n",
    "                    data.append(d)\n",
    "\n",
    "                    if (chunk is not None) and (count > chunk - 1):\n",
    "                        df = pd.DataFrame(data)\n",
    "                        df = df.explode('similar_books')\n",
    "                        count = 0\n",
    "                        data.clear()\n",
    "                        df.to_csv(csv, header=header, index=0)\n",
    "                        header = False\n",
    "                else:\n",
    "                    break\n",
    "    return total"
   ]
  },
  {
   "cell_type": "code",
   "execution_count": 132,
   "metadata": {},
   "outputs": [
    {
     "name": "stdout",
     "output_type": "stream",
     "text": [
      "2360655\n"
     ]
    },
    {
     "data": {
      "text/plain": [
       "2360655"
      ]
     },
     "execution_count": 132,
     "metadata": {},
     "output_type": "execute_result"
    }
   ],
   "source": [
    "lw_jcSimilar(os.path.join(dir, 'goodreads_books.json.gz'), chunk=1000)"
   ]
  },
  {
   "cell_type": "code",
   "execution_count": 133,
   "metadata": {},
   "outputs": [],
   "source": [
    "sDF = pd.read_csv(os.path.join(dir, 'similar.csv'))"
   ]
  },
  {
   "cell_type": "code",
   "execution_count": 134,
   "metadata": {},
   "outputs": [
    {
     "data": {
      "text/html": [
       "<div>\n",
       "<style scoped>\n",
       "    .dataframe tbody tr th:only-of-type {\n",
       "        vertical-align: middle;\n",
       "    }\n",
       "\n",
       "    .dataframe tbody tr th {\n",
       "        vertical-align: top;\n",
       "    }\n",
       "\n",
       "    .dataframe thead th {\n",
       "        text-align: right;\n",
       "    }\n",
       "</style>\n",
       "<table border=\"1\" class=\"dataframe\">\n",
       "  <thead>\n",
       "    <tr style=\"text-align: right;\">\n",
       "      <th></th>\n",
       "      <th>book_id</th>\n",
       "      <th>similar_books</th>\n",
       "    </tr>\n",
       "  </thead>\n",
       "  <tbody>\n",
       "    <tr>\n",
       "      <th>0</th>\n",
       "      <td>5333265</td>\n",
       "      <td>NaN</td>\n",
       "    </tr>\n",
       "    <tr>\n",
       "      <th>1</th>\n",
       "      <td>1333909</td>\n",
       "      <td>8709549.0</td>\n",
       "    </tr>\n",
       "    <tr>\n",
       "      <th>2</th>\n",
       "      <td>1333909</td>\n",
       "      <td>17074050.0</td>\n",
       "    </tr>\n",
       "    <tr>\n",
       "      <th>3</th>\n",
       "      <td>1333909</td>\n",
       "      <td>28937.0</td>\n",
       "    </tr>\n",
       "    <tr>\n",
       "      <th>4</th>\n",
       "      <td>1333909</td>\n",
       "      <td>158816.0</td>\n",
       "    </tr>\n",
       "    <tr>\n",
       "      <th>...</th>\n",
       "      <td>...</td>\n",
       "      <td>...</td>\n",
       "    </tr>\n",
       "    <tr>\n",
       "      <th>18071750</th>\n",
       "      <td>11419866</td>\n",
       "      <td>1835589.0</td>\n",
       "    </tr>\n",
       "    <tr>\n",
       "      <th>18071751</th>\n",
       "      <td>11419866</td>\n",
       "      <td>1739458.0</td>\n",
       "    </tr>\n",
       "    <tr>\n",
       "      <th>18071752</th>\n",
       "      <td>11419866</td>\n",
       "      <td>1534367.0</td>\n",
       "    </tr>\n",
       "    <tr>\n",
       "      <th>18071753</th>\n",
       "      <td>11419866</td>\n",
       "      <td>8662586.0</td>\n",
       "    </tr>\n",
       "    <tr>\n",
       "      <th>18071754</th>\n",
       "      <td>11419866</td>\n",
       "      <td>695337.0</td>\n",
       "    </tr>\n",
       "  </tbody>\n",
       "</table>\n",
       "<p>18071755 rows × 2 columns</p>\n",
       "</div>"
      ],
      "text/plain": [
       "           book_id  similar_books\n",
       "0          5333265            NaN\n",
       "1          1333909      8709549.0\n",
       "2          1333909     17074050.0\n",
       "3          1333909        28937.0\n",
       "4          1333909       158816.0\n",
       "...            ...            ...\n",
       "18071750  11419866      1835589.0\n",
       "18071751  11419866      1739458.0\n",
       "18071752  11419866      1534367.0\n",
       "18071753  11419866      8662586.0\n",
       "18071754  11419866       695337.0\n",
       "\n",
       "[18071755 rows x 2 columns]"
      ]
     },
     "execution_count": 134,
     "metadata": {},
     "output_type": "execute_result"
    }
   ],
   "source": [
    "sDF"
   ]
  },
  {
   "cell_type": "code",
   "execution_count": 135,
   "metadata": {},
   "outputs": [
    {
     "data": {
      "text/html": [
       "<div>\n",
       "<style scoped>\n",
       "    .dataframe tbody tr th:only-of-type {\n",
       "        vertical-align: middle;\n",
       "    }\n",
       "\n",
       "    .dataframe tbody tr th {\n",
       "        vertical-align: top;\n",
       "    }\n",
       "\n",
       "    .dataframe thead th {\n",
       "        text-align: right;\n",
       "    }\n",
       "</style>\n",
       "<table border=\"1\" class=\"dataframe\">\n",
       "  <thead>\n",
       "    <tr style=\"text-align: right;\">\n",
       "      <th></th>\n",
       "      <th>book_id</th>\n",
       "      <th>similar_books</th>\n",
       "    </tr>\n",
       "  </thead>\n",
       "  <tbody>\n",
       "    <tr>\n",
       "      <th>19</th>\n",
       "      <td>7327624</td>\n",
       "      <td>19997.0</td>\n",
       "    </tr>\n",
       "    <tr>\n",
       "      <th>111733</th>\n",
       "      <td>510103</td>\n",
       "      <td>19997.0</td>\n",
       "    </tr>\n",
       "    <tr>\n",
       "      <th>1048907</th>\n",
       "      <td>498560</td>\n",
       "      <td>19997.0</td>\n",
       "    </tr>\n",
       "    <tr>\n",
       "      <th>1375495</th>\n",
       "      <td>642070</td>\n",
       "      <td>19997.0</td>\n",
       "    </tr>\n",
       "    <tr>\n",
       "      <th>1408485</th>\n",
       "      <td>764029</td>\n",
       "      <td>19997.0</td>\n",
       "    </tr>\n",
       "    <tr>\n",
       "      <th>...</th>\n",
       "      <td>...</td>\n",
       "      <td>...</td>\n",
       "    </tr>\n",
       "    <tr>\n",
       "      <th>16882245</th>\n",
       "      <td>1767797</td>\n",
       "      <td>19997.0</td>\n",
       "    </tr>\n",
       "    <tr>\n",
       "      <th>16997530</th>\n",
       "      <td>642068</td>\n",
       "      <td>19997.0</td>\n",
       "    </tr>\n",
       "    <tr>\n",
       "      <th>17081858</th>\n",
       "      <td>974191</td>\n",
       "      <td>19997.0</td>\n",
       "    </tr>\n",
       "    <tr>\n",
       "      <th>17522499</th>\n",
       "      <td>1148956</td>\n",
       "      <td>19997.0</td>\n",
       "    </tr>\n",
       "    <tr>\n",
       "      <th>17866303</th>\n",
       "      <td>598959</td>\n",
       "      <td>19997.0</td>\n",
       "    </tr>\n",
       "  </tbody>\n",
       "</table>\n",
       "<p>73 rows × 2 columns</p>\n",
       "</div>"
      ],
      "text/plain": [
       "          book_id  similar_books\n",
       "19        7327624        19997.0\n",
       "111733     510103        19997.0\n",
       "1048907    498560        19997.0\n",
       "1375495    642070        19997.0\n",
       "1408485    764029        19997.0\n",
       "...           ...            ...\n",
       "16882245  1767797        19997.0\n",
       "16997530   642068        19997.0\n",
       "17081858   974191        19997.0\n",
       "17522499  1148956        19997.0\n",
       "17866303   598959        19997.0\n",
       "\n",
       "[73 rows x 2 columns]"
      ]
     },
     "execution_count": 135,
     "metadata": {},
     "output_type": "execute_result"
    }
   ],
   "source": [
    "sDF.loc[sDF['similar_books'] == 19997]"
   ]
  },
  {
   "cell_type": "code",
   "execution_count": 136,
   "metadata": {},
   "outputs": [
    {
     "data": {
      "text/html": [
       "<div>\n",
       "<style scoped>\n",
       "    .dataframe tbody tr th:only-of-type {\n",
       "        vertical-align: middle;\n",
       "    }\n",
       "\n",
       "    .dataframe tbody tr th {\n",
       "        vertical-align: top;\n",
       "    }\n",
       "\n",
       "    .dataframe thead th {\n",
       "        text-align: right;\n",
       "    }\n",
       "</style>\n",
       "<table border=\"1\" class=\"dataframe\">\n",
       "  <thead>\n",
       "    <tr style=\"text-align: right;\">\n",
       "      <th></th>\n",
       "      <th>book_id</th>\n",
       "      <th>similar_books</th>\n",
       "    </tr>\n",
       "  </thead>\n",
       "  <tbody>\n",
       "    <tr>\n",
       "      <th>732440</th>\n",
       "      <td>19997</td>\n",
       "      <td>7327624.0</td>\n",
       "    </tr>\n",
       "    <tr>\n",
       "      <th>791885</th>\n",
       "      <td>18459291</td>\n",
       "      <td>7327624.0</td>\n",
       "    </tr>\n",
       "    <tr>\n",
       "      <th>2604083</th>\n",
       "      <td>637996</td>\n",
       "      <td>7327624.0</td>\n",
       "    </tr>\n",
       "    <tr>\n",
       "      <th>4273428</th>\n",
       "      <td>882101</td>\n",
       "      <td>7327624.0</td>\n",
       "    </tr>\n",
       "    <tr>\n",
       "      <th>4413438</th>\n",
       "      <td>1569323</td>\n",
       "      <td>7327624.0</td>\n",
       "    </tr>\n",
       "    <tr>\n",
       "      <th>4609906</th>\n",
       "      <td>1883810</td>\n",
       "      <td>7327624.0</td>\n",
       "    </tr>\n",
       "    <tr>\n",
       "      <th>6957998</th>\n",
       "      <td>615940</td>\n",
       "      <td>7327624.0</td>\n",
       "    </tr>\n",
       "    <tr>\n",
       "      <th>7724358</th>\n",
       "      <td>1988046</td>\n",
       "      <td>7327624.0</td>\n",
       "    </tr>\n",
       "    <tr>\n",
       "      <th>7914113</th>\n",
       "      <td>3443882</td>\n",
       "      <td>7327624.0</td>\n",
       "    </tr>\n",
       "    <tr>\n",
       "      <th>8843130</th>\n",
       "      <td>3743837</td>\n",
       "      <td>7327624.0</td>\n",
       "    </tr>\n",
       "    <tr>\n",
       "      <th>10049764</th>\n",
       "      <td>6938205</td>\n",
       "      <td>7327624.0</td>\n",
       "    </tr>\n",
       "    <tr>\n",
       "      <th>12748283</th>\n",
       "      <td>1176674</td>\n",
       "      <td>7327624.0</td>\n",
       "    </tr>\n",
       "    <tr>\n",
       "      <th>12887612</th>\n",
       "      <td>390170</td>\n",
       "      <td>7327624.0</td>\n",
       "    </tr>\n",
       "    <tr>\n",
       "      <th>13517182</th>\n",
       "      <td>1597281</td>\n",
       "      <td>7327624.0</td>\n",
       "    </tr>\n",
       "    <tr>\n",
       "      <th>13927793</th>\n",
       "      <td>2519608</td>\n",
       "      <td>7327624.0</td>\n",
       "    </tr>\n",
       "    <tr>\n",
       "      <th>15229617</th>\n",
       "      <td>2620131</td>\n",
       "      <td>7327624.0</td>\n",
       "    </tr>\n",
       "    <tr>\n",
       "      <th>15813993</th>\n",
       "      <td>2292726</td>\n",
       "      <td>7327624.0</td>\n",
       "    </tr>\n",
       "    <tr>\n",
       "      <th>16811095</th>\n",
       "      <td>1106408</td>\n",
       "      <td>7327624.0</td>\n",
       "    </tr>\n",
       "  </tbody>\n",
       "</table>\n",
       "</div>"
      ],
      "text/plain": [
       "           book_id  similar_books\n",
       "732440       19997      7327624.0\n",
       "791885    18459291      7327624.0\n",
       "2604083     637996      7327624.0\n",
       "4273428     882101      7327624.0\n",
       "4413438    1569323      7327624.0\n",
       "4609906    1883810      7327624.0\n",
       "6957998     615940      7327624.0\n",
       "7724358    1988046      7327624.0\n",
       "7914113    3443882      7327624.0\n",
       "8843130    3743837      7327624.0\n",
       "10049764   6938205      7327624.0\n",
       "12748283   1176674      7327624.0\n",
       "12887612    390170      7327624.0\n",
       "13517182   1597281      7327624.0\n",
       "13927793   2519608      7327624.0\n",
       "15229617   2620131      7327624.0\n",
       "15813993   2292726      7327624.0\n",
       "16811095   1106408      7327624.0"
      ]
     },
     "execution_count": 136,
     "metadata": {},
     "output_type": "execute_result"
    }
   ],
   "source": [
    "sDF.loc[sDF['similar_books'] == 7327624]"
   ]
  },
  {
   "cell_type": "code",
   "execution_count": 138,
   "metadata": {},
   "outputs": [
    {
     "data": {
      "text/html": [
       "<div>\n",
       "<style scoped>\n",
       "    .dataframe tbody tr th:only-of-type {\n",
       "        vertical-align: middle;\n",
       "    }\n",
       "\n",
       "    .dataframe tbody tr th {\n",
       "        vertical-align: top;\n",
       "    }\n",
       "\n",
       "    .dataframe thead th {\n",
       "        text-align: right;\n",
       "    }\n",
       "</style>\n",
       "<table border=\"1\" class=\"dataframe\">\n",
       "  <thead>\n",
       "    <tr style=\"text-align: right;\">\n",
       "      <th></th>\n",
       "      <th>isbn</th>\n",
       "      <th>text_reviews_count</th>\n",
       "      <th>country_code</th>\n",
       "      <th>language_code</th>\n",
       "      <th>average_rating</th>\n",
       "      <th>description</th>\n",
       "      <th>format</th>\n",
       "      <th>publisher</th>\n",
       "      <th>num_pages</th>\n",
       "      <th>publication_day</th>\n",
       "      <th>isbn13</th>\n",
       "      <th>publication_month</th>\n",
       "      <th>publication_year</th>\n",
       "      <th>image_url</th>\n",
       "      <th>book_id</th>\n",
       "      <th>ratings_count</th>\n",
       "      <th>work_id</th>\n",
       "      <th>title</th>\n",
       "    </tr>\n",
       "  </thead>\n",
       "  <tbody>\n",
       "    <tr>\n",
       "      <th>2</th>\n",
       "      <td>NaN</td>\n",
       "      <td>7.0</td>\n",
       "      <td>US</td>\n",
       "      <td>eng</td>\n",
       "      <td>4.03</td>\n",
       "      <td>Omnibus book club edition containing the Ladie...</td>\n",
       "      <td>Hardcover</td>\n",
       "      <td>Nelson Doubleday, Inc.</td>\n",
       "      <td>600.0</td>\n",
       "      <td>NaN</td>\n",
       "      <td>NaN</td>\n",
       "      <td>NaN</td>\n",
       "      <td>1987.0</td>\n",
       "      <td>https://images.gr-assets.com/books/1304100136m...</td>\n",
       "      <td>7327624</td>\n",
       "      <td>140.0</td>\n",
       "      <td>8948723.0</td>\n",
       "      <td>The Unschooled Wizard (Sun Wolf and Starhawk, ...</td>\n",
       "    </tr>\n",
       "  </tbody>\n",
       "</table>\n",
       "</div>"
      ],
      "text/plain": [
       "  isbn  text_reviews_count country_code language_code  average_rating  \\\n",
       "2  NaN                 7.0           US           eng            4.03   \n",
       "\n",
       "                                         description     format  \\\n",
       "2  Omnibus book club edition containing the Ladie...  Hardcover   \n",
       "\n",
       "                publisher  num_pages  publication_day isbn13  \\\n",
       "2  Nelson Doubleday, Inc.      600.0              NaN    NaN   \n",
       "\n",
       "   publication_month  publication_year  \\\n",
       "2                NaN            1987.0   \n",
       "\n",
       "                                           image_url  book_id  ratings_count  \\\n",
       "2  https://images.gr-assets.com/books/1304100136m...  7327624          140.0   \n",
       "\n",
       "     work_id                                              title  \n",
       "2  8948723.0  The Unschooled Wizard (Sun Wolf and Starhawk, ...  "
      ]
     },
     "execution_count": 138,
     "metadata": {},
     "output_type": "execute_result"
    }
   ],
   "source": [
    "dd_bi.loc[dd_bi['book_id'] == 7327624].compute()"
   ]
  },
  {
   "cell_type": "code",
   "execution_count": 5,
   "metadata": {},
   "outputs": [],
   "source": [
    "def lw_jcWrites(file_name, chunk=10, nrows=-1):\n",
    "    csv_file = os.path.join(dir, 'writes.csv')\n",
    "    lines_to_read = 0\n",
    "    if nrows == -1:\n",
    "        with gzip.open(file_name) as lines:\n",
    "            for l in lines:\n",
    "                lines_to_read += 1\n",
    "            print(lines_to_read)\n",
    "    total = 0\n",
    "    count = 0\n",
    "    data = []\n",
    "    with gzip.open(file_name) as fin, open(csv_file, 'w', encoding='utf-8', newline='\\n') as csv:\n",
    "        header = True\n",
    "        for l in fin:\n",
    "            if nrows == -1:\n",
    "                d = json.loads(l)\n",
    "                out = {'book_id': d['book_id']}\n",
    "                temp = d['authors']\n",
    "                dd = defaultdict(list)\n",
    "                for di in temp:\n",
    "                    for k,v in di.items():\n",
    "                        dd[k].append(v)\n",
    "                for k,v in dd.items():\n",
    "                    out[k] = v\n",
    "                count += 1\n",
    "                total += 1\n",
    "                data.append(out)\n",
    "\n",
    "                if (chunk is not None) and (count > chunk - 1):\n",
    "                    df = pd.DataFrame(data)\n",
    "                    df = df.explode(['author_id', 'role'])\n",
    "                    count = 0\n",
    "                    data.clear()\n",
    "                    df.to_csv(csv, header=header, index=0)\n",
    "                    header = False\n",
    "                \n",
    "                # Last Chunk\n",
    "                if total == lines_to_read:\n",
    "                    df = pd.DataFrame(data)\n",
    "                    df = df.explode(['author_id', 'role'])\n",
    "                    df.to_csv(csv, header=header, index=0)\n",
    "            else:\n",
    "                if total < nrows:\n",
    "                    d = json.loads(l)\n",
    "                    out = {'book_id': d['book_id']}\n",
    "                    temp = d['authors']\n",
    "                    dd = defaultdict(list)\n",
    "                    for di in temp:\n",
    "                        for k,v in di.items():\n",
    "                            dd[k].append(v)\n",
    "                    for k,v in dd.items():\n",
    "                        out[k] = v\n",
    "                    count += 1\n",
    "                    total += 1\n",
    "                    data.append(out)\n",
    "\n",
    "                    if (chunk is not None) and (count > chunk - 1):\n",
    "                        df = pd.DataFrame(data)\n",
    "                        df = df.explode(['author_id', 'role'])\n",
    "                        count = 0\n",
    "                        data.clear()\n",
    "                        df.to_csv(csv, header=header, index=0)\n",
    "                        header = False\n",
    "                else:\n",
    "                    break\n",
    "    return total"
   ]
  },
  {
   "cell_type": "code",
   "execution_count": 6,
   "metadata": {},
   "outputs": [
    {
     "name": "stdout",
     "output_type": "stream",
     "text": [
      "2360655\n"
     ]
    },
    {
     "data": {
      "text/plain": [
       "2360655"
      ]
     },
     "execution_count": 6,
     "metadata": {},
     "output_type": "execute_result"
    }
   ],
   "source": [
    "lw_jcWrites(os.path.join(dir, 'goodreads_books.json.gz'), chunk=1000)"
   ]
  },
  {
   "cell_type": "code",
   "execution_count": 7,
   "metadata": {},
   "outputs": [],
   "source": [
    "wDF = pd.read_csv(os.path.join(dir, 'writes.csv'))"
   ]
  },
  {
   "cell_type": "code",
   "execution_count": 8,
   "metadata": {},
   "outputs": [
    {
     "data": {
      "text/plain": [
       "3324158"
      ]
     },
     "execution_count": 8,
     "metadata": {},
     "output_type": "execute_result"
    }
   ],
   "source": [
    "len(wDF)"
   ]
  },
  {
   "cell_type": "code",
   "execution_count": 9,
   "metadata": {},
   "outputs": [
    {
     "data": {
      "text/html": [
       "<div>\n",
       "<style scoped>\n",
       "    .dataframe tbody tr th:only-of-type {\n",
       "        vertical-align: middle;\n",
       "    }\n",
       "\n",
       "    .dataframe tbody tr th {\n",
       "        vertical-align: top;\n",
       "    }\n",
       "\n",
       "    .dataframe thead th {\n",
       "        text-align: right;\n",
       "    }\n",
       "</style>\n",
       "<table border=\"1\" class=\"dataframe\">\n",
       "  <thead>\n",
       "    <tr style=\"text-align: right;\">\n",
       "      <th></th>\n",
       "      <th>book_id</th>\n",
       "      <th>author_id</th>\n",
       "      <th>role</th>\n",
       "    </tr>\n",
       "  </thead>\n",
       "  <tbody>\n",
       "    <tr>\n",
       "      <th>0</th>\n",
       "      <td>5333265</td>\n",
       "      <td>604031.0</td>\n",
       "      <td>NaN</td>\n",
       "    </tr>\n",
       "    <tr>\n",
       "      <th>1</th>\n",
       "      <td>1333909</td>\n",
       "      <td>626222.0</td>\n",
       "      <td>NaN</td>\n",
       "    </tr>\n",
       "    <tr>\n",
       "      <th>2</th>\n",
       "      <td>7327624</td>\n",
       "      <td>10333.0</td>\n",
       "      <td>NaN</td>\n",
       "    </tr>\n",
       "    <tr>\n",
       "      <th>3</th>\n",
       "      <td>6066819</td>\n",
       "      <td>9212.0</td>\n",
       "      <td>NaN</td>\n",
       "    </tr>\n",
       "    <tr>\n",
       "      <th>4</th>\n",
       "      <td>287140</td>\n",
       "      <td>149918.0</td>\n",
       "      <td>NaN</td>\n",
       "    </tr>\n",
       "    <tr>\n",
       "      <th>...</th>\n",
       "      <td>...</td>\n",
       "      <td>...</td>\n",
       "      <td>...</td>\n",
       "    </tr>\n",
       "    <tr>\n",
       "      <th>3324153</th>\n",
       "      <td>26168430</td>\n",
       "      <td>2448.0</td>\n",
       "      <td>NaN</td>\n",
       "    </tr>\n",
       "    <tr>\n",
       "      <th>3324154</th>\n",
       "      <td>26168430</td>\n",
       "      <td>3460250.0</td>\n",
       "      <td>NaN</td>\n",
       "    </tr>\n",
       "    <tr>\n",
       "      <th>3324155</th>\n",
       "      <td>2342551</td>\n",
       "      <td>82312.0</td>\n",
       "      <td>Editor</td>\n",
       "    </tr>\n",
       "    <tr>\n",
       "      <th>3324156</th>\n",
       "      <td>22017381</td>\n",
       "      <td>7789809.0</td>\n",
       "      <td>NaN</td>\n",
       "    </tr>\n",
       "    <tr>\n",
       "      <th>3324157</th>\n",
       "      <td>11419866</td>\n",
       "      <td>621880.0</td>\n",
       "      <td>NaN</td>\n",
       "    </tr>\n",
       "  </tbody>\n",
       "</table>\n",
       "<p>3324158 rows × 3 columns</p>\n",
       "</div>"
      ],
      "text/plain": [
       "          book_id  author_id    role\n",
       "0         5333265   604031.0     NaN\n",
       "1         1333909   626222.0     NaN\n",
       "2         7327624    10333.0     NaN\n",
       "3         6066819     9212.0     NaN\n",
       "4          287140   149918.0     NaN\n",
       "...           ...        ...     ...\n",
       "3324153  26168430     2448.0     NaN\n",
       "3324154  26168430  3460250.0     NaN\n",
       "3324155   2342551    82312.0  Editor\n",
       "3324156  22017381  7789809.0     NaN\n",
       "3324157  11419866   621880.0     NaN\n",
       "\n",
       "[3324158 rows x 3 columns]"
      ]
     },
     "execution_count": 9,
     "metadata": {},
     "output_type": "execute_result"
    }
   ],
   "source": [
    "wDF"
   ]
  },
  {
   "cell_type": "code",
   "execution_count": 13,
   "metadata": {},
   "outputs": [
    {
     "data": {
      "text/plain": [
       "Translator                    124663\n",
       "Illustrator                   108321\n",
       "Contributor                    86653\n",
       "Editor                         78678\n",
       "Narrator                       40139\n",
       "                               ...  \n",
       "Illustrator (cover)                1\n",
       "Translator: Fatameh Jafari         1\n",
       "s japanskoga prevela               1\n",
       "Review                             1\n",
       "Version                            1\n",
       "Name: role, Length: 7403, dtype: int64"
      ]
     },
     "execution_count": 13,
     "metadata": {},
     "output_type": "execute_result"
    }
   ],
   "source": [
    "wDF['role'].value_counts()"
   ]
  },
  {
   "cell_type": "code",
   "execution_count": 17,
   "metadata": {},
   "outputs": [
    {
     "data": {
      "text/html": [
       "<div>\n",
       "<style scoped>\n",
       "    .dataframe tbody tr th:only-of-type {\n",
       "        vertical-align: middle;\n",
       "    }\n",
       "\n",
       "    .dataframe tbody tr th {\n",
       "        vertical-align: top;\n",
       "    }\n",
       "\n",
       "    .dataframe thead th {\n",
       "        text-align: right;\n",
       "    }\n",
       "</style>\n",
       "<table border=\"1\" class=\"dataframe\">\n",
       "  <thead>\n",
       "    <tr style=\"text-align: right;\">\n",
       "      <th></th>\n",
       "      <th>book_id</th>\n",
       "      <th>author_id</th>\n",
       "      <th>role</th>\n",
       "    </tr>\n",
       "  </thead>\n",
       "  <tbody>\n",
       "    <tr>\n",
       "      <th>2400</th>\n",
       "      <td>23699819</td>\n",
       "      <td>NaN</td>\n",
       "      <td>NaN</td>\n",
       "    </tr>\n",
       "    <tr>\n",
       "      <th>15165</th>\n",
       "      <td>2597774</td>\n",
       "      <td>NaN</td>\n",
       "      <td>NaN</td>\n",
       "    </tr>\n",
       "    <tr>\n",
       "      <th>20221</th>\n",
       "      <td>18521522</td>\n",
       "      <td>NaN</td>\n",
       "      <td>NaN</td>\n",
       "    </tr>\n",
       "    <tr>\n",
       "      <th>25353</th>\n",
       "      <td>28253116</td>\n",
       "      <td>NaN</td>\n",
       "      <td>NaN</td>\n",
       "    </tr>\n",
       "    <tr>\n",
       "      <th>30671</th>\n",
       "      <td>17796597</td>\n",
       "      <td>NaN</td>\n",
       "      <td>NaN</td>\n",
       "    </tr>\n",
       "    <tr>\n",
       "      <th>...</th>\n",
       "      <td>...</td>\n",
       "      <td>...</td>\n",
       "      <td>...</td>\n",
       "    </tr>\n",
       "    <tr>\n",
       "      <th>3292670</th>\n",
       "      <td>26206589</td>\n",
       "      <td>NaN</td>\n",
       "      <td>NaN</td>\n",
       "    </tr>\n",
       "    <tr>\n",
       "      <th>3293465</th>\n",
       "      <td>1944688</td>\n",
       "      <td>NaN</td>\n",
       "      <td>NaN</td>\n",
       "    </tr>\n",
       "    <tr>\n",
       "      <th>3304936</th>\n",
       "      <td>26253723</td>\n",
       "      <td>NaN</td>\n",
       "      <td>NaN</td>\n",
       "    </tr>\n",
       "    <tr>\n",
       "      <th>3309356</th>\n",
       "      <td>23777395</td>\n",
       "      <td>NaN</td>\n",
       "      <td>NaN</td>\n",
       "    </tr>\n",
       "    <tr>\n",
       "      <th>3312005</th>\n",
       "      <td>7107185</td>\n",
       "      <td>NaN</td>\n",
       "      <td>NaN</td>\n",
       "    </tr>\n",
       "  </tbody>\n",
       "</table>\n",
       "<p>537 rows × 3 columns</p>\n",
       "</div>"
      ],
      "text/plain": [
       "          book_id  author_id role\n",
       "2400     23699819        NaN  NaN\n",
       "15165     2597774        NaN  NaN\n",
       "20221    18521522        NaN  NaN\n",
       "25353    28253116        NaN  NaN\n",
       "30671    17796597        NaN  NaN\n",
       "...           ...        ...  ...\n",
       "3292670  26206589        NaN  NaN\n",
       "3293465   1944688        NaN  NaN\n",
       "3304936  26253723        NaN  NaN\n",
       "3309356  23777395        NaN  NaN\n",
       "3312005   7107185        NaN  NaN\n",
       "\n",
       "[537 rows x 3 columns]"
      ]
     },
     "execution_count": 17,
     "metadata": {},
     "output_type": "execute_result"
    }
   ],
   "source": [
    "wDF[wDF['author_id'].isna()]"
   ]
  },
  {
   "cell_type": "code",
   "execution_count": 22,
   "metadata": {},
   "outputs": [],
   "source": [
    "dd_int = dd.read_csv(os.path.join(dir, 'goodreads_interactions.csv'))"
   ]
  },
  {
   "cell_type": "code",
   "execution_count": 23,
   "metadata": {},
   "outputs": [
    {
     "data": {
      "text/html": [
       "<div><strong>Dask DataFrame Structure:</strong></div>\n",
       "<div>\n",
       "<style scoped>\n",
       "    .dataframe tbody tr th:only-of-type {\n",
       "        vertical-align: middle;\n",
       "    }\n",
       "\n",
       "    .dataframe tbody tr th {\n",
       "        vertical-align: top;\n",
       "    }\n",
       "\n",
       "    .dataframe thead th {\n",
       "        text-align: right;\n",
       "    }\n",
       "</style>\n",
       "<table border=\"1\" class=\"dataframe\">\n",
       "  <thead>\n",
       "    <tr style=\"text-align: right;\">\n",
       "      <th></th>\n",
       "      <th>user_id</th>\n",
       "      <th>book_id</th>\n",
       "      <th>is_read</th>\n",
       "      <th>rating</th>\n",
       "      <th>is_reviewed</th>\n",
       "    </tr>\n",
       "    <tr>\n",
       "      <th>npartitions=68</th>\n",
       "      <th></th>\n",
       "      <th></th>\n",
       "      <th></th>\n",
       "      <th></th>\n",
       "      <th></th>\n",
       "    </tr>\n",
       "  </thead>\n",
       "  <tbody>\n",
       "    <tr>\n",
       "      <th></th>\n",
       "      <td>int64</td>\n",
       "      <td>int64</td>\n",
       "      <td>int64</td>\n",
       "      <td>int64</td>\n",
       "      <td>int64</td>\n",
       "    </tr>\n",
       "    <tr>\n",
       "      <th></th>\n",
       "      <td>...</td>\n",
       "      <td>...</td>\n",
       "      <td>...</td>\n",
       "      <td>...</td>\n",
       "      <td>...</td>\n",
       "    </tr>\n",
       "    <tr>\n",
       "      <th>...</th>\n",
       "      <td>...</td>\n",
       "      <td>...</td>\n",
       "      <td>...</td>\n",
       "      <td>...</td>\n",
       "      <td>...</td>\n",
       "    </tr>\n",
       "    <tr>\n",
       "      <th></th>\n",
       "      <td>...</td>\n",
       "      <td>...</td>\n",
       "      <td>...</td>\n",
       "      <td>...</td>\n",
       "      <td>...</td>\n",
       "    </tr>\n",
       "    <tr>\n",
       "      <th></th>\n",
       "      <td>...</td>\n",
       "      <td>...</td>\n",
       "      <td>...</td>\n",
       "      <td>...</td>\n",
       "      <td>...</td>\n",
       "    </tr>\n",
       "  </tbody>\n",
       "</table>\n",
       "</div>\n",
       "<div>Dask Name: read-csv, 68 tasks</div>"
      ],
      "text/plain": [
       "Dask DataFrame Structure:\n",
       "               user_id book_id is_read rating is_reviewed\n",
       "npartitions=68                                           \n",
       "                 int64   int64   int64  int64       int64\n",
       "                   ...     ...     ...    ...         ...\n",
       "...                ...     ...     ...    ...         ...\n",
       "                   ...     ...     ...    ...         ...\n",
       "                   ...     ...     ...    ...         ...\n",
       "Dask Name: read-csv, 68 tasks"
      ]
     },
     "execution_count": 23,
     "metadata": {},
     "output_type": "execute_result"
    }
   ],
   "source": [
    "dd_int"
   ]
  },
  {
   "cell_type": "code",
   "execution_count": 24,
   "metadata": {},
   "outputs": [],
   "source": [
    "bmap = pd.read_csv(os.path.join(dir, 'book_id_map.csv'))"
   ]
  },
  {
   "cell_type": "code",
   "execution_count": 25,
   "metadata": {},
   "outputs": [
    {
     "data": {
      "text/html": [
       "<div>\n",
       "<style scoped>\n",
       "    .dataframe tbody tr th:only-of-type {\n",
       "        vertical-align: middle;\n",
       "    }\n",
       "\n",
       "    .dataframe tbody tr th {\n",
       "        vertical-align: top;\n",
       "    }\n",
       "\n",
       "    .dataframe thead th {\n",
       "        text-align: right;\n",
       "    }\n",
       "</style>\n",
       "<table border=\"1\" class=\"dataframe\">\n",
       "  <thead>\n",
       "    <tr style=\"text-align: right;\">\n",
       "      <th></th>\n",
       "      <th>book_id_csv</th>\n",
       "      <th>book_id</th>\n",
       "    </tr>\n",
       "  </thead>\n",
       "  <tbody>\n",
       "    <tr>\n",
       "      <th>0</th>\n",
       "      <td>0</td>\n",
       "      <td>34684622</td>\n",
       "    </tr>\n",
       "    <tr>\n",
       "      <th>1</th>\n",
       "      <td>1</td>\n",
       "      <td>34536488</td>\n",
       "    </tr>\n",
       "    <tr>\n",
       "      <th>2</th>\n",
       "      <td>2</td>\n",
       "      <td>34017076</td>\n",
       "    </tr>\n",
       "    <tr>\n",
       "      <th>3</th>\n",
       "      <td>3</td>\n",
       "      <td>71730</td>\n",
       "    </tr>\n",
       "    <tr>\n",
       "      <th>4</th>\n",
       "      <td>4</td>\n",
       "      <td>30422361</td>\n",
       "    </tr>\n",
       "    <tr>\n",
       "      <th>...</th>\n",
       "      <td>...</td>\n",
       "      <td>...</td>\n",
       "    </tr>\n",
       "    <tr>\n",
       "      <th>2360645</th>\n",
       "      <td>2360645</td>\n",
       "      <td>19517100</td>\n",
       "    </tr>\n",
       "    <tr>\n",
       "      <th>2360646</th>\n",
       "      <td>2360646</td>\n",
       "      <td>18597299</td>\n",
       "    </tr>\n",
       "    <tr>\n",
       "      <th>2360647</th>\n",
       "      <td>2360647</td>\n",
       "      <td>18584882</td>\n",
       "    </tr>\n",
       "    <tr>\n",
       "      <th>2360648</th>\n",
       "      <td>2360648</td>\n",
       "      <td>18518801</td>\n",
       "    </tr>\n",
       "    <tr>\n",
       "      <th>2360649</th>\n",
       "      <td>2360649</td>\n",
       "      <td>18518607</td>\n",
       "    </tr>\n",
       "  </tbody>\n",
       "</table>\n",
       "<p>2360650 rows × 2 columns</p>\n",
       "</div>"
      ],
      "text/plain": [
       "         book_id_csv   book_id\n",
       "0                  0  34684622\n",
       "1                  1  34536488\n",
       "2                  2  34017076\n",
       "3                  3     71730\n",
       "4                  4  30422361\n",
       "...              ...       ...\n",
       "2360645      2360645  19517100\n",
       "2360646      2360646  18597299\n",
       "2360647      2360647  18584882\n",
       "2360648      2360648  18518801\n",
       "2360649      2360649  18518607\n",
       "\n",
       "[2360650 rows x 2 columns]"
      ]
     },
     "execution_count": 25,
     "metadata": {},
     "output_type": "execute_result"
    }
   ],
   "source": [
    "bmap"
   ]
  },
  {
   "cell_type": "code",
   "execution_count": 26,
   "metadata": {},
   "outputs": [
    {
     "data": {
      "text/html": [
       "<div><strong>Dask DataFrame Structure:</strong></div>\n",
       "<div>\n",
       "<style scoped>\n",
       "    .dataframe tbody tr th:only-of-type {\n",
       "        vertical-align: middle;\n",
       "    }\n",
       "\n",
       "    .dataframe tbody tr th {\n",
       "        vertical-align: top;\n",
       "    }\n",
       "\n",
       "    .dataframe thead th {\n",
       "        text-align: right;\n",
       "    }\n",
       "</style>\n",
       "<table border=\"1\" class=\"dataframe\">\n",
       "  <thead>\n",
       "    <tr style=\"text-align: right;\">\n",
       "      <th></th>\n",
       "      <th>user_id</th>\n",
       "      <th>book_id_x</th>\n",
       "      <th>is_read</th>\n",
       "      <th>rating</th>\n",
       "      <th>is_reviewed</th>\n",
       "      <th>book_id_csv</th>\n",
       "      <th>book_id_y</th>\n",
       "    </tr>\n",
       "    <tr>\n",
       "      <th>npartitions=68</th>\n",
       "      <th></th>\n",
       "      <th></th>\n",
       "      <th></th>\n",
       "      <th></th>\n",
       "      <th></th>\n",
       "      <th></th>\n",
       "      <th></th>\n",
       "    </tr>\n",
       "  </thead>\n",
       "  <tbody>\n",
       "    <tr>\n",
       "      <th></th>\n",
       "      <td>int64</td>\n",
       "      <td>int64</td>\n",
       "      <td>int64</td>\n",
       "      <td>int64</td>\n",
       "      <td>int64</td>\n",
       "      <td>int64</td>\n",
       "      <td>int64</td>\n",
       "    </tr>\n",
       "    <tr>\n",
       "      <th></th>\n",
       "      <td>...</td>\n",
       "      <td>...</td>\n",
       "      <td>...</td>\n",
       "      <td>...</td>\n",
       "      <td>...</td>\n",
       "      <td>...</td>\n",
       "      <td>...</td>\n",
       "    </tr>\n",
       "    <tr>\n",
       "      <th>...</th>\n",
       "      <td>...</td>\n",
       "      <td>...</td>\n",
       "      <td>...</td>\n",
       "      <td>...</td>\n",
       "      <td>...</td>\n",
       "      <td>...</td>\n",
       "      <td>...</td>\n",
       "    </tr>\n",
       "    <tr>\n",
       "      <th></th>\n",
       "      <td>...</td>\n",
       "      <td>...</td>\n",
       "      <td>...</td>\n",
       "      <td>...</td>\n",
       "      <td>...</td>\n",
       "      <td>...</td>\n",
       "      <td>...</td>\n",
       "    </tr>\n",
       "    <tr>\n",
       "      <th></th>\n",
       "      <td>...</td>\n",
       "      <td>...</td>\n",
       "      <td>...</td>\n",
       "      <td>...</td>\n",
       "      <td>...</td>\n",
       "      <td>...</td>\n",
       "      <td>...</td>\n",
       "    </tr>\n",
       "  </tbody>\n",
       "</table>\n",
       "</div>\n",
       "<div>Dask Name: merge, 137 tasks</div>"
      ],
      "text/plain": [
       "Dask DataFrame Structure:\n",
       "               user_id book_id_x is_read rating is_reviewed book_id_csv book_id_y\n",
       "npartitions=68                                                                   \n",
       "                 int64     int64   int64  int64       int64       int64     int64\n",
       "                   ...       ...     ...    ...         ...         ...       ...\n",
       "...                ...       ...     ...    ...         ...         ...       ...\n",
       "                   ...       ...     ...    ...         ...         ...       ...\n",
       "                   ...       ...     ...    ...         ...         ...       ...\n",
       "Dask Name: merge, 137 tasks"
      ]
     },
     "execution_count": 26,
     "metadata": {},
     "output_type": "execute_result"
    }
   ],
   "source": [
    "dd_int.merge(bmap, left_on='book_id', right_on='book_id_csv')"
   ]
  },
  {
   "cell_type": "code",
   "execution_count": 28,
   "metadata": {},
   "outputs": [],
   "source": [
    "dd_int = dd_int.merge(bmap, left_on='book_id', right_on='book_id_csv')"
   ]
  },
  {
   "cell_type": "code",
   "execution_count": 29,
   "metadata": {},
   "outputs": [
    {
     "data": {
      "text/html": [
       "<div><strong>Dask DataFrame Structure:</strong></div>\n",
       "<div>\n",
       "<style scoped>\n",
       "    .dataframe tbody tr th:only-of-type {\n",
       "        vertical-align: middle;\n",
       "    }\n",
       "\n",
       "    .dataframe tbody tr th {\n",
       "        vertical-align: top;\n",
       "    }\n",
       "\n",
       "    .dataframe thead th {\n",
       "        text-align: right;\n",
       "    }\n",
       "</style>\n",
       "<table border=\"1\" class=\"dataframe\">\n",
       "  <thead>\n",
       "    <tr style=\"text-align: right;\">\n",
       "      <th></th>\n",
       "      <th>user_id</th>\n",
       "      <th>book_id_x</th>\n",
       "      <th>is_read</th>\n",
       "      <th>rating</th>\n",
       "      <th>is_reviewed</th>\n",
       "      <th>book_id_csv</th>\n",
       "      <th>book_id_y</th>\n",
       "    </tr>\n",
       "    <tr>\n",
       "      <th>npartitions=68</th>\n",
       "      <th></th>\n",
       "      <th></th>\n",
       "      <th></th>\n",
       "      <th></th>\n",
       "      <th></th>\n",
       "      <th></th>\n",
       "      <th></th>\n",
       "    </tr>\n",
       "  </thead>\n",
       "  <tbody>\n",
       "    <tr>\n",
       "      <th></th>\n",
       "      <td>int64</td>\n",
       "      <td>int64</td>\n",
       "      <td>int64</td>\n",
       "      <td>int64</td>\n",
       "      <td>int64</td>\n",
       "      <td>int64</td>\n",
       "      <td>int64</td>\n",
       "    </tr>\n",
       "    <tr>\n",
       "      <th></th>\n",
       "      <td>...</td>\n",
       "      <td>...</td>\n",
       "      <td>...</td>\n",
       "      <td>...</td>\n",
       "      <td>...</td>\n",
       "      <td>...</td>\n",
       "      <td>...</td>\n",
       "    </tr>\n",
       "    <tr>\n",
       "      <th>...</th>\n",
       "      <td>...</td>\n",
       "      <td>...</td>\n",
       "      <td>...</td>\n",
       "      <td>...</td>\n",
       "      <td>...</td>\n",
       "      <td>...</td>\n",
       "      <td>...</td>\n",
       "    </tr>\n",
       "    <tr>\n",
       "      <th></th>\n",
       "      <td>...</td>\n",
       "      <td>...</td>\n",
       "      <td>...</td>\n",
       "      <td>...</td>\n",
       "      <td>...</td>\n",
       "      <td>...</td>\n",
       "      <td>...</td>\n",
       "    </tr>\n",
       "    <tr>\n",
       "      <th></th>\n",
       "      <td>...</td>\n",
       "      <td>...</td>\n",
       "      <td>...</td>\n",
       "      <td>...</td>\n",
       "      <td>...</td>\n",
       "      <td>...</td>\n",
       "      <td>...</td>\n",
       "    </tr>\n",
       "  </tbody>\n",
       "</table>\n",
       "</div>\n",
       "<div>Dask Name: merge, 137 tasks</div>"
      ],
      "text/plain": [
       "Dask DataFrame Structure:\n",
       "               user_id book_id_x is_read rating is_reviewed book_id_csv book_id_y\n",
       "npartitions=68                                                                   \n",
       "                 int64     int64   int64  int64       int64       int64     int64\n",
       "                   ...       ...     ...    ...         ...         ...       ...\n",
       "...                ...       ...     ...    ...         ...         ...       ...\n",
       "                   ...       ...     ...    ...         ...         ...       ...\n",
       "                   ...       ...     ...    ...         ...         ...       ...\n",
       "Dask Name: merge, 137 tasks"
      ]
     },
     "execution_count": 29,
     "metadata": {},
     "output_type": "execute_result"
    }
   ],
   "source": [
    "dd_int"
   ]
  },
  {
   "cell_type": "code",
   "execution_count": null,
   "metadata": {},
   "outputs": [],
   "source": [
    "dd_int = dd_int.drop(['book_id_x', 'book_id_csv'], axis=1)"
   ]
  },
  {
   "cell_type": "code",
   "execution_count": 42,
   "metadata": {},
   "outputs": [],
   "source": [
    "dd_int = dd_int.rename(columns={'book_id_y':'book_id'})"
   ]
  },
  {
   "cell_type": "code",
   "execution_count": 44,
   "metadata": {},
   "outputs": [
    {
     "data": {
      "text/plain": [
       "228648342"
      ]
     },
     "execution_count": 44,
     "metadata": {},
     "output_type": "execute_result"
    }
   ],
   "source": [
    "len(dd_int)"
   ]
  },
  {
   "cell_type": "code",
   "execution_count": 52,
   "metadata": {},
   "outputs": [
    {
     "data": {
      "text/plain": [
       "['C:/Users/Matthew Sitzer/Downloads/Data for Project/interactions.csv']"
      ]
     },
     "execution_count": 52,
     "metadata": {},
     "output_type": "execute_result"
    }
   ],
   "source": [
    "dd_int.to_csv(os.path.join(dir, 'interactions.csv'),  single_file=True, )"
   ]
  },
  {
   "cell_type": "code",
   "execution_count": 46,
   "metadata": {},
   "outputs": [],
   "source": [
    "orig_int = dd.read_csv(os.path.join(dir, 'goodreads_interactions.csv'))"
   ]
  },
  {
   "cell_type": "code",
   "execution_count": 47,
   "metadata": {},
   "outputs": [
    {
     "data": {
      "text/plain": [
       "228648342"
      ]
     },
     "execution_count": 47,
     "metadata": {},
     "output_type": "execute_result"
    }
   ],
   "source": [
    "len(orig_int)"
   ]
  },
  {
   "cell_type": "code",
   "execution_count": 51,
   "metadata": {},
   "outputs": [
    {
     "data": {
      "text/plain": [
       "user_id        False\n",
       "book_id        False\n",
       "is_read        False\n",
       "rating         False\n",
       "is_reviewed    False\n",
       "dtype: bool"
      ]
     },
     "execution_count": 51,
     "metadata": {},
     "output_type": "execute_result"
    }
   ],
   "source": [
    "orig_int.isna().any().compute()"
   ]
  },
  {
   "cell_type": "code",
   "execution_count": 57,
   "metadata": {},
   "outputs": [
    {
     "data": {
      "text/html": [
       "<div>\n",
       "<style scoped>\n",
       "    .dataframe tbody tr th:only-of-type {\n",
       "        vertical-align: middle;\n",
       "    }\n",
       "\n",
       "    .dataframe tbody tr th {\n",
       "        vertical-align: top;\n",
       "    }\n",
       "\n",
       "    .dataframe thead th {\n",
       "        text-align: right;\n",
       "    }\n",
       "</style>\n",
       "<table border=\"1\" class=\"dataframe\">\n",
       "  <thead>\n",
       "    <tr style=\"text-align: right;\">\n",
       "      <th></th>\n",
       "      <th>user_id</th>\n",
       "      <th>book_id</th>\n",
       "      <th>is_read</th>\n",
       "      <th>rating</th>\n",
       "      <th>is_reviewed</th>\n",
       "    </tr>\n",
       "  </thead>\n",
       "  <tbody>\n",
       "    <tr>\n",
       "      <th>0</th>\n",
       "      <td>0</td>\n",
       "      <td>948</td>\n",
       "      <td>1</td>\n",
       "      <td>5</td>\n",
       "      <td>0</td>\n",
       "    </tr>\n",
       "    <tr>\n",
       "      <th>1</th>\n",
       "      <td>0</td>\n",
       "      <td>947</td>\n",
       "      <td>1</td>\n",
       "      <td>5</td>\n",
       "      <td>1</td>\n",
       "    </tr>\n",
       "    <tr>\n",
       "      <th>2</th>\n",
       "      <td>0</td>\n",
       "      <td>946</td>\n",
       "      <td>1</td>\n",
       "      <td>5</td>\n",
       "      <td>0</td>\n",
       "    </tr>\n",
       "    <tr>\n",
       "      <th>3</th>\n",
       "      <td>0</td>\n",
       "      <td>945</td>\n",
       "      <td>1</td>\n",
       "      <td>5</td>\n",
       "      <td>0</td>\n",
       "    </tr>\n",
       "    <tr>\n",
       "      <th>4</th>\n",
       "      <td>0</td>\n",
       "      <td>944</td>\n",
       "      <td>1</td>\n",
       "      <td>5</td>\n",
       "      <td>0</td>\n",
       "    </tr>\n",
       "  </tbody>\n",
       "</table>\n",
       "</div>"
      ],
      "text/plain": [
       "   user_id  book_id  is_read  rating  is_reviewed\n",
       "0        0      948        1       5            0\n",
       "1        0      947        1       5            1\n",
       "2        0      946        1       5            0\n",
       "3        0      945        1       5            0\n",
       "4        0      944        1       5            0"
      ]
     },
     "execution_count": 57,
     "metadata": {},
     "output_type": "execute_result"
    }
   ],
   "source": [
    "orig_int.head()"
   ]
  },
  {
   "cell_type": "code",
   "execution_count": 53,
   "metadata": {},
   "outputs": [],
   "source": [
    "new_int = dd.read_csv(os.path.join(dir, 'interactions.csv'))"
   ]
  },
  {
   "cell_type": "code",
   "execution_count": 54,
   "metadata": {},
   "outputs": [
    {
     "data": {
      "text/plain": [
       "228648342"
      ]
     },
     "execution_count": 54,
     "metadata": {},
     "output_type": "execute_result"
    }
   ],
   "source": [
    "len(new_int)"
   ]
  },
  {
   "cell_type": "code",
   "execution_count": 56,
   "metadata": {},
   "outputs": [
    {
     "data": {
      "text/html": [
       "<div>\n",
       "<style scoped>\n",
       "    .dataframe tbody tr th:only-of-type {\n",
       "        vertical-align: middle;\n",
       "    }\n",
       "\n",
       "    .dataframe tbody tr th {\n",
       "        vertical-align: top;\n",
       "    }\n",
       "\n",
       "    .dataframe thead th {\n",
       "        text-align: right;\n",
       "    }\n",
       "</style>\n",
       "<table border=\"1\" class=\"dataframe\">\n",
       "  <thead>\n",
       "    <tr style=\"text-align: right;\">\n",
       "      <th></th>\n",
       "      <th>Unnamed: 0</th>\n",
       "      <th>user_id</th>\n",
       "      <th>is_read</th>\n",
       "      <th>rating</th>\n",
       "      <th>is_reviewed</th>\n",
       "      <th>book_id</th>\n",
       "    </tr>\n",
       "  </thead>\n",
       "  <tbody>\n",
       "    <tr>\n",
       "      <th>0</th>\n",
       "      <td>0</td>\n",
       "      <td>0</td>\n",
       "      <td>1</td>\n",
       "      <td>5</td>\n",
       "      <td>0</td>\n",
       "      <td>12</td>\n",
       "    </tr>\n",
       "    <tr>\n",
       "      <th>1</th>\n",
       "      <td>1</td>\n",
       "      <td>201</td>\n",
       "      <td>1</td>\n",
       "      <td>3</td>\n",
       "      <td>0</td>\n",
       "      <td>12</td>\n",
       "    </tr>\n",
       "    <tr>\n",
       "      <th>2</th>\n",
       "      <td>2</td>\n",
       "      <td>339</td>\n",
       "      <td>1</td>\n",
       "      <td>3</td>\n",
       "      <td>1</td>\n",
       "      <td>12</td>\n",
       "    </tr>\n",
       "    <tr>\n",
       "      <th>3</th>\n",
       "      <td>3</td>\n",
       "      <td>683</td>\n",
       "      <td>1</td>\n",
       "      <td>5</td>\n",
       "      <td>0</td>\n",
       "      <td>12</td>\n",
       "    </tr>\n",
       "    <tr>\n",
       "      <th>4</th>\n",
       "      <td>4</td>\n",
       "      <td>1856</td>\n",
       "      <td>0</td>\n",
       "      <td>0</td>\n",
       "      <td>0</td>\n",
       "      <td>12</td>\n",
       "    </tr>\n",
       "  </tbody>\n",
       "</table>\n",
       "</div>"
      ],
      "text/plain": [
       "   Unnamed: 0  user_id  is_read  rating  is_reviewed  book_id\n",
       "0           0        0        1       5            0       12\n",
       "1           1      201        1       3            0       12\n",
       "2           2      339        1       3            1       12\n",
       "3           3      683        1       5            0       12\n",
       "4           4     1856        0       0            0       12"
      ]
     },
     "execution_count": 56,
     "metadata": {},
     "output_type": "execute_result"
    }
   ],
   "source": [
    "new_int.head()"
   ]
  },
  {
   "cell_type": "code",
   "execution_count": 61,
   "metadata": {},
   "outputs": [],
   "source": [
    "test_values = new_int.loc[new_int['book_id'] == 7327624].compute()"
   ]
  },
  {
   "cell_type": "code",
   "execution_count": 63,
   "metadata": {},
   "outputs": [
    {
     "data": {
      "text/plain": [
       "58"
      ]
     },
     "execution_count": 63,
     "metadata": {},
     "output_type": "execute_result"
    }
   ],
   "source": [
    "len(test_values)"
   ]
  },
  {
   "cell_type": "code",
   "execution_count": 23,
   "metadata": {},
   "outputs": [],
   "source": [
    "def load_data(filename, val=None, col=None):\n",
    "    count = 0\n",
    "    data = []\n",
    "    with gzip.open(filename) as fin:\n",
    "        if not val and not col:\n",
    "            for l in fin:\n",
    "                d = json.loads(l)\n",
    "                count += 1\n",
    "                data.append(d)\n",
    "        else:\n",
    "            for l in fin:\n",
    "                d = json.loads(l)\n",
    "                v = d[col]\n",
    "                if val in v:\n",
    "                    count += 1\n",
    "                    data.append(d)\n",
    "    print(count)\n",
    "    return data"
   ]
  },
  {
   "cell_type": "code",
   "execution_count": 24,
   "metadata": {},
   "outputs": [
    {
     "name": "stdout",
     "output_type": "stream",
     "text": [
      "5\n"
     ]
    }
   ],
   "source": [
    "test_book = load_data(os.path.join(dir, 'goodreads_books.json.gz'), '396821', 'book_id')"
   ]
  },
  {
   "cell_type": "code",
   "execution_count": 30,
   "metadata": {},
   "outputs": [
    {
     "data": {
      "text/html": [
       "<div>\n",
       "<style scoped>\n",
       "    .dataframe tbody tr th:only-of-type {\n",
       "        vertical-align: middle;\n",
       "    }\n",
       "\n",
       "    .dataframe tbody tr th {\n",
       "        vertical-align: top;\n",
       "    }\n",
       "\n",
       "    .dataframe thead th {\n",
       "        text-align: right;\n",
       "    }\n",
       "</style>\n",
       "<table border=\"1\" class=\"dataframe\">\n",
       "  <thead>\n",
       "    <tr style=\"text-align: right;\">\n",
       "      <th></th>\n",
       "      <th>description</th>\n",
       "    </tr>\n",
       "  </thead>\n",
       "  <tbody>\n",
       "    <tr>\n",
       "      <th>0</th>\n",
       "      <td></td>\n",
       "    </tr>\n",
       "  </tbody>\n",
       "</table>\n",
       "</div>"
      ],
      "text/plain": [
       "  description\n",
       "0            "
      ]
     },
     "execution_count": 30,
     "metadata": {},
     "output_type": "execute_result"
    }
   ],
   "source": [
    "pd.DataFrame([test_book[0]])[['description']]"
   ]
  },
  {
   "cell_type": "code",
   "execution_count": 16,
   "metadata": {},
   "outputs": [
    {
     "name": "stdout",
     "output_type": "stream",
     "text": [
      "829529\n"
     ]
    }
   ],
   "source": [
    "authors = load_data(os.path.join(dir, 'goodreads_book_authors.json.gz'))"
   ]
  },
  {
   "cell_type": "code",
   "execution_count": 20,
   "metadata": {},
   "outputs": [
    {
     "data": {
      "text/plain": [
       "[{'average_rating': '3.98',\n",
       "  'author_id': '604031',\n",
       "  'text_reviews_count': '7',\n",
       "  'name': 'Ronald J. Fields',\n",
       "  'ratings_count': '49'},\n",
       " {'average_rating': '4.08',\n",
       "  'author_id': '626222',\n",
       "  'text_reviews_count': '28716',\n",
       "  'name': 'Anita Diamant',\n",
       "  'ratings_count': '546796'}]"
      ]
     },
     "execution_count": 20,
     "metadata": {},
     "output_type": "execute_result"
    }
   ],
   "source": [
    "authors[:2]"
   ]
  },
  {
   "cell_type": "code",
   "execution_count": 21,
   "metadata": {},
   "outputs": [],
   "source": [
    "authors_df = pd.DataFrame(authors)"
   ]
  },
  {
   "cell_type": "code",
   "execution_count": 22,
   "metadata": {},
   "outputs": [
    {
     "data": {
      "text/html": [
       "<div>\n",
       "<style scoped>\n",
       "    .dataframe tbody tr th:only-of-type {\n",
       "        vertical-align: middle;\n",
       "    }\n",
       "\n",
       "    .dataframe tbody tr th {\n",
       "        vertical-align: top;\n",
       "    }\n",
       "\n",
       "    .dataframe thead th {\n",
       "        text-align: right;\n",
       "    }\n",
       "</style>\n",
       "<table border=\"1\" class=\"dataframe\">\n",
       "  <thead>\n",
       "    <tr style=\"text-align: right;\">\n",
       "      <th></th>\n",
       "      <th>average_rating</th>\n",
       "      <th>author_id</th>\n",
       "      <th>text_reviews_count</th>\n",
       "      <th>name</th>\n",
       "      <th>ratings_count</th>\n",
       "    </tr>\n",
       "  </thead>\n",
       "  <tbody>\n",
       "    <tr>\n",
       "      <th>0</th>\n",
       "      <td>3.98</td>\n",
       "      <td>604031</td>\n",
       "      <td>7</td>\n",
       "      <td>Ronald J. Fields</td>\n",
       "      <td>49</td>\n",
       "    </tr>\n",
       "    <tr>\n",
       "      <th>1</th>\n",
       "      <td>4.08</td>\n",
       "      <td>626222</td>\n",
       "      <td>28716</td>\n",
       "      <td>Anita Diamant</td>\n",
       "      <td>546796</td>\n",
       "    </tr>\n",
       "    <tr>\n",
       "      <th>2</th>\n",
       "      <td>3.92</td>\n",
       "      <td>10333</td>\n",
       "      <td>5075</td>\n",
       "      <td>Barbara Hambly</td>\n",
       "      <td>122118</td>\n",
       "    </tr>\n",
       "    <tr>\n",
       "      <th>3</th>\n",
       "      <td>3.68</td>\n",
       "      <td>9212</td>\n",
       "      <td>36262</td>\n",
       "      <td>Jennifer Weiner</td>\n",
       "      <td>888522</td>\n",
       "    </tr>\n",
       "    <tr>\n",
       "      <th>4</th>\n",
       "      <td>3.82</td>\n",
       "      <td>149918</td>\n",
       "      <td>96</td>\n",
       "      <td>Nigel Pennick</td>\n",
       "      <td>1740</td>\n",
       "    </tr>\n",
       "  </tbody>\n",
       "</table>\n",
       "</div>"
      ],
      "text/plain": [
       "  average_rating author_id text_reviews_count              name ratings_count\n",
       "0           3.98    604031                  7  Ronald J. Fields            49\n",
       "1           4.08    626222              28716     Anita Diamant        546796\n",
       "2           3.92     10333               5075    Barbara Hambly        122118\n",
       "3           3.68      9212              36262   Jennifer Weiner        888522\n",
       "4           3.82    149918                 96     Nigel Pennick          1740"
      ]
     },
     "execution_count": 22,
     "metadata": {},
     "output_type": "execute_result"
    }
   ],
   "source": [
    "authors_df.head()"
   ]
  },
  {
   "cell_type": "code",
   "execution_count": 24,
   "metadata": {},
   "outputs": [],
   "source": [
    "authors_df = authors_df.drop(['average_rating', 'text_reviews_count', 'ratings_count'], axis=1)"
   ]
  },
  {
   "cell_type": "code",
   "execution_count": 25,
   "metadata": {},
   "outputs": [
    {
     "data": {
      "text/html": [
       "<div>\n",
       "<style scoped>\n",
       "    .dataframe tbody tr th:only-of-type {\n",
       "        vertical-align: middle;\n",
       "    }\n",
       "\n",
       "    .dataframe tbody tr th {\n",
       "        vertical-align: top;\n",
       "    }\n",
       "\n",
       "    .dataframe thead th {\n",
       "        text-align: right;\n",
       "    }\n",
       "</style>\n",
       "<table border=\"1\" class=\"dataframe\">\n",
       "  <thead>\n",
       "    <tr style=\"text-align: right;\">\n",
       "      <th></th>\n",
       "      <th>author_id</th>\n",
       "      <th>name</th>\n",
       "    </tr>\n",
       "  </thead>\n",
       "  <tbody>\n",
       "    <tr>\n",
       "      <th>0</th>\n",
       "      <td>604031</td>\n",
       "      <td>Ronald J. Fields</td>\n",
       "    </tr>\n",
       "    <tr>\n",
       "      <th>1</th>\n",
       "      <td>626222</td>\n",
       "      <td>Anita Diamant</td>\n",
       "    </tr>\n",
       "    <tr>\n",
       "      <th>2</th>\n",
       "      <td>10333</td>\n",
       "      <td>Barbara Hambly</td>\n",
       "    </tr>\n",
       "    <tr>\n",
       "      <th>3</th>\n",
       "      <td>9212</td>\n",
       "      <td>Jennifer Weiner</td>\n",
       "    </tr>\n",
       "    <tr>\n",
       "      <th>4</th>\n",
       "      <td>149918</td>\n",
       "      <td>Nigel Pennick</td>\n",
       "    </tr>\n",
       "  </tbody>\n",
       "</table>\n",
       "</div>"
      ],
      "text/plain": [
       "  author_id              name\n",
       "0    604031  Ronald J. Fields\n",
       "1    626222     Anita Diamant\n",
       "2     10333    Barbara Hambly\n",
       "3      9212   Jennifer Weiner\n",
       "4    149918     Nigel Pennick"
      ]
     },
     "execution_count": 25,
     "metadata": {},
     "output_type": "execute_result"
    }
   ],
   "source": [
    "authors_df.head()"
   ]
  },
  {
   "cell_type": "code",
   "execution_count": 27,
   "metadata": {},
   "outputs": [],
   "source": [
    "authors_df.to_csv(os.path.join(dir, 'authors.csv'), header=True, index=0)"
   ]
  },
  {
   "cell_type": "code",
   "execution_count": 30,
   "metadata": {},
   "outputs": [
    {
     "name": "stdout",
     "output_type": "stream",
     "text": [
      "2360655\n"
     ]
    }
   ],
   "source": [
    "genres = load_data(os.path.join(dir, 'goodreads_book_genres_initial.json.gz'))"
   ]
  },
  {
   "cell_type": "code",
   "execution_count": 31,
   "metadata": {},
   "outputs": [
    {
     "data": {
      "text/plain": [
       "[{'book_id': '5333265',\n",
       "  'genres': {'history, historical fiction, biography': 1}},\n",
       " {'book_id': '1333909',\n",
       "  'genres': {'fiction': 219, 'history, historical fiction, biography': 5}}]"
      ]
     },
     "execution_count": 31,
     "metadata": {},
     "output_type": "execute_result"
    }
   ],
   "source": [
    "genres[:2]"
   ]
  },
  {
   "cell_type": "code",
   "execution_count": 32,
   "metadata": {},
   "outputs": [],
   "source": [
    "genres_df = pd.DataFrame(genres)"
   ]
  },
  {
   "cell_type": "code",
   "execution_count": 34,
   "metadata": {},
   "outputs": [
    {
     "data": {
      "text/html": [
       "<div>\n",
       "<style scoped>\n",
       "    .dataframe tbody tr th:only-of-type {\n",
       "        vertical-align: middle;\n",
       "    }\n",
       "\n",
       "    .dataframe tbody tr th {\n",
       "        vertical-align: top;\n",
       "    }\n",
       "\n",
       "    .dataframe thead th {\n",
       "        text-align: right;\n",
       "    }\n",
       "</style>\n",
       "<table border=\"1\" class=\"dataframe\">\n",
       "  <thead>\n",
       "    <tr style=\"text-align: right;\">\n",
       "      <th></th>\n",
       "      <th>book_id</th>\n",
       "      <th>genres</th>\n",
       "    </tr>\n",
       "  </thead>\n",
       "  <tbody>\n",
       "    <tr>\n",
       "      <th>0</th>\n",
       "      <td>5333265</td>\n",
       "      <td>{'history, historical fiction, biography': 1}</td>\n",
       "    </tr>\n",
       "    <tr>\n",
       "      <th>1</th>\n",
       "      <td>1333909</td>\n",
       "      <td>{'fiction': 219, 'history, historical fiction,...</td>\n",
       "    </tr>\n",
       "    <tr>\n",
       "      <th>2</th>\n",
       "      <td>7327624</td>\n",
       "      <td>{'fantasy, paranormal': 31, 'fiction': 8, 'mys...</td>\n",
       "    </tr>\n",
       "    <tr>\n",
       "      <th>3</th>\n",
       "      <td>6066819</td>\n",
       "      <td>{'fiction': 555, 'romance': 23, 'mystery, thri...</td>\n",
       "    </tr>\n",
       "    <tr>\n",
       "      <th>4</th>\n",
       "      <td>287140</td>\n",
       "      <td>{'non-fiction': 3}</td>\n",
       "    </tr>\n",
       "  </tbody>\n",
       "</table>\n",
       "</div>"
      ],
      "text/plain": [
       "   book_id                                             genres\n",
       "0  5333265      {'history, historical fiction, biography': 1}\n",
       "1  1333909  {'fiction': 219, 'history, historical fiction,...\n",
       "2  7327624  {'fantasy, paranormal': 31, 'fiction': 8, 'mys...\n",
       "3  6066819  {'fiction': 555, 'romance': 23, 'mystery, thri...\n",
       "4   287140                                 {'non-fiction': 3}"
      ]
     },
     "execution_count": 34,
     "metadata": {},
     "output_type": "execute_result"
    }
   ],
   "source": [
    "genres_df.head()"
   ]
  },
  {
   "cell_type": "code",
   "execution_count": 35,
   "metadata": {},
   "outputs": [],
   "source": [
    "genres_norm_df = pd.json_normalize(genres)"
   ]
  },
  {
   "cell_type": "code",
   "execution_count": 36,
   "metadata": {},
   "outputs": [
    {
     "data": {
      "text/html": [
       "<div>\n",
       "<style scoped>\n",
       "    .dataframe tbody tr th:only-of-type {\n",
       "        vertical-align: middle;\n",
       "    }\n",
       "\n",
       "    .dataframe tbody tr th {\n",
       "        vertical-align: top;\n",
       "    }\n",
       "\n",
       "    .dataframe thead th {\n",
       "        text-align: right;\n",
       "    }\n",
       "</style>\n",
       "<table border=\"1\" class=\"dataframe\">\n",
       "  <thead>\n",
       "    <tr style=\"text-align: right;\">\n",
       "      <th></th>\n",
       "      <th>book_id</th>\n",
       "      <th>genres.history, historical fiction, biography</th>\n",
       "      <th>genres.fiction</th>\n",
       "      <th>genres.fantasy, paranormal</th>\n",
       "      <th>genres.mystery, thriller, crime</th>\n",
       "      <th>genres.poetry</th>\n",
       "      <th>genres.romance</th>\n",
       "      <th>genres.non-fiction</th>\n",
       "      <th>genres.children</th>\n",
       "      <th>genres.young-adult</th>\n",
       "      <th>genres.comics, graphic</th>\n",
       "    </tr>\n",
       "  </thead>\n",
       "  <tbody>\n",
       "    <tr>\n",
       "      <th>0</th>\n",
       "      <td>5333265</td>\n",
       "      <td>1.0</td>\n",
       "      <td>NaN</td>\n",
       "      <td>NaN</td>\n",
       "      <td>NaN</td>\n",
       "      <td>NaN</td>\n",
       "      <td>NaN</td>\n",
       "      <td>NaN</td>\n",
       "      <td>NaN</td>\n",
       "      <td>NaN</td>\n",
       "      <td>NaN</td>\n",
       "    </tr>\n",
       "    <tr>\n",
       "      <th>1</th>\n",
       "      <td>1333909</td>\n",
       "      <td>5.0</td>\n",
       "      <td>219.0</td>\n",
       "      <td>NaN</td>\n",
       "      <td>NaN</td>\n",
       "      <td>NaN</td>\n",
       "      <td>NaN</td>\n",
       "      <td>NaN</td>\n",
       "      <td>NaN</td>\n",
       "      <td>NaN</td>\n",
       "      <td>NaN</td>\n",
       "    </tr>\n",
       "    <tr>\n",
       "      <th>2</th>\n",
       "      <td>7327624</td>\n",
       "      <td>NaN</td>\n",
       "      <td>8.0</td>\n",
       "      <td>31.0</td>\n",
       "      <td>1.0</td>\n",
       "      <td>1.0</td>\n",
       "      <td>NaN</td>\n",
       "      <td>NaN</td>\n",
       "      <td>NaN</td>\n",
       "      <td>NaN</td>\n",
       "      <td>NaN</td>\n",
       "    </tr>\n",
       "    <tr>\n",
       "      <th>3</th>\n",
       "      <td>6066819</td>\n",
       "      <td>NaN</td>\n",
       "      <td>555.0</td>\n",
       "      <td>NaN</td>\n",
       "      <td>10.0</td>\n",
       "      <td>NaN</td>\n",
       "      <td>23.0</td>\n",
       "      <td>NaN</td>\n",
       "      <td>NaN</td>\n",
       "      <td>NaN</td>\n",
       "      <td>NaN</td>\n",
       "    </tr>\n",
       "    <tr>\n",
       "      <th>4</th>\n",
       "      <td>287140</td>\n",
       "      <td>NaN</td>\n",
       "      <td>NaN</td>\n",
       "      <td>NaN</td>\n",
       "      <td>NaN</td>\n",
       "      <td>NaN</td>\n",
       "      <td>NaN</td>\n",
       "      <td>3.0</td>\n",
       "      <td>NaN</td>\n",
       "      <td>NaN</td>\n",
       "      <td>NaN</td>\n",
       "    </tr>\n",
       "  </tbody>\n",
       "</table>\n",
       "</div>"
      ],
      "text/plain": [
       "   book_id  genres.history, historical fiction, biography  genres.fiction  \\\n",
       "0  5333265                                            1.0             NaN   \n",
       "1  1333909                                            5.0           219.0   \n",
       "2  7327624                                            NaN             8.0   \n",
       "3  6066819                                            NaN           555.0   \n",
       "4   287140                                            NaN             NaN   \n",
       "\n",
       "   genres.fantasy, paranormal  genres.mystery, thriller, crime  genres.poetry  \\\n",
       "0                         NaN                              NaN            NaN   \n",
       "1                         NaN                              NaN            NaN   \n",
       "2                        31.0                              1.0            1.0   \n",
       "3                         NaN                             10.0            NaN   \n",
       "4                         NaN                              NaN            NaN   \n",
       "\n",
       "   genres.romance  genres.non-fiction  genres.children  genres.young-adult  \\\n",
       "0             NaN                 NaN              NaN                 NaN   \n",
       "1             NaN                 NaN              NaN                 NaN   \n",
       "2             NaN                 NaN              NaN                 NaN   \n",
       "3            23.0                 NaN              NaN                 NaN   \n",
       "4             NaN                 3.0              NaN                 NaN   \n",
       "\n",
       "   genres.comics, graphic  \n",
       "0                     NaN  \n",
       "1                     NaN  \n",
       "2                     NaN  \n",
       "3                     NaN  \n",
       "4                     NaN  "
      ]
     },
     "execution_count": 36,
     "metadata": {},
     "output_type": "execute_result"
    }
   ],
   "source": [
    "genres_norm_df.head()"
   ]
  },
  {
   "cell_type": "code",
   "execution_count": 37,
   "metadata": {},
   "outputs": [
    {
     "data": {
      "text/html": [
       "<div>\n",
       "<style scoped>\n",
       "    .dataframe tbody tr th:only-of-type {\n",
       "        vertical-align: middle;\n",
       "    }\n",
       "\n",
       "    .dataframe tbody tr th {\n",
       "        vertical-align: top;\n",
       "    }\n",
       "\n",
       "    .dataframe thead th {\n",
       "        text-align: right;\n",
       "    }\n",
       "</style>\n",
       "<table border=\"1\" class=\"dataframe\">\n",
       "  <thead>\n",
       "    <tr style=\"text-align: right;\">\n",
       "      <th></th>\n",
       "      <th>book_id</th>\n",
       "      <th>genres.history, historical fiction, biography</th>\n",
       "      <th>genres.fiction</th>\n",
       "      <th>genres.fantasy, paranormal</th>\n",
       "      <th>genres.mystery, thriller, crime</th>\n",
       "      <th>genres.poetry</th>\n",
       "      <th>genres.romance</th>\n",
       "      <th>genres.non-fiction</th>\n",
       "      <th>genres.children</th>\n",
       "      <th>genres.young-adult</th>\n",
       "      <th>genres.comics, graphic</th>\n",
       "    </tr>\n",
       "  </thead>\n",
       "  <tbody>\n",
       "    <tr>\n",
       "      <th>0</th>\n",
       "      <td>5333265</td>\n",
       "      <td>1.0</td>\n",
       "      <td>NaN</td>\n",
       "      <td>NaN</td>\n",
       "      <td>NaN</td>\n",
       "      <td>NaN</td>\n",
       "      <td>NaN</td>\n",
       "      <td>NaN</td>\n",
       "      <td>NaN</td>\n",
       "      <td>NaN</td>\n",
       "      <td>NaN</td>\n",
       "    </tr>\n",
       "    <tr>\n",
       "      <th>1</th>\n",
       "      <td>1333909</td>\n",
       "      <td>5.0</td>\n",
       "      <td>219.0</td>\n",
       "      <td>NaN</td>\n",
       "      <td>NaN</td>\n",
       "      <td>NaN</td>\n",
       "      <td>NaN</td>\n",
       "      <td>NaN</td>\n",
       "      <td>NaN</td>\n",
       "      <td>NaN</td>\n",
       "      <td>NaN</td>\n",
       "    </tr>\n",
       "    <tr>\n",
       "      <th>2</th>\n",
       "      <td>7327624</td>\n",
       "      <td>NaN</td>\n",
       "      <td>8.0</td>\n",
       "      <td>31.0</td>\n",
       "      <td>1.0</td>\n",
       "      <td>1.0</td>\n",
       "      <td>NaN</td>\n",
       "      <td>NaN</td>\n",
       "      <td>NaN</td>\n",
       "      <td>NaN</td>\n",
       "      <td>NaN</td>\n",
       "    </tr>\n",
       "    <tr>\n",
       "      <th>3</th>\n",
       "      <td>6066819</td>\n",
       "      <td>NaN</td>\n",
       "      <td>555.0</td>\n",
       "      <td>NaN</td>\n",
       "      <td>10.0</td>\n",
       "      <td>NaN</td>\n",
       "      <td>23.0</td>\n",
       "      <td>NaN</td>\n",
       "      <td>NaN</td>\n",
       "      <td>NaN</td>\n",
       "      <td>NaN</td>\n",
       "    </tr>\n",
       "    <tr>\n",
       "      <th>4</th>\n",
       "      <td>287140</td>\n",
       "      <td>NaN</td>\n",
       "      <td>NaN</td>\n",
       "      <td>NaN</td>\n",
       "      <td>NaN</td>\n",
       "      <td>NaN</td>\n",
       "      <td>NaN</td>\n",
       "      <td>3.0</td>\n",
       "      <td>NaN</td>\n",
       "      <td>NaN</td>\n",
       "      <td>NaN</td>\n",
       "    </tr>\n",
       "    <tr>\n",
       "      <th>...</th>\n",
       "      <td>...</td>\n",
       "      <td>...</td>\n",
       "      <td>...</td>\n",
       "      <td>...</td>\n",
       "      <td>...</td>\n",
       "      <td>...</td>\n",
       "      <td>...</td>\n",
       "      <td>...</td>\n",
       "      <td>...</td>\n",
       "      <td>...</td>\n",
       "      <td>...</td>\n",
       "    </tr>\n",
       "    <tr>\n",
       "      <th>2360650</th>\n",
       "      <td>3084038</td>\n",
       "      <td>7.0</td>\n",
       "      <td>NaN</td>\n",
       "      <td>NaN</td>\n",
       "      <td>NaN</td>\n",
       "      <td>NaN</td>\n",
       "      <td>NaN</td>\n",
       "      <td>5.0</td>\n",
       "      <td>NaN</td>\n",
       "      <td>NaN</td>\n",
       "      <td>NaN</td>\n",
       "    </tr>\n",
       "    <tr>\n",
       "      <th>2360651</th>\n",
       "      <td>26168430</td>\n",
       "      <td>NaN</td>\n",
       "      <td>1.0</td>\n",
       "      <td>NaN</td>\n",
       "      <td>4.0</td>\n",
       "      <td>NaN</td>\n",
       "      <td>NaN</td>\n",
       "      <td>NaN</td>\n",
       "      <td>1.0</td>\n",
       "      <td>NaN</td>\n",
       "      <td>NaN</td>\n",
       "    </tr>\n",
       "    <tr>\n",
       "      <th>2360652</th>\n",
       "      <td>2342551</td>\n",
       "      <td>NaN</td>\n",
       "      <td>NaN</td>\n",
       "      <td>NaN</td>\n",
       "      <td>NaN</td>\n",
       "      <td>14.0</td>\n",
       "      <td>NaN</td>\n",
       "      <td>1.0</td>\n",
       "      <td>7.0</td>\n",
       "      <td>1.0</td>\n",
       "      <td>NaN</td>\n",
       "    </tr>\n",
       "    <tr>\n",
       "      <th>2360653</th>\n",
       "      <td>22017381</td>\n",
       "      <td>NaN</td>\n",
       "      <td>NaN</td>\n",
       "      <td>NaN</td>\n",
       "      <td>2.0</td>\n",
       "      <td>NaN</td>\n",
       "      <td>13.0</td>\n",
       "      <td>NaN</td>\n",
       "      <td>NaN</td>\n",
       "      <td>NaN</td>\n",
       "      <td>NaN</td>\n",
       "    </tr>\n",
       "    <tr>\n",
       "      <th>2360654</th>\n",
       "      <td>11419866</td>\n",
       "      <td>NaN</td>\n",
       "      <td>4.0</td>\n",
       "      <td>NaN</td>\n",
       "      <td>NaN</td>\n",
       "      <td>NaN</td>\n",
       "      <td>19.0</td>\n",
       "      <td>NaN</td>\n",
       "      <td>NaN</td>\n",
       "      <td>NaN</td>\n",
       "      <td>NaN</td>\n",
       "    </tr>\n",
       "  </tbody>\n",
       "</table>\n",
       "<p>2360655 rows × 11 columns</p>\n",
       "</div>"
      ],
      "text/plain": [
       "          book_id  genres.history, historical fiction, biography  \\\n",
       "0         5333265                                            1.0   \n",
       "1         1333909                                            5.0   \n",
       "2         7327624                                            NaN   \n",
       "3         6066819                                            NaN   \n",
       "4          287140                                            NaN   \n",
       "...           ...                                            ...   \n",
       "2360650   3084038                                            7.0   \n",
       "2360651  26168430                                            NaN   \n",
       "2360652   2342551                                            NaN   \n",
       "2360653  22017381                                            NaN   \n",
       "2360654  11419866                                            NaN   \n",
       "\n",
       "         genres.fiction  genres.fantasy, paranormal  \\\n",
       "0                   NaN                         NaN   \n",
       "1                 219.0                         NaN   \n",
       "2                   8.0                        31.0   \n",
       "3                 555.0                         NaN   \n",
       "4                   NaN                         NaN   \n",
       "...                 ...                         ...   \n",
       "2360650             NaN                         NaN   \n",
       "2360651             1.0                         NaN   \n",
       "2360652             NaN                         NaN   \n",
       "2360653             NaN                         NaN   \n",
       "2360654             4.0                         NaN   \n",
       "\n",
       "         genres.mystery, thriller, crime  genres.poetry  genres.romance  \\\n",
       "0                                    NaN            NaN             NaN   \n",
       "1                                    NaN            NaN             NaN   \n",
       "2                                    1.0            1.0             NaN   \n",
       "3                                   10.0            NaN            23.0   \n",
       "4                                    NaN            NaN             NaN   \n",
       "...                                  ...            ...             ...   \n",
       "2360650                              NaN            NaN             NaN   \n",
       "2360651                              4.0            NaN             NaN   \n",
       "2360652                              NaN           14.0             NaN   \n",
       "2360653                              2.0            NaN            13.0   \n",
       "2360654                              NaN            NaN            19.0   \n",
       "\n",
       "         genres.non-fiction  genres.children  genres.young-adult  \\\n",
       "0                       NaN              NaN                 NaN   \n",
       "1                       NaN              NaN                 NaN   \n",
       "2                       NaN              NaN                 NaN   \n",
       "3                       NaN              NaN                 NaN   \n",
       "4                       3.0              NaN                 NaN   \n",
       "...                     ...              ...                 ...   \n",
       "2360650                 5.0              NaN                 NaN   \n",
       "2360651                 NaN              1.0                 NaN   \n",
       "2360652                 1.0              7.0                 1.0   \n",
       "2360653                 NaN              NaN                 NaN   \n",
       "2360654                 NaN              NaN                 NaN   \n",
       "\n",
       "         genres.comics, graphic  \n",
       "0                           NaN  \n",
       "1                           NaN  \n",
       "2                           NaN  \n",
       "3                           NaN  \n",
       "4                           NaN  \n",
       "...                         ...  \n",
       "2360650                     NaN  \n",
       "2360651                     NaN  \n",
       "2360652                     NaN  \n",
       "2360653                     NaN  \n",
       "2360654                     NaN  \n",
       "\n",
       "[2360655 rows x 11 columns]"
      ]
     },
     "execution_count": 37,
     "metadata": {},
     "output_type": "execute_result"
    }
   ],
   "source": [
    "genres_norm_df"
   ]
  },
  {
   "cell_type": "code",
   "execution_count": 48,
   "metadata": {},
   "outputs": [],
   "source": [
    "melted = pd.melt(genres_norm_df, id_vars='book_id', var_name='genre', value_name='num_tagged')"
   ]
  },
  {
   "cell_type": "code",
   "execution_count": 49,
   "metadata": {},
   "outputs": [
    {
     "data": {
      "text/html": [
       "<div>\n",
       "<style scoped>\n",
       "    .dataframe tbody tr th:only-of-type {\n",
       "        vertical-align: middle;\n",
       "    }\n",
       "\n",
       "    .dataframe tbody tr th {\n",
       "        vertical-align: top;\n",
       "    }\n",
       "\n",
       "    .dataframe thead th {\n",
       "        text-align: right;\n",
       "    }\n",
       "</style>\n",
       "<table border=\"1\" class=\"dataframe\">\n",
       "  <thead>\n",
       "    <tr style=\"text-align: right;\">\n",
       "      <th></th>\n",
       "      <th>book_id</th>\n",
       "      <th>genre</th>\n",
       "      <th>num_tagged</th>\n",
       "    </tr>\n",
       "  </thead>\n",
       "  <tbody>\n",
       "    <tr>\n",
       "      <th>0</th>\n",
       "      <td>5333265</td>\n",
       "      <td>genres.history, historical fiction, biography</td>\n",
       "      <td>1.0</td>\n",
       "    </tr>\n",
       "    <tr>\n",
       "      <th>1</th>\n",
       "      <td>1333909</td>\n",
       "      <td>genres.history, historical fiction, biography</td>\n",
       "      <td>5.0</td>\n",
       "    </tr>\n",
       "    <tr>\n",
       "      <th>2</th>\n",
       "      <td>7327624</td>\n",
       "      <td>genres.history, historical fiction, biography</td>\n",
       "      <td>NaN</td>\n",
       "    </tr>\n",
       "    <tr>\n",
       "      <th>3</th>\n",
       "      <td>6066819</td>\n",
       "      <td>genres.history, historical fiction, biography</td>\n",
       "      <td>NaN</td>\n",
       "    </tr>\n",
       "    <tr>\n",
       "      <th>4</th>\n",
       "      <td>287140</td>\n",
       "      <td>genres.history, historical fiction, biography</td>\n",
       "      <td>NaN</td>\n",
       "    </tr>\n",
       "  </tbody>\n",
       "</table>\n",
       "</div>"
      ],
      "text/plain": [
       "   book_id                                          genre  num_tagged\n",
       "0  5333265  genres.history, historical fiction, biography         1.0\n",
       "1  1333909  genres.history, historical fiction, biography         5.0\n",
       "2  7327624  genres.history, historical fiction, biography         NaN\n",
       "3  6066819  genres.history, historical fiction, biography         NaN\n",
       "4   287140  genres.history, historical fiction, biography         NaN"
      ]
     },
     "execution_count": 49,
     "metadata": {},
     "output_type": "execute_result"
    }
   ],
   "source": [
    "melted.head()"
   ]
  },
  {
   "cell_type": "code",
   "execution_count": 50,
   "metadata": {},
   "outputs": [
    {
     "data": {
      "text/plain": [
       "book_id        object\n",
       "genre          object\n",
       "num_tagged    float64\n",
       "dtype: object"
      ]
     },
     "execution_count": 50,
     "metadata": {},
     "output_type": "execute_result"
    }
   ],
   "source": [
    "melted.dtypes"
   ]
  },
  {
   "cell_type": "code",
   "execution_count": 51,
   "metadata": {},
   "outputs": [
    {
     "data": {
      "text/html": [
       "<div>\n",
       "<style scoped>\n",
       "    .dataframe tbody tr th:only-of-type {\n",
       "        vertical-align: middle;\n",
       "    }\n",
       "\n",
       "    .dataframe tbody tr th {\n",
       "        vertical-align: top;\n",
       "    }\n",
       "\n",
       "    .dataframe thead th {\n",
       "        text-align: right;\n",
       "    }\n",
       "</style>\n",
       "<table border=\"1\" class=\"dataframe\">\n",
       "  <thead>\n",
       "    <tr style=\"text-align: right;\">\n",
       "      <th></th>\n",
       "      <th>book_id</th>\n",
       "      <th>genre</th>\n",
       "      <th>num_tagged</th>\n",
       "    </tr>\n",
       "  </thead>\n",
       "  <tbody>\n",
       "    <tr>\n",
       "      <th>2</th>\n",
       "      <td>7327624</td>\n",
       "      <td>genres.history, historical fiction, biography</td>\n",
       "      <td>NaN</td>\n",
       "    </tr>\n",
       "    <tr>\n",
       "      <th>2360657</th>\n",
       "      <td>7327624</td>\n",
       "      <td>genres.fiction</td>\n",
       "      <td>8.0</td>\n",
       "    </tr>\n",
       "    <tr>\n",
       "      <th>4721312</th>\n",
       "      <td>7327624</td>\n",
       "      <td>genres.fantasy, paranormal</td>\n",
       "      <td>31.0</td>\n",
       "    </tr>\n",
       "    <tr>\n",
       "      <th>7081967</th>\n",
       "      <td>7327624</td>\n",
       "      <td>genres.mystery, thriller, crime</td>\n",
       "      <td>1.0</td>\n",
       "    </tr>\n",
       "    <tr>\n",
       "      <th>9442622</th>\n",
       "      <td>7327624</td>\n",
       "      <td>genres.poetry</td>\n",
       "      <td>1.0</td>\n",
       "    </tr>\n",
       "    <tr>\n",
       "      <th>11803277</th>\n",
       "      <td>7327624</td>\n",
       "      <td>genres.romance</td>\n",
       "      <td>NaN</td>\n",
       "    </tr>\n",
       "    <tr>\n",
       "      <th>14163932</th>\n",
       "      <td>7327624</td>\n",
       "      <td>genres.non-fiction</td>\n",
       "      <td>NaN</td>\n",
       "    </tr>\n",
       "    <tr>\n",
       "      <th>16524587</th>\n",
       "      <td>7327624</td>\n",
       "      <td>genres.children</td>\n",
       "      <td>NaN</td>\n",
       "    </tr>\n",
       "    <tr>\n",
       "      <th>18885242</th>\n",
       "      <td>7327624</td>\n",
       "      <td>genres.young-adult</td>\n",
       "      <td>NaN</td>\n",
       "    </tr>\n",
       "    <tr>\n",
       "      <th>21245897</th>\n",
       "      <td>7327624</td>\n",
       "      <td>genres.comics, graphic</td>\n",
       "      <td>NaN</td>\n",
       "    </tr>\n",
       "  </tbody>\n",
       "</table>\n",
       "</div>"
      ],
      "text/plain": [
       "          book_id                                          genre  num_tagged\n",
       "2         7327624  genres.history, historical fiction, biography         NaN\n",
       "2360657   7327624                                 genres.fiction         8.0\n",
       "4721312   7327624                     genres.fantasy, paranormal        31.0\n",
       "7081967   7327624                genres.mystery, thriller, crime         1.0\n",
       "9442622   7327624                                  genres.poetry         1.0\n",
       "11803277  7327624                                 genres.romance         NaN\n",
       "14163932  7327624                             genres.non-fiction         NaN\n",
       "16524587  7327624                                genres.children         NaN\n",
       "18885242  7327624                             genres.young-adult         NaN\n",
       "21245897  7327624                         genres.comics, graphic         NaN"
      ]
     },
     "execution_count": 51,
     "metadata": {},
     "output_type": "execute_result"
    }
   ],
   "source": [
    "melted[melted['book_id'] == '7327624']"
   ]
  },
  {
   "cell_type": "code",
   "execution_count": 52,
   "metadata": {},
   "outputs": [],
   "source": [
    "melted = melted.dropna()"
   ]
  },
  {
   "cell_type": "code",
   "execution_count": 53,
   "metadata": {},
   "outputs": [
    {
     "data": {
      "text/html": [
       "<div>\n",
       "<style scoped>\n",
       "    .dataframe tbody tr th:only-of-type {\n",
       "        vertical-align: middle;\n",
       "    }\n",
       "\n",
       "    .dataframe tbody tr th {\n",
       "        vertical-align: top;\n",
       "    }\n",
       "\n",
       "    .dataframe thead th {\n",
       "        text-align: right;\n",
       "    }\n",
       "</style>\n",
       "<table border=\"1\" class=\"dataframe\">\n",
       "  <thead>\n",
       "    <tr style=\"text-align: right;\">\n",
       "      <th></th>\n",
       "      <th>book_id</th>\n",
       "      <th>genre</th>\n",
       "      <th>num_tagged</th>\n",
       "    </tr>\n",
       "  </thead>\n",
       "  <tbody>\n",
       "    <tr>\n",
       "      <th>2360657</th>\n",
       "      <td>7327624</td>\n",
       "      <td>genres.fiction</td>\n",
       "      <td>8.0</td>\n",
       "    </tr>\n",
       "    <tr>\n",
       "      <th>4721312</th>\n",
       "      <td>7327624</td>\n",
       "      <td>genres.fantasy, paranormal</td>\n",
       "      <td>31.0</td>\n",
       "    </tr>\n",
       "    <tr>\n",
       "      <th>7081967</th>\n",
       "      <td>7327624</td>\n",
       "      <td>genres.mystery, thriller, crime</td>\n",
       "      <td>1.0</td>\n",
       "    </tr>\n",
       "    <tr>\n",
       "      <th>9442622</th>\n",
       "      <td>7327624</td>\n",
       "      <td>genres.poetry</td>\n",
       "      <td>1.0</td>\n",
       "    </tr>\n",
       "  </tbody>\n",
       "</table>\n",
       "</div>"
      ],
      "text/plain": [
       "         book_id                            genre  num_tagged\n",
       "2360657  7327624                   genres.fiction         8.0\n",
       "4721312  7327624       genres.fantasy, paranormal        31.0\n",
       "7081967  7327624  genres.mystery, thriller, crime         1.0\n",
       "9442622  7327624                    genres.poetry         1.0"
      ]
     },
     "execution_count": 53,
     "metadata": {},
     "output_type": "execute_result"
    }
   ],
   "source": [
    "melted[melted['book_id'] == '7327624']"
   ]
  },
  {
   "cell_type": "code",
   "execution_count": 54,
   "metadata": {},
   "outputs": [],
   "source": [
    "melted['genre'] = melted['genre'].str.slice_replace(stop=7)"
   ]
  },
  {
   "cell_type": "code",
   "execution_count": 55,
   "metadata": {},
   "outputs": [
    {
     "data": {
      "text/html": [
       "<div>\n",
       "<style scoped>\n",
       "    .dataframe tbody tr th:only-of-type {\n",
       "        vertical-align: middle;\n",
       "    }\n",
       "\n",
       "    .dataframe tbody tr th {\n",
       "        vertical-align: top;\n",
       "    }\n",
       "\n",
       "    .dataframe thead th {\n",
       "        text-align: right;\n",
       "    }\n",
       "</style>\n",
       "<table border=\"1\" class=\"dataframe\">\n",
       "  <thead>\n",
       "    <tr style=\"text-align: right;\">\n",
       "      <th></th>\n",
       "      <th>book_id</th>\n",
       "      <th>genre</th>\n",
       "      <th>num_tagged</th>\n",
       "    </tr>\n",
       "  </thead>\n",
       "  <tbody>\n",
       "    <tr>\n",
       "      <th>0</th>\n",
       "      <td>5333265</td>\n",
       "      <td>history, historical fiction, biography</td>\n",
       "      <td>1.0</td>\n",
       "    </tr>\n",
       "    <tr>\n",
       "      <th>1</th>\n",
       "      <td>1333909</td>\n",
       "      <td>history, historical fiction, biography</td>\n",
       "      <td>5.0</td>\n",
       "    </tr>\n",
       "    <tr>\n",
       "      <th>5</th>\n",
       "      <td>287141</td>\n",
       "      <td>history, historical fiction, biography</td>\n",
       "      <td>9.0</td>\n",
       "    </tr>\n",
       "    <tr>\n",
       "      <th>9</th>\n",
       "      <td>287149</td>\n",
       "      <td>history, historical fiction, biography</td>\n",
       "      <td>1.0</td>\n",
       "    </tr>\n",
       "    <tr>\n",
       "      <th>10</th>\n",
       "      <td>6066814</td>\n",
       "      <td>history, historical fiction, biography</td>\n",
       "      <td>38.0</td>\n",
       "    </tr>\n",
       "    <tr>\n",
       "      <th>...</th>\n",
       "      <td>...</td>\n",
       "      <td>...</td>\n",
       "      <td>...</td>\n",
       "    </tr>\n",
       "    <tr>\n",
       "      <th>23606499</th>\n",
       "      <td>25356997</td>\n",
       "      <td>comics, graphic</td>\n",
       "      <td>2.0</td>\n",
       "    </tr>\n",
       "    <tr>\n",
       "      <th>23606500</th>\n",
       "      <td>20653416</td>\n",
       "      <td>comics, graphic</td>\n",
       "      <td>46.0</td>\n",
       "    </tr>\n",
       "    <tr>\n",
       "      <th>23606507</th>\n",
       "      <td>28928706</td>\n",
       "      <td>comics, graphic</td>\n",
       "      <td>2.0</td>\n",
       "    </tr>\n",
       "    <tr>\n",
       "      <th>23606516</th>\n",
       "      <td>2527820</td>\n",
       "      <td>comics, graphic</td>\n",
       "      <td>12.0</td>\n",
       "    </tr>\n",
       "    <tr>\n",
       "      <th>23606522</th>\n",
       "      <td>23363286</td>\n",
       "      <td>comics, graphic</td>\n",
       "      <td>2.0</td>\n",
       "    </tr>\n",
       "  </tbody>\n",
       "</table>\n",
       "<p>5042542 rows × 3 columns</p>\n",
       "</div>"
      ],
      "text/plain": [
       "           book_id                                   genre  num_tagged\n",
       "0          5333265  history, historical fiction, biography         1.0\n",
       "1          1333909  history, historical fiction, biography         5.0\n",
       "5           287141  history, historical fiction, biography         9.0\n",
       "9           287149  history, historical fiction, biography         1.0\n",
       "10         6066814  history, historical fiction, biography        38.0\n",
       "...            ...                                     ...         ...\n",
       "23606499  25356997                         comics, graphic         2.0\n",
       "23606500  20653416                         comics, graphic        46.0\n",
       "23606507  28928706                         comics, graphic         2.0\n",
       "23606516   2527820                         comics, graphic        12.0\n",
       "23606522  23363286                         comics, graphic         2.0\n",
       "\n",
       "[5042542 rows x 3 columns]"
      ]
     },
     "execution_count": 55,
     "metadata": {},
     "output_type": "execute_result"
    }
   ],
   "source": [
    "melted"
   ]
  },
  {
   "cell_type": "code",
   "execution_count": 56,
   "metadata": {},
   "outputs": [
    {
     "data": {
      "text/html": [
       "<div>\n",
       "<style scoped>\n",
       "    .dataframe tbody tr th:only-of-type {\n",
       "        vertical-align: middle;\n",
       "    }\n",
       "\n",
       "    .dataframe tbody tr th {\n",
       "        vertical-align: top;\n",
       "    }\n",
       "\n",
       "    .dataframe thead th {\n",
       "        text-align: right;\n",
       "    }\n",
       "</style>\n",
       "<table border=\"1\" class=\"dataframe\">\n",
       "  <thead>\n",
       "    <tr style=\"text-align: right;\">\n",
       "      <th></th>\n",
       "      <th>book_id</th>\n",
       "      <th>genre</th>\n",
       "      <th>num_tagged</th>\n",
       "    </tr>\n",
       "  </thead>\n",
       "  <tbody>\n",
       "    <tr>\n",
       "      <th>2360657</th>\n",
       "      <td>7327624</td>\n",
       "      <td>fiction</td>\n",
       "      <td>8.0</td>\n",
       "    </tr>\n",
       "    <tr>\n",
       "      <th>4721312</th>\n",
       "      <td>7327624</td>\n",
       "      <td>fantasy, paranormal</td>\n",
       "      <td>31.0</td>\n",
       "    </tr>\n",
       "    <tr>\n",
       "      <th>7081967</th>\n",
       "      <td>7327624</td>\n",
       "      <td>mystery, thriller, crime</td>\n",
       "      <td>1.0</td>\n",
       "    </tr>\n",
       "    <tr>\n",
       "      <th>9442622</th>\n",
       "      <td>7327624</td>\n",
       "      <td>poetry</td>\n",
       "      <td>1.0</td>\n",
       "    </tr>\n",
       "  </tbody>\n",
       "</table>\n",
       "</div>"
      ],
      "text/plain": [
       "         book_id                     genre  num_tagged\n",
       "2360657  7327624                   fiction         8.0\n",
       "4721312  7327624       fantasy, paranormal        31.0\n",
       "7081967  7327624  mystery, thriller, crime         1.0\n",
       "9442622  7327624                    poetry         1.0"
      ]
     },
     "execution_count": 56,
     "metadata": {},
     "output_type": "execute_result"
    }
   ],
   "source": [
    "melted[melted['book_id'] == '7327624']"
   ]
  },
  {
   "cell_type": "code",
   "execution_count": 57,
   "metadata": {},
   "outputs": [],
   "source": [
    "melted.to_csv(os.path.join(dir, 'genres.csv'), header=True, index=0)"
   ]
  }
 ],
 "metadata": {
  "interpreter": {
   "hash": "b3ba2566441a7c06988d0923437866b63cedc61552a5af99d1f4fb67d367b25f"
  },
  "kernelspec": {
   "display_name": "Python 3.9.7 ('base')",
   "language": "python",
   "name": "python3"
  },
  "language_info": {
   "codemirror_mode": {
    "name": "ipython",
    "version": 3
   },
   "file_extension": ".py",
   "mimetype": "text/x-python",
   "name": "python",
   "nbconvert_exporter": "python",
   "pygments_lexer": "ipython3",
   "version": "3.9.7"
  },
  "orig_nbformat": 4
 },
 "nbformat": 4,
 "nbformat_minor": 2
}
