{
 "cells": [
  {
   "cell_type": "markdown",
   "metadata": {},
   "source": [
    "# EDA\n",
    "\n",
    "## Listing of Tables\n",
    "\n",
    "- books\n",
    "\n",
    "- authors\n",
    "\n",
    "- series\n",
    "\n",
    "- genres\n",
    "\n",
    "- interactions\n",
    "\n",
    "- book_id_map"
   ]
  },
  {
   "cell_type": "markdown",
   "metadata": {},
   "source": [
    "---"
   ]
  },
  {
   "cell_type": "code",
   "execution_count": 25,
   "metadata": {},
   "outputs": [],
   "source": [
    "import gzip\n",
    "import csv\n",
    "import json\n",
    "import re\n",
    "import os\n",
    "import sys\n",
    "import numpy as np\n",
    "import pandas as pd\n",
    "from collections import defaultdict"
   ]
  },
  {
   "cell_type": "markdown",
   "metadata": {},
   "source": [
    "dir = {your file directory here}"
   ]
  },
  {
   "cell_type": "code",
   "execution_count": 6,
   "metadata": {},
   "outputs": [],
   "source": [
    "# General function to load in GZ archive\n",
    "def load_data(file_name, head = 500):\n",
    "    count = 0\n",
    "    data = []\n",
    "    with gzip.open(file_name) as fin:\n",
    "        for l in fin:\n",
    "            d = json.loads(l)\n",
    "            count += 1\n",
    "            data.append(d)\n",
    "            \n",
    "            # break if reaches the 100th line\n",
    "            if (head is not None) and (count > head):\n",
    "                break\n",
    "    return data"
   ]
  },
  {
   "cell_type": "code",
   "execution_count": 9,
   "metadata": {},
   "outputs": [],
   "source": [
    "# Count json.gz rows\n",
    "def count_gzj(file):\n",
    "    count = 0\n",
    "    with gzip.open(file) as fin:\n",
    "        for l in fin:\n",
    "            count += 1\n",
    "    return count"
   ]
  },
  {
   "cell_type": "markdown",
   "metadata": {},
   "source": [
    "---"
   ]
  },
  {
   "cell_type": "markdown",
   "metadata": {},
   "source": [
    "## Books\n",
    "\n",
    "This needs some processing (see below)"
   ]
  },
  {
   "cell_type": "code",
   "execution_count": 11,
   "metadata": {},
   "outputs": [
    {
     "name": "stdout",
     "output_type": "stream",
     "text": [
      "2360655\n"
     ]
    }
   ],
   "source": [
    "print(count_gzj(os.path.join(dir, 'goodreads_books.json.gz')))"
   ]
  },
  {
   "cell_type": "code",
   "execution_count": 12,
   "metadata": {},
   "outputs": [
    {
     "name": "stdout",
     "output_type": "stream",
     "text": [
      "dict_keys(['isbn', 'text_reviews_count', 'series', 'country_code', 'language_code', 'popular_shelves', 'asin', 'is_ebook', 'average_rating', 'kindle_asin', 'similar_books', 'description', 'format', 'link', 'authors', 'publisher', 'num_pages', 'publication_day', 'isbn13', 'publication_month', 'edition_information', 'publication_year', 'url', 'image_url', 'book_id', 'ratings_count', 'work_id', 'title', 'title_without_series'])\n"
     ]
    }
   ],
   "source": [
    "books = load_data(os.path.join(dir, 'goodreads_books.json.gz'), 0)\n",
    "print(books[0].keys())"
   ]
  },
  {
   "cell_type": "code",
   "execution_count": 13,
   "metadata": {},
   "outputs": [
    {
     "data": {
      "text/html": [
       "<div>\n",
       "<style scoped>\n",
       "    .dataframe tbody tr th:only-of-type {\n",
       "        vertical-align: middle;\n",
       "    }\n",
       "\n",
       "    .dataframe tbody tr th {\n",
       "        vertical-align: top;\n",
       "    }\n",
       "\n",
       "    .dataframe thead th {\n",
       "        text-align: right;\n",
       "    }\n",
       "</style>\n",
       "<table border=\"1\" class=\"dataframe\">\n",
       "  <thead>\n",
       "    <tr style=\"text-align: right;\">\n",
       "      <th></th>\n",
       "      <th>isbn</th>\n",
       "      <th>text_reviews_count</th>\n",
       "      <th>series</th>\n",
       "      <th>country_code</th>\n",
       "      <th>language_code</th>\n",
       "      <th>average_rating</th>\n",
       "      <th>similar_books</th>\n",
       "      <th>description</th>\n",
       "      <th>format</th>\n",
       "      <th>authors</th>\n",
       "      <th>...</th>\n",
       "      <th>publication_day</th>\n",
       "      <th>isbn13</th>\n",
       "      <th>publication_month</th>\n",
       "      <th>publication_year</th>\n",
       "      <th>image_url</th>\n",
       "      <th>book_id</th>\n",
       "      <th>ratings_count</th>\n",
       "      <th>work_id</th>\n",
       "      <th>title</th>\n",
       "      <th>title_without_series</th>\n",
       "    </tr>\n",
       "  </thead>\n",
       "  <tbody>\n",
       "    <tr>\n",
       "      <th>0</th>\n",
       "      <td>0312853122</td>\n",
       "      <td>1</td>\n",
       "      <td>[]</td>\n",
       "      <td>US</td>\n",
       "      <td></td>\n",
       "      <td>4.00</td>\n",
       "      <td>[]</td>\n",
       "      <td></td>\n",
       "      <td>Paperback</td>\n",
       "      <td>[{'author_id': '604031', 'role': ''}]</td>\n",
       "      <td>...</td>\n",
       "      <td>1</td>\n",
       "      <td>9780312853129</td>\n",
       "      <td>9</td>\n",
       "      <td>1984</td>\n",
       "      <td>https://images.gr-assets.com/books/1310220028m...</td>\n",
       "      <td>5333265</td>\n",
       "      <td>3</td>\n",
       "      <td>5400751</td>\n",
       "      <td>W.C. Fields: A Life on Film</td>\n",
       "      <td>W.C. Fields: A Life on Film</td>\n",
       "    </tr>\n",
       "  </tbody>\n",
       "</table>\n",
       "<p>1 rows × 22 columns</p>\n",
       "</div>"
      ],
      "text/plain": [
       "         isbn text_reviews_count series country_code language_code  \\\n",
       "0  0312853122                  1     []           US                 \n",
       "\n",
       "  average_rating similar_books description     format  \\\n",
       "0           4.00            []              Paperback   \n",
       "\n",
       "                                 authors  ... publication_day         isbn13  \\\n",
       "0  [{'author_id': '604031', 'role': ''}]  ...               1  9780312853129   \n",
       "\n",
       "  publication_month publication_year  \\\n",
       "0                 9             1984   \n",
       "\n",
       "                                           image_url  book_id ratings_count  \\\n",
       "0  https://images.gr-assets.com/books/1310220028m...  5333265             3   \n",
       "\n",
       "   work_id                        title         title_without_series  \n",
       "0  5400751  W.C. Fields: A Life on Film  W.C. Fields: A Life on Film  \n",
       "\n",
       "[1 rows x 22 columns]"
      ]
     },
     "execution_count": 13,
     "metadata": {},
     "output_type": "execute_result"
    }
   ],
   "source": [
    "booksDf = pd.DataFrame(books)\n",
    "booksDf = booksDf.drop(['popular_shelves', 'asin', 'kindle_asin', 'is_ebook', 'link', 'edition_information', 'url'], axis=1)\n",
    "booksDf"
   ]
  },
  {
   "cell_type": "code",
   "execution_count": 15,
   "metadata": {},
   "outputs": [
    {
     "data": {
      "text/html": [
       "<div>\n",
       "<style scoped>\n",
       "    .dataframe tbody tr th:only-of-type {\n",
       "        vertical-align: middle;\n",
       "    }\n",
       "\n",
       "    .dataframe tbody tr th {\n",
       "        vertical-align: top;\n",
       "    }\n",
       "\n",
       "    .dataframe thead th {\n",
       "        text-align: right;\n",
       "    }\n",
       "</style>\n",
       "<table border=\"1\" class=\"dataframe\">\n",
       "  <thead>\n",
       "    <tr style=\"text-align: right;\">\n",
       "      <th></th>\n",
       "      <th>series</th>\n",
       "      <th>similar_books</th>\n",
       "      <th>authors</th>\n",
       "    </tr>\n",
       "  </thead>\n",
       "  <tbody>\n",
       "    <tr>\n",
       "      <th>0</th>\n",
       "      <td>[]</td>\n",
       "      <td>[]</td>\n",
       "      <td>[{'author_id': '604031', 'role': ''}]</td>\n",
       "    </tr>\n",
       "  </tbody>\n",
       "</table>\n",
       "</div>"
      ],
      "text/plain": [
       "  series similar_books                                authors\n",
       "0     []            []  [{'author_id': '604031', 'role': ''}]"
      ]
     },
     "execution_count": 15,
     "metadata": {},
     "output_type": "execute_result"
    }
   ],
   "source": [
    "# Problem Fields\n",
    "booksDf[['series','similar_books','authors']]"
   ]
  },
  {
   "cell_type": "markdown",
   "metadata": {},
   "source": [
    "### Modify Books with more usable fields for 'series', 'similar_books' and 'authors'"
   ]
  },
  {
   "cell_type": "code",
   "execution_count": 17,
   "metadata": {},
   "outputs": [],
   "source": [
    "def load_books(file_name, head = 500):\n",
    "    count = 0\n",
    "    data = []\n",
    "    with gzip.open(file_name) as fin:\n",
    "        for l in fin:\n",
    "            d = json.loads(l)\n",
    "            d['series'] = ','.join([str(i) for i in d['series']])\n",
    "            d['similar_books'] = ','.join([str(i) for i in d['similar_books']])\n",
    "            temp = d['authors']\n",
    "            d.pop('authors')\n",
    "            dd = defaultdict(list)\n",
    "            print(temp)\n",
    "            for di in temp:\n",
    "                for k, v in di.items():\n",
    "                    dd[k].append(v)\n",
    "            for k, v in dd.items():\n",
    "                d[k] = ','.join([str(i) for i in v])\n",
    "            count += 1\n",
    "            data.append(d)\n",
    "            \n",
    "            # break if reaches the 100th line\n",
    "            if (head is not None) and (count > head):\n",
    "                break\n",
    "    return data"
   ]
  },
  {
   "cell_type": "code",
   "execution_count": 19,
   "metadata": {},
   "outputs": [
    {
     "name": "stdout",
     "output_type": "stream",
     "text": [
      "[{'author_id': '604031', 'role': ''}]\n"
     ]
    },
    {
     "data": {
      "text/plain": [
       "[{'isbn': '0312853122',\n",
       "  'text_reviews_count': '1',\n",
       "  'series': '',\n",
       "  'country_code': 'US',\n",
       "  'language_code': '',\n",
       "  'popular_shelves': [{'count': '3', 'name': 'to-read'},\n",
       "   {'count': '1', 'name': 'p'},\n",
       "   {'count': '1', 'name': 'collection'},\n",
       "   {'count': '1', 'name': 'w-c-fields'},\n",
       "   {'count': '1', 'name': 'biography'}],\n",
       "  'asin': '',\n",
       "  'is_ebook': 'false',\n",
       "  'average_rating': '4.00',\n",
       "  'kindle_asin': '',\n",
       "  'similar_books': '',\n",
       "  'description': '',\n",
       "  'format': 'Paperback',\n",
       "  'link': 'https://www.goodreads.com/book/show/5333265-w-c-fields',\n",
       "  'publisher': \"St. Martin's Press\",\n",
       "  'num_pages': '256',\n",
       "  'publication_day': '1',\n",
       "  'isbn13': '9780312853129',\n",
       "  'publication_month': '9',\n",
       "  'edition_information': '',\n",
       "  'publication_year': '1984',\n",
       "  'url': 'https://www.goodreads.com/book/show/5333265-w-c-fields',\n",
       "  'image_url': 'https://images.gr-assets.com/books/1310220028m/5333265.jpg',\n",
       "  'book_id': '5333265',\n",
       "  'ratings_count': '3',\n",
       "  'work_id': '5400751',\n",
       "  'title': 'W.C. Fields: A Life on Film',\n",
       "  'title_without_series': 'W.C. Fields: A Life on Film',\n",
       "  'author_id': '604031',\n",
       "  'role': ''}]"
      ]
     },
     "execution_count": 19,
     "metadata": {},
     "output_type": "execute_result"
    }
   ],
   "source": [
    "books_mod = load_books(os.path.join(dir, 'goodreads_books.json.gz'), 0)\n",
    "books_mod"
   ]
  },
  {
   "cell_type": "code",
   "execution_count": 20,
   "metadata": {},
   "outputs": [
    {
     "data": {
      "text/html": [
       "<div>\n",
       "<style scoped>\n",
       "    .dataframe tbody tr th:only-of-type {\n",
       "        vertical-align: middle;\n",
       "    }\n",
       "\n",
       "    .dataframe tbody tr th {\n",
       "        vertical-align: top;\n",
       "    }\n",
       "\n",
       "    .dataframe thead th {\n",
       "        text-align: right;\n",
       "    }\n",
       "</style>\n",
       "<table border=\"1\" class=\"dataframe\">\n",
       "  <thead>\n",
       "    <tr style=\"text-align: right;\">\n",
       "      <th></th>\n",
       "      <th>isbn</th>\n",
       "      <th>text_reviews_count</th>\n",
       "      <th>series</th>\n",
       "      <th>country_code</th>\n",
       "      <th>language_code</th>\n",
       "      <th>average_rating</th>\n",
       "      <th>similar_books</th>\n",
       "      <th>description</th>\n",
       "      <th>format</th>\n",
       "      <th>publisher</th>\n",
       "      <th>...</th>\n",
       "      <th>publication_month</th>\n",
       "      <th>publication_year</th>\n",
       "      <th>image_url</th>\n",
       "      <th>book_id</th>\n",
       "      <th>ratings_count</th>\n",
       "      <th>work_id</th>\n",
       "      <th>title</th>\n",
       "      <th>title_without_series</th>\n",
       "      <th>author_id</th>\n",
       "      <th>role</th>\n",
       "    </tr>\n",
       "  </thead>\n",
       "  <tbody>\n",
       "    <tr>\n",
       "      <th>0</th>\n",
       "      <td>0312853122</td>\n",
       "      <td>1</td>\n",
       "      <td></td>\n",
       "      <td>US</td>\n",
       "      <td></td>\n",
       "      <td>4.00</td>\n",
       "      <td></td>\n",
       "      <td></td>\n",
       "      <td>Paperback</td>\n",
       "      <td>St. Martin's Press</td>\n",
       "      <td>...</td>\n",
       "      <td>9</td>\n",
       "      <td>1984</td>\n",
       "      <td>https://images.gr-assets.com/books/1310220028m...</td>\n",
       "      <td>5333265</td>\n",
       "      <td>3</td>\n",
       "      <td>5400751</td>\n",
       "      <td>W.C. Fields: A Life on Film</td>\n",
       "      <td>W.C. Fields: A Life on Film</td>\n",
       "      <td>604031</td>\n",
       "      <td></td>\n",
       "    </tr>\n",
       "  </tbody>\n",
       "</table>\n",
       "<p>1 rows × 23 columns</p>\n",
       "</div>"
      ],
      "text/plain": [
       "         isbn text_reviews_count series country_code language_code  \\\n",
       "0  0312853122                  1                  US                 \n",
       "\n",
       "  average_rating similar_books description     format           publisher  \\\n",
       "0           4.00                            Paperback  St. Martin's Press   \n",
       "\n",
       "   ... publication_month publication_year  \\\n",
       "0  ...                 9             1984   \n",
       "\n",
       "                                           image_url  book_id ratings_count  \\\n",
       "0  https://images.gr-assets.com/books/1310220028m...  5333265             3   \n",
       "\n",
       "   work_id                        title         title_without_series  \\\n",
       "0  5400751  W.C. Fields: A Life on Film  W.C. Fields: A Life on Film   \n",
       "\n",
       "  author_id role  \n",
       "0    604031       \n",
       "\n",
       "[1 rows x 23 columns]"
      ]
     },
     "execution_count": 20,
     "metadata": {},
     "output_type": "execute_result"
    }
   ],
   "source": [
    "booksModDf = pd.DataFrame(books_mod)\n",
    "booksModDf = booksModDf.drop(['popular_shelves', 'asin', 'kindle_asin', 'is_ebook', 'link', 'edition_information', 'url'], axis=1)\n",
    "booksModDf"
   ]
  },
  {
   "cell_type": "code",
   "execution_count": 21,
   "metadata": {},
   "outputs": [
    {
     "data": {
      "text/html": [
       "<div>\n",
       "<style scoped>\n",
       "    .dataframe tbody tr th:only-of-type {\n",
       "        vertical-align: middle;\n",
       "    }\n",
       "\n",
       "    .dataframe tbody tr th {\n",
       "        vertical-align: top;\n",
       "    }\n",
       "\n",
       "    .dataframe thead th {\n",
       "        text-align: right;\n",
       "    }\n",
       "</style>\n",
       "<table border=\"1\" class=\"dataframe\">\n",
       "  <thead>\n",
       "    <tr style=\"text-align: right;\">\n",
       "      <th></th>\n",
       "      <th>series</th>\n",
       "      <th>similar_books</th>\n",
       "      <th>author_id</th>\n",
       "      <th>role</th>\n",
       "    </tr>\n",
       "  </thead>\n",
       "  <tbody>\n",
       "    <tr>\n",
       "      <th>0</th>\n",
       "      <td></td>\n",
       "      <td></td>\n",
       "      <td>604031</td>\n",
       "      <td></td>\n",
       "    </tr>\n",
       "  </tbody>\n",
       "</table>\n",
       "</div>"
      ],
      "text/plain": [
       "  series similar_books author_id role\n",
       "0                         604031     "
      ]
     },
     "execution_count": 21,
     "metadata": {},
     "output_type": "execute_result"
    }
   ],
   "source": [
    "# Fixed Fields\n",
    "booksModDf[['series', 'similar_books', 'author_id', 'role']]"
   ]
  },
  {
   "cell_type": "markdown",
   "metadata": {},
   "source": [
    "---"
   ]
  },
  {
   "cell_type": "markdown",
   "metadata": {},
   "source": [
    "### Authors"
   ]
  },
  {
   "cell_type": "code",
   "execution_count": 4,
   "metadata": {},
   "outputs": [
    {
     "data": {
      "text/plain": [
       "[{'average_rating': '3.98',\n",
       "  'author_id': '604031',\n",
       "  'text_reviews_count': '7',\n",
       "  'name': 'Ronald J. Fields',\n",
       "  'ratings_count': '49'}]"
      ]
     },
     "execution_count": 4,
     "metadata": {},
     "output_type": "execute_result"
    }
   ],
   "source": [
    "authors = load_data(os.path.join(dir, 'goodreads_book_authors.json.gz'), 0)\n",
    "authors"
   ]
  },
  {
   "cell_type": "code",
   "execution_count": 22,
   "metadata": {},
   "outputs": [
    {
     "name": "stdout",
     "output_type": "stream",
     "text": [
      "829529\n"
     ]
    }
   ],
   "source": [
    "print(count_gzj(os.path.join(dir, 'goodreads_book_authors.json.gz')))"
   ]
  },
  {
   "cell_type": "code",
   "execution_count": 5,
   "metadata": {},
   "outputs": [
    {
     "data": {
      "text/html": [
       "<div>\n",
       "<style scoped>\n",
       "    .dataframe tbody tr th:only-of-type {\n",
       "        vertical-align: middle;\n",
       "    }\n",
       "\n",
       "    .dataframe tbody tr th {\n",
       "        vertical-align: top;\n",
       "    }\n",
       "\n",
       "    .dataframe thead th {\n",
       "        text-align: right;\n",
       "    }\n",
       "</style>\n",
       "<table border=\"1\" class=\"dataframe\">\n",
       "  <thead>\n",
       "    <tr style=\"text-align: right;\">\n",
       "      <th></th>\n",
       "      <th>average_rating</th>\n",
       "      <th>author_id</th>\n",
       "      <th>text_reviews_count</th>\n",
       "      <th>name</th>\n",
       "      <th>ratings_count</th>\n",
       "    </tr>\n",
       "  </thead>\n",
       "  <tbody>\n",
       "    <tr>\n",
       "      <th>0</th>\n",
       "      <td>3.98</td>\n",
       "      <td>604031</td>\n",
       "      <td>7</td>\n",
       "      <td>Ronald J. Fields</td>\n",
       "      <td>49</td>\n",
       "    </tr>\n",
       "  </tbody>\n",
       "</table>\n",
       "</div>"
      ],
      "text/plain": [
       "  average_rating author_id text_reviews_count              name ratings_count\n",
       "0           3.98    604031                  7  Ronald J. Fields            49"
      ]
     },
     "execution_count": 5,
     "metadata": {},
     "output_type": "execute_result"
    }
   ],
   "source": [
    "authorsDf = pd.DataFrame(authors)\n",
    "authorsDf"
   ]
  },
  {
   "cell_type": "markdown",
   "metadata": {},
   "source": [
    "---"
   ]
  },
  {
   "cell_type": "markdown",
   "metadata": {},
   "source": [
    "### Series\n"
   ]
  },
  {
   "cell_type": "code",
   "execution_count": 6,
   "metadata": {},
   "outputs": [
    {
     "data": {
      "text/plain": [
       "[{'numbered': 'true',\n",
       "  'note': '',\n",
       "  'description': '',\n",
       "  'title': 'Sun Wolf and Starhawk',\n",
       "  'series_works_count': '9',\n",
       "  'series_id': '189911',\n",
       "  'primary_work_count': '3'}]"
      ]
     },
     "execution_count": 6,
     "metadata": {},
     "output_type": "execute_result"
    }
   ],
   "source": [
    "series = load_data(os.path.join(dir, 'goodreads_book_series.json.gz'), 0)\n",
    "series"
   ]
  },
  {
   "cell_type": "code",
   "execution_count": 24,
   "metadata": {},
   "outputs": [
    {
     "name": "stdout",
     "output_type": "stream",
     "text": [
      "400390\n"
     ]
    }
   ],
   "source": [
    "print(count_gzj(os.path.join(dir, 'goodreads_book_series.json.gz')))"
   ]
  },
  {
   "cell_type": "code",
   "execution_count": 7,
   "metadata": {},
   "outputs": [
    {
     "data": {
      "text/html": [
       "<div>\n",
       "<style scoped>\n",
       "    .dataframe tbody tr th:only-of-type {\n",
       "        vertical-align: middle;\n",
       "    }\n",
       "\n",
       "    .dataframe tbody tr th {\n",
       "        vertical-align: top;\n",
       "    }\n",
       "\n",
       "    .dataframe thead th {\n",
       "        text-align: right;\n",
       "    }\n",
       "</style>\n",
       "<table border=\"1\" class=\"dataframe\">\n",
       "  <thead>\n",
       "    <tr style=\"text-align: right;\">\n",
       "      <th></th>\n",
       "      <th>numbered</th>\n",
       "      <th>note</th>\n",
       "      <th>description</th>\n",
       "      <th>title</th>\n",
       "      <th>series_works_count</th>\n",
       "      <th>series_id</th>\n",
       "      <th>primary_work_count</th>\n",
       "    </tr>\n",
       "  </thead>\n",
       "  <tbody>\n",
       "    <tr>\n",
       "      <th>0</th>\n",
       "      <td>true</td>\n",
       "      <td></td>\n",
       "      <td></td>\n",
       "      <td>Sun Wolf and Starhawk</td>\n",
       "      <td>9</td>\n",
       "      <td>189911</td>\n",
       "      <td>3</td>\n",
       "    </tr>\n",
       "  </tbody>\n",
       "</table>\n",
       "</div>"
      ],
      "text/plain": [
       "  numbered note description                  title series_works_count  \\\n",
       "0     true                   Sun Wolf and Starhawk                  9   \n",
       "\n",
       "  series_id primary_work_count  \n",
       "0    189911                  3  "
      ]
     },
     "execution_count": 7,
     "metadata": {},
     "output_type": "execute_result"
    }
   ],
   "source": [
    "seriesDf = pd.DataFrame(series)\n",
    "seriesDf"
   ]
  },
  {
   "cell_type": "markdown",
   "metadata": {},
   "source": [
    "---"
   ]
  },
  {
   "cell_type": "markdown",
   "metadata": {},
   "source": [
    "### Genres\n",
    "\n",
    "This needs some processing"
   ]
  },
  {
   "cell_type": "code",
   "execution_count": 10,
   "metadata": {},
   "outputs": [
    {
     "data": {
      "text/plain": [
       "{'book_id': '7327624',\n",
       " 'genres': {'fantasy, paranormal': 31,\n",
       "  'fiction': 8,\n",
       "  'mystery, thriller, crime': 1,\n",
       "  'poetry': 1}}"
      ]
     },
     "execution_count": 10,
     "metadata": {},
     "output_type": "execute_result"
    }
   ],
   "source": [
    "genres = load_data(os.path.join(dir, 'goodreads_book_genres_initial.json.gz'), 2)\n",
    "#Tricky Example\n",
    "genres[2]"
   ]
  },
  {
   "cell_type": "code",
   "execution_count": 58,
   "metadata": {},
   "outputs": [
    {
     "name": "stdout",
     "output_type": "stream",
     "text": [
      "2360655\n"
     ]
    }
   ],
   "source": [
    "print(count_gzj(os.path.join(dir, 'goodreads_book_genres_initial.json.gz')))"
   ]
  },
  {
   "cell_type": "code",
   "execution_count": 14,
   "metadata": {},
   "outputs": [
    {
     "data": {
      "text/html": [
       "<div>\n",
       "<style scoped>\n",
       "    .dataframe tbody tr th:only-of-type {\n",
       "        vertical-align: middle;\n",
       "    }\n",
       "\n",
       "    .dataframe tbody tr th {\n",
       "        vertical-align: top;\n",
       "    }\n",
       "\n",
       "    .dataframe thead th {\n",
       "        text-align: right;\n",
       "    }\n",
       "</style>\n",
       "<table border=\"1\" class=\"dataframe\">\n",
       "  <thead>\n",
       "    <tr style=\"text-align: right;\">\n",
       "      <th></th>\n",
       "      <th>book_id</th>\n",
       "      <th>genres.fantasy, paranormal</th>\n",
       "      <th>genres.fiction</th>\n",
       "      <th>genres.mystery, thriller, crime</th>\n",
       "      <th>genres.poetry</th>\n",
       "    </tr>\n",
       "  </thead>\n",
       "  <tbody>\n",
       "    <tr>\n",
       "      <th>0</th>\n",
       "      <td>7327624</td>\n",
       "      <td>31</td>\n",
       "      <td>8</td>\n",
       "      <td>1</td>\n",
       "      <td>1</td>\n",
       "    </tr>\n",
       "  </tbody>\n",
       "</table>\n",
       "</div>"
      ],
      "text/plain": [
       "   book_id  genres.fantasy, paranormal  genres.fiction  \\\n",
       "0  7327624                          31               8   \n",
       "\n",
       "   genres.mystery, thriller, crime  genres.poetry  \n",
       "0                                1              1  "
      ]
     },
     "execution_count": 14,
     "metadata": {},
     "output_type": "execute_result"
    }
   ],
   "source": [
    "#Normalize\n",
    "norm = pd.json_normalize(genres[2])\n",
    "norm"
   ]
  },
  {
   "cell_type": "code",
   "execution_count": 23,
   "metadata": {},
   "outputs": [
    {
     "data": {
      "text/html": [
       "<div>\n",
       "<style scoped>\n",
       "    .dataframe tbody tr th:only-of-type {\n",
       "        vertical-align: middle;\n",
       "    }\n",
       "\n",
       "    .dataframe tbody tr th {\n",
       "        vertical-align: top;\n",
       "    }\n",
       "\n",
       "    .dataframe thead th {\n",
       "        text-align: right;\n",
       "    }\n",
       "</style>\n",
       "<table border=\"1\" class=\"dataframe\">\n",
       "  <thead>\n",
       "    <tr style=\"text-align: right;\">\n",
       "      <th></th>\n",
       "      <th>book_id</th>\n",
       "      <th>genre</th>\n",
       "      <th>count</th>\n",
       "    </tr>\n",
       "  </thead>\n",
       "  <tbody>\n",
       "    <tr>\n",
       "      <th>0</th>\n",
       "      <td>7327624</td>\n",
       "      <td>fantasy, paranormal</td>\n",
       "      <td>31</td>\n",
       "    </tr>\n",
       "    <tr>\n",
       "      <th>1</th>\n",
       "      <td>7327624</td>\n",
       "      <td>fiction</td>\n",
       "      <td>8</td>\n",
       "    </tr>\n",
       "    <tr>\n",
       "      <th>2</th>\n",
       "      <td>7327624</td>\n",
       "      <td>mystery, thriller, crime</td>\n",
       "      <td>1</td>\n",
       "    </tr>\n",
       "    <tr>\n",
       "      <th>3</th>\n",
       "      <td>7327624</td>\n",
       "      <td>poetry</td>\n",
       "      <td>1</td>\n",
       "    </tr>\n",
       "  </tbody>\n",
       "</table>\n",
       "</div>"
      ],
      "text/plain": [
       "   book_id                     genre  count\n",
       "0  7327624       fantasy, paranormal     31\n",
       "1  7327624                   fiction      8\n",
       "2  7327624  mystery, thriller, crime      1\n",
       "3  7327624                    poetry      1"
      ]
     },
     "execution_count": 23,
     "metadata": {},
     "output_type": "execute_result"
    }
   ],
   "source": [
    "#Melt\n",
    "melted = pd.melt(norm, id_vars='book_id', var_name='genre', value_name='count')\n",
    "melted['genre'] = melted['genre'].str.slice_replace(stop=7)\n",
    "melted\n"
   ]
  },
  {
   "cell_type": "markdown",
   "metadata": {},
   "source": [
    "---"
   ]
  },
  {
   "cell_type": "markdown",
   "metadata": {},
   "source": [
    "### Interactions (Detailed/Genre Specific)"
   ]
  },
  {
   "cell_type": "code",
   "execution_count": 25,
   "metadata": {},
   "outputs": [
    {
     "data": {
      "text/plain": [
       "[{'user_id': '8842281e1d1347389f2ab93d60773d4d',\n",
       "  'book_id': '19161852',\n",
       "  'review_id': '4443cb6883624c3772625ef5b7b4e138',\n",
       "  'is_read': False,\n",
       "  'rating': 0,\n",
       "  'review_text_incomplete': '',\n",
       "  'date_added': 'Fri Sep 08 10:44:24 -0700 2017',\n",
       "  'date_updated': 'Fri Sep 08 10:44:24 -0700 2017',\n",
       "  'read_at': '',\n",
       "  'started_at': ''}]"
      ]
     },
     "execution_count": 25,
     "metadata": {},
     "output_type": "execute_result"
    }
   ],
   "source": [
    "interactions = load_data(os.path.join(dir, 'goodreads_interactions_fantasy_paranormal.json.gz'), 0)\n",
    "interactions"
   ]
  },
  {
   "cell_type": "code",
   "execution_count": 28,
   "metadata": {},
   "outputs": [
    {
     "data": {
      "text/html": [
       "<div>\n",
       "<style scoped>\n",
       "    .dataframe tbody tr th:only-of-type {\n",
       "        vertical-align: middle;\n",
       "    }\n",
       "\n",
       "    .dataframe tbody tr th {\n",
       "        vertical-align: top;\n",
       "    }\n",
       "\n",
       "    .dataframe thead th {\n",
       "        text-align: right;\n",
       "    }\n",
       "</style>\n",
       "<table border=\"1\" class=\"dataframe\">\n",
       "  <thead>\n",
       "    <tr style=\"text-align: right;\">\n",
       "      <th></th>\n",
       "      <th>user_id</th>\n",
       "      <th>book_id</th>\n",
       "      <th>review_id</th>\n",
       "      <th>is_read</th>\n",
       "      <th>rating</th>\n",
       "    </tr>\n",
       "  </thead>\n",
       "  <tbody>\n",
       "    <tr>\n",
       "      <th>0</th>\n",
       "      <td>8842281e1d1347389f2ab93d60773d4d</td>\n",
       "      <td>19161852</td>\n",
       "      <td>4443cb6883624c3772625ef5b7b4e138</td>\n",
       "      <td>False</td>\n",
       "      <td>0</td>\n",
       "    </tr>\n",
       "  </tbody>\n",
       "</table>\n",
       "</div>"
      ],
      "text/plain": [
       "                            user_id   book_id  \\\n",
       "0  8842281e1d1347389f2ab93d60773d4d  19161852   \n",
       "\n",
       "                          review_id  is_read  rating  \n",
       "0  4443cb6883624c3772625ef5b7b4e138    False       0  "
      ]
     },
     "execution_count": 28,
     "metadata": {},
     "output_type": "execute_result"
    }
   ],
   "source": [
    "interactionsDf = pd.DataFrame(interactions)\n",
    "interactionsDf = interactionsDf.drop(['review_text_incomplete', 'date_added', 'date_updated', 'read_at', 'started_at'], axis=1)\n",
    "interactionsDf"
   ]
  },
  {
   "cell_type": "markdown",
   "metadata": {},
   "source": [
    "---"
   ]
  },
  {
   "cell_type": "markdown",
   "metadata": {},
   "source": [
    "### Interactions\n",
    "\n",
    "Need to use the csv maps"
   ]
  },
  {
   "cell_type": "code",
   "execution_count": 39,
   "metadata": {},
   "outputs": [
    {
     "data": {
      "text/html": [
       "<div>\n",
       "<style scoped>\n",
       "    .dataframe tbody tr th:only-of-type {\n",
       "        vertical-align: middle;\n",
       "    }\n",
       "\n",
       "    .dataframe tbody tr th {\n",
       "        vertical-align: top;\n",
       "    }\n",
       "\n",
       "    .dataframe thead th {\n",
       "        text-align: right;\n",
       "    }\n",
       "</style>\n",
       "<table border=\"1\" class=\"dataframe\">\n",
       "  <thead>\n",
       "    <tr style=\"text-align: right;\">\n",
       "      <th></th>\n",
       "      <th>user_id</th>\n",
       "      <th>book_id</th>\n",
       "      <th>is_read</th>\n",
       "      <th>rating</th>\n",
       "      <th>is_reviewed</th>\n",
       "    </tr>\n",
       "  </thead>\n",
       "  <tbody>\n",
       "    <tr>\n",
       "      <th>0</th>\n",
       "      <td>0</td>\n",
       "      <td>948</td>\n",
       "      <td>1</td>\n",
       "      <td>5</td>\n",
       "      <td>0</td>\n",
       "    </tr>\n",
       "    <tr>\n",
       "      <th>1</th>\n",
       "      <td>0</td>\n",
       "      <td>947</td>\n",
       "      <td>1</td>\n",
       "      <td>5</td>\n",
       "      <td>1</td>\n",
       "    </tr>\n",
       "    <tr>\n",
       "      <th>2</th>\n",
       "      <td>0</td>\n",
       "      <td>946</td>\n",
       "      <td>1</td>\n",
       "      <td>5</td>\n",
       "      <td>0</td>\n",
       "    </tr>\n",
       "  </tbody>\n",
       "</table>\n",
       "</div>"
      ],
      "text/plain": [
       "   user_id  book_id  is_read  rating  is_reviewed\n",
       "0        0      948        1       5            0\n",
       "1        0      947        1       5            1\n",
       "2        0      946        1       5            0"
      ]
     },
     "execution_count": 39,
     "metadata": {},
     "output_type": "execute_result"
    }
   ],
   "source": [
    "ints = pd.read_csv(os.path.join(dir, 'goodreads_interactions.csv'), nrows=3)\n",
    "ints"
   ]
  },
  {
   "cell_type": "code",
   "execution_count": null,
   "metadata": {},
   "outputs": [],
   "source": [
    "ints.isnull().any()"
   ]
  },
  {
   "cell_type": "code",
   "execution_count": 27,
   "metadata": {},
   "outputs": [
    {
     "name": "stdout",
     "output_type": "stream",
     "text": [
      "['user_id', 'book_id', 'is_read', 'rating', 'is_reviewed']\n",
      "228648342\n"
     ]
    }
   ],
   "source": [
    "with open(os.path.join(dir, 'goodreads_interactions.csv')) as f:\n",
    "    count = 0\n",
    "    fcsv = csv.reader(f)\n",
    "    headers = next(fcsv)\n",
    "    print(headers)\n",
    "    for row in fcsv:\n",
    "        count += 1\n",
    "    print(count)"
   ]
  },
  {
   "cell_type": "markdown",
   "metadata": {},
   "source": [
    "### User Map"
   ]
  },
  {
   "cell_type": "code",
   "execution_count": 12,
   "metadata": {},
   "outputs": [
    {
     "data": {
      "text/html": [
       "<div>\n",
       "<style scoped>\n",
       "    .dataframe tbody tr th:only-of-type {\n",
       "        vertical-align: middle;\n",
       "    }\n",
       "\n",
       "    .dataframe tbody tr th {\n",
       "        vertical-align: top;\n",
       "    }\n",
       "\n",
       "    .dataframe thead th {\n",
       "        text-align: right;\n",
       "    }\n",
       "</style>\n",
       "<table border=\"1\" class=\"dataframe\">\n",
       "  <thead>\n",
       "    <tr style=\"text-align: right;\">\n",
       "      <th></th>\n",
       "      <th>user_id_csv</th>\n",
       "      <th>user_id</th>\n",
       "    </tr>\n",
       "  </thead>\n",
       "  <tbody>\n",
       "    <tr>\n",
       "      <th>0</th>\n",
       "      <td>0</td>\n",
       "      <td>8842281e1d1347389f2ab93d60773d4d</td>\n",
       "    </tr>\n",
       "    <tr>\n",
       "      <th>1</th>\n",
       "      <td>1</td>\n",
       "      <td>72fb0d0087d28c832f15776b0d936598</td>\n",
       "    </tr>\n",
       "    <tr>\n",
       "      <th>2</th>\n",
       "      <td>2</td>\n",
       "      <td>ab2923b738ea3082f5f3efcbbfacb218</td>\n",
       "    </tr>\n",
       "  </tbody>\n",
       "</table>\n",
       "</div>"
      ],
      "text/plain": [
       "   user_id_csv                           user_id\n",
       "0            0  8842281e1d1347389f2ab93d60773d4d\n",
       "1            1  72fb0d0087d28c832f15776b0d936598\n",
       "2            2  ab2923b738ea3082f5f3efcbbfacb218"
      ]
     },
     "execution_count": 12,
     "metadata": {},
     "output_type": "execute_result"
    }
   ],
   "source": [
    "userMap = pd.read_csv(os.path.join(dir, 'user_id_map.csv'), nrows=3)\n",
    "userMap"
   ]
  },
  {
   "cell_type": "code",
   "execution_count": 28,
   "metadata": {},
   "outputs": [
    {
     "name": "stdout",
     "output_type": "stream",
     "text": [
      "['user_id_csv', 'user_id']\n",
      "876145\n"
     ]
    }
   ],
   "source": [
    "with open(os.path.join(dir, 'user_id_map.csv')) as f:\n",
    "    count = 0\n",
    "    fcsv = csv.reader(f)\n",
    "    headers = next(fcsv)\n",
    "    print(headers)\n",
    "    for row in fcsv:\n",
    "        count += 1\n",
    "    print(count)"
   ]
  },
  {
   "cell_type": "markdown",
   "metadata": {},
   "source": [
    "### book_id_Map"
   ]
  },
  {
   "cell_type": "code",
   "execution_count": 34,
   "metadata": {},
   "outputs": [
    {
     "data": {
      "text/html": [
       "<div>\n",
       "<style scoped>\n",
       "    .dataframe tbody tr th:only-of-type {\n",
       "        vertical-align: middle;\n",
       "    }\n",
       "\n",
       "    .dataframe tbody tr th {\n",
       "        vertical-align: top;\n",
       "    }\n",
       "\n",
       "    .dataframe thead th {\n",
       "        text-align: right;\n",
       "    }\n",
       "</style>\n",
       "<table border=\"1\" class=\"dataframe\">\n",
       "  <thead>\n",
       "    <tr style=\"text-align: right;\">\n",
       "      <th></th>\n",
       "      <th>book_id_csv</th>\n",
       "      <th>book_id</th>\n",
       "    </tr>\n",
       "  </thead>\n",
       "  <tbody>\n",
       "    <tr>\n",
       "      <th>0</th>\n",
       "      <td>0</td>\n",
       "      <td>34684622</td>\n",
       "    </tr>\n",
       "    <tr>\n",
       "      <th>1</th>\n",
       "      <td>1</td>\n",
       "      <td>34536488</td>\n",
       "    </tr>\n",
       "    <tr>\n",
       "      <th>2</th>\n",
       "      <td>2</td>\n",
       "      <td>34017076</td>\n",
       "    </tr>\n",
       "    <tr>\n",
       "      <th>3</th>\n",
       "      <td>3</td>\n",
       "      <td>71730</td>\n",
       "    </tr>\n",
       "    <tr>\n",
       "      <th>4</th>\n",
       "      <td>4</td>\n",
       "      <td>30422361</td>\n",
       "    </tr>\n",
       "    <tr>\n",
       "      <th>...</th>\n",
       "      <td>...</td>\n",
       "      <td>...</td>\n",
       "    </tr>\n",
       "    <tr>\n",
       "      <th>2360645</th>\n",
       "      <td>2360645</td>\n",
       "      <td>19517100</td>\n",
       "    </tr>\n",
       "    <tr>\n",
       "      <th>2360646</th>\n",
       "      <td>2360646</td>\n",
       "      <td>18597299</td>\n",
       "    </tr>\n",
       "    <tr>\n",
       "      <th>2360647</th>\n",
       "      <td>2360647</td>\n",
       "      <td>18584882</td>\n",
       "    </tr>\n",
       "    <tr>\n",
       "      <th>2360648</th>\n",
       "      <td>2360648</td>\n",
       "      <td>18518801</td>\n",
       "    </tr>\n",
       "    <tr>\n",
       "      <th>2360649</th>\n",
       "      <td>2360649</td>\n",
       "      <td>18518607</td>\n",
       "    </tr>\n",
       "  </tbody>\n",
       "</table>\n",
       "<p>2360650 rows × 2 columns</p>\n",
       "</div>"
      ],
      "text/plain": [
       "         book_id_csv   book_id\n",
       "0                  0  34684622\n",
       "1                  1  34536488\n",
       "2                  2  34017076\n",
       "3                  3     71730\n",
       "4                  4  30422361\n",
       "...              ...       ...\n",
       "2360645      2360645  19517100\n",
       "2360646      2360646  18597299\n",
       "2360647      2360647  18584882\n",
       "2360648      2360648  18518801\n",
       "2360649      2360649  18518607\n",
       "\n",
       "[2360650 rows x 2 columns]"
      ]
     },
     "execution_count": 34,
     "metadata": {},
     "output_type": "execute_result"
    }
   ],
   "source": [
    "bookMap = pd.read_csv(os.path.join(dir, 'book_id_map.csv'))\n",
    "bookMap"
   ]
  },
  {
   "cell_type": "code",
   "execution_count": 36,
   "metadata": {},
   "outputs": [
    {
     "data": {
      "text/plain": [
       "book_id_csv    False\n",
       "book_id        False\n",
       "dtype: bool"
      ]
     },
     "execution_count": 36,
     "metadata": {},
     "output_type": "execute_result"
    }
   ],
   "source": [
    "bookMap.isnull().any()"
   ]
  },
  {
   "cell_type": "code",
   "execution_count": 37,
   "metadata": {},
   "outputs": [
    {
     "data": {
      "text/plain": [
       "book_id_csv    int64\n",
       "book_id        int64\n",
       "dtype: object"
      ]
     },
     "execution_count": 37,
     "metadata": {},
     "output_type": "execute_result"
    }
   ],
   "source": [
    "bookMap.dtypes"
   ]
  },
  {
   "cell_type": "code",
   "execution_count": 29,
   "metadata": {},
   "outputs": [
    {
     "name": "stdout",
     "output_type": "stream",
     "text": [
      "['book_id_csv', 'book_id']\n",
      "2360650\n"
     ]
    }
   ],
   "source": [
    "with open(os.path.join(dir, 'book_id_map.csv')) as f:\n",
    "    count = 0\n",
    "    fcsv = csv.reader(f)\n",
    "    headers = next(fcsv)\n",
    "    print(headers)\n",
    "    for row in fcsv:\n",
    "        count += 1\n",
    "    print(count)"
   ]
  },
  {
   "cell_type": "markdown",
   "metadata": {},
   "source": [
    "---"
   ]
  },
  {
   "cell_type": "markdown",
   "metadata": {},
   "source": [
    "## Reviews"
   ]
  },
  {
   "cell_type": "code",
   "execution_count": 15,
   "metadata": {},
   "outputs": [
    {
     "data": {
      "text/plain": [
       "[{'user_id': '8842281e1d1347389f2ab93d60773d4d',\n",
       "  'book_id': '18245960',\n",
       "  'review_id': 'dfdbb7b0eb5a7e4c26d59a937e2e5feb',\n",
       "  'rating': 5,\n",
       "  'review_text': 'This is a special book. It started slow for about the first third, then in the middle third it started to get interesting, then the last third blew my mind. This is what I love about good science fiction - it pushes your thinking about where things can go. \\n It is a 2015 Hugo winner, and translated from its original Chinese, which made it interesting in just a different way from most things I\\'ve read. For instance the intermixing of Chinese revolutionary history - how they kept accusing people of being \"reactionaries\", etc. \\n It is a book about science, and aliens. The science described in the book is impressive - its a book grounded in physics and pretty accurate as far as I could tell. Though when it got to folding protons into 8 dimensions I think he was just making stuff up - interesting to think about though. \\n But what would happen if our SETI stations received a message - if we found someone was out there - and the person monitoring and answering the signal on our side was disillusioned? That part of the book was a bit dark - I would like to think human reaction to discovering alien civilization that is hostile would be more like Enders Game where we would band together. \\n I did like how the book unveiled the Trisolaran culture through the game. It was a smart way to build empathy with them and also understand what they\\'ve gone through across so many centuries. And who know a 3 body problem was an unsolvable math problem? But I still don\\'t get who made the game - maybe that will come in the next book. \\n I loved this quote: \\n \"In the long history of scientific progress, how many protons have been smashed apart in accelerators by physicists? How many neutrons and electrons? Probably no fewer than a hundred million. Every collision was probably the end of the civilizations and intelligences in a microcosmos. In fact, even in nature, the destruction of universes must be happening at every second--for example, through the decay of neutrons. Also, a high-energy cosmic ray entering the atmosphere may destroy thousands of such miniature universes....\"',\n",
       "  'date_added': 'Sun Jul 30 07:44:10 -0700 2017',\n",
       "  'date_updated': 'Wed Aug 30 00:00:26 -0700 2017',\n",
       "  'read_at': 'Sat Aug 26 12:05:52 -0700 2017',\n",
       "  'started_at': 'Tue Aug 15 13:23:18 -0700 2017',\n",
       "  'n_votes': 28,\n",
       "  'n_comments': 1}]"
      ]
     },
     "execution_count": 15,
     "metadata": {},
     "output_type": "execute_result"
    }
   ],
   "source": [
    "reviews = load_data(os.path.join(dir, 'goodreads_reviews_fantasy_paranormal.json.gz'), 0)\n",
    "reviews"
   ]
  },
  {
   "cell_type": "code",
   "execution_count": 26,
   "metadata": {},
   "outputs": [
    {
     "data": {
      "text/html": [
       "<div>\n",
       "<style scoped>\n",
       "    .dataframe tbody tr th:only-of-type {\n",
       "        vertical-align: middle;\n",
       "    }\n",
       "\n",
       "    .dataframe tbody tr th {\n",
       "        vertical-align: top;\n",
       "    }\n",
       "\n",
       "    .dataframe thead th {\n",
       "        text-align: right;\n",
       "    }\n",
       "</style>\n",
       "<table border=\"1\" class=\"dataframe\">\n",
       "  <thead>\n",
       "    <tr style=\"text-align: right;\">\n",
       "      <th></th>\n",
       "      <th>user_id</th>\n",
       "      <th>book_id</th>\n",
       "      <th>review_id</th>\n",
       "      <th>rating</th>\n",
       "      <th>review_text</th>\n",
       "      <th>n_votes</th>\n",
       "      <th>n_comments</th>\n",
       "    </tr>\n",
       "  </thead>\n",
       "  <tbody>\n",
       "    <tr>\n",
       "      <th>0</th>\n",
       "      <td>8842281e1d1347389f2ab93d60773d4d</td>\n",
       "      <td>18245960</td>\n",
       "      <td>dfdbb7b0eb5a7e4c26d59a937e2e5feb</td>\n",
       "      <td>5</td>\n",
       "      <td>This is a special book. It started slow for ab...</td>\n",
       "      <td>28</td>\n",
       "      <td>1</td>\n",
       "    </tr>\n",
       "  </tbody>\n",
       "</table>\n",
       "</div>"
      ],
      "text/plain": [
       "                            user_id   book_id  \\\n",
       "0  8842281e1d1347389f2ab93d60773d4d  18245960   \n",
       "\n",
       "                          review_id  rating  \\\n",
       "0  dfdbb7b0eb5a7e4c26d59a937e2e5feb       5   \n",
       "\n",
       "                                         review_text  n_votes  n_comments  \n",
       "0  This is a special book. It started slow for ab...       28           1  "
      ]
     },
     "execution_count": 26,
     "metadata": {},
     "output_type": "execute_result"
    }
   ],
   "source": [
    "reviewsDF = pd.DataFrame(reviews)\n",
    "reviewsDF = reviewsDF.drop(['date_added', 'date_updated', 'read_at', 'started_at'], axis=1)\n",
    "reviewsDF"
   ]
  },
  {
   "cell_type": "markdown",
   "metadata": {},
   "source": [
    "---"
   ]
  },
  {
   "cell_type": "markdown",
   "metadata": {},
   "source": [
    "## Methodology for loading data into Database\n",
    "\n",
    "- Can either convert JSON to CSV\n",
    "- Can load JSON\n",
    "\n",
    "Both would need a processing step"
   ]
  },
  {
   "cell_type": "code",
   "execution_count": 85,
   "metadata": {},
   "outputs": [],
   "source": [
    "import dask.dataframe as dd"
   ]
  },
  {
   "cell_type": "markdown",
   "metadata": {},
   "source": [
    "### Books to CSV"
   ]
  },
  {
   "cell_type": "code",
   "execution_count": 56,
   "metadata": {},
   "outputs": [],
   "source": [
    "def load_jc(file_name, chunk=10):\n",
    "    total = 0\n",
    "    count = 0\n",
    "    data = []\n",
    "    with gzip.open(file_name) as fin:\n",
    "        for l in fin:\n",
    "            if total < 20:\n",
    "                d = json.loads(l)\n",
    "                count += 1\n",
    "                total += 1\n",
    "                data.append(d)\n",
    "\n",
    "                # break if reaches the 100th line\n",
    "                if (chunk is not None) and (count > chunk - 1):\n",
    "                    df = pd.DataFrame(data)\n",
    "                    count = 0\n",
    "                    data.clear()\n",
    "                    print(df)\n",
    "            else:\n",
    "                break\n",
    "    return total"
   ]
  },
  {
   "cell_type": "code",
   "execution_count": 57,
   "metadata": {},
   "outputs": [
    {
     "name": "stdout",
     "output_type": "stream",
     "text": [
      "         isbn text_reviews_count    series country_code language_code  \\\n",
      "0  0312853122                  1        []           US                 \n",
      "1  0743509986                  6        []           US                 \n",
      "2                              7  [189911]           US           eng   \n",
      "3  0743294297               3282        []           US           eng   \n",
      "4  0850308712                  5        []           US                 \n",
      "5  1599150603                  7        []           US                 \n",
      "6  0425040887                  4        []           US                 \n",
      "7  1934876569                  6  [151854]           US                 \n",
      "8                              4        []           US                 \n",
      "9  0922915113                 39        []           US                 \n",
      "\n",
      "                                     popular_shelves        asin is_ebook  \\\n",
      "0  [{'count': '3', 'name': 'to-read'}, {'count': ...                false   \n",
      "1  [{'count': '2634', 'name': 'to-read'}, {'count...                false   \n",
      "2  [{'count': '58', 'name': 'to-read'}, {'count':...  B00071IKUY    false   \n",
      "3  [{'count': '7615', 'name': 'to-read'}, {'count...                false   \n",
      "4  [{'count': '32', 'name': 'to-read'}, {'count':...                false   \n",
      "5  [{'count': '56', 'name': 'to-read'}, {'count':...                false   \n",
      "6  [{'count': '14', 'name': 'to-read'}, {'count':...                false   \n",
      "7  [{'count': '515', 'name': 'to-read'}, {'count'...                false   \n",
      "8  [{'count': '4', 'name': 'to-read'}, {'count': ...                 true   \n",
      "9  [{'count': '961', 'name': 'to-read'}, {'count'...                false   \n",
      "\n",
      "  average_rating kindle_asin  ... publication_month edition_information  \\\n",
      "0           4.00              ...                 9                       \n",
      "1           3.23  B000FC0PBC  ...                10            Abridged   \n",
      "2           4.03              ...                     Book Club Edition   \n",
      "3           3.49  B002ENBLOK  ...                 7                       \n",
      "4           3.40              ...                                         \n",
      "5           4.13  B00DU10PUG  ...                 9                       \n",
      "6           4.38              ...                 3                       \n",
      "7           4.22              ...                 3                       \n",
      "8           3.86              ...                 5                       \n",
      "9           3.81  B00AFYVB8Q  ...                 4                       \n",
      "\n",
      "  publication_year                                                url  \\\n",
      "0             1984  https://www.goodreads.com/book/show/5333265-w-...   \n",
      "1             2001  https://www.goodreads.com/book/show/1333909.Go...   \n",
      "2             1987  https://www.goodreads.com/book/show/7327624-th...   \n",
      "3             2009  https://www.goodreads.com/book/show/6066819-be...   \n",
      "4                   https://www.goodreads.com/book/show/287140.Run...   \n",
      "5             2006  https://www.goodreads.com/book/show/287141.The...   \n",
      "6             1979  https://www.goodreads.com/book/show/378460.The...   \n",
      "7             2009  https://www.goodreads.com/book/show/6066812-al...   \n",
      "8             2017  https://www.goodreads.com/book/show/34883016-p...   \n",
      "9             2000  https://www.goodreads.com/book/show/287149.The...   \n",
      "\n",
      "                                           image_url   book_id ratings_count  \\\n",
      "0  https://images.gr-assets.com/books/1310220028m...   5333265             3   \n",
      "1  https://s.gr-assets.com/assets/nophoto/book/11...   1333909            10   \n",
      "2  https://images.gr-assets.com/books/1304100136m...   7327624           140   \n",
      "3  https://s.gr-assets.com/assets/nophoto/book/11...   6066819         51184   \n",
      "4  https://images.gr-assets.com/books/1413219371m...    287140            15   \n",
      "5  https://s.gr-assets.com/assets/nophoto/book/11...    287141            46   \n",
      "6  https://s.gr-assets.com/assets/nophoto/book/11...    378460            12   \n",
      "7  https://images.gr-assets.com/books/1316637798m...   6066812            98   \n",
      "8  https://images.gr-assets.com/books/1493525974m...  34883016             5   \n",
      "9  https://images.gr-assets.com/books/1328768789m...    287149           986   \n",
      "\n",
      "    work_id                                              title  \\\n",
      "0   5400751                        W.C. Fields: A Life on Film   \n",
      "1   1323437                                        Good Harbor   \n",
      "2   8948723  The Unschooled Wizard (Sun Wolf and Starhawk, ...   \n",
      "3   6243154                               Best Friends Forever   \n",
      "4    278577  Runic Astrology: Starcraft and Timekeeping in ...   \n",
      "5    278578                      The Aeneid for Boys and Girls   \n",
      "6    368291                              The Wanting of Levine   \n",
      "7    701117  All's Fairy in Love and War (Avalon: Web of Ma...   \n",
      "8  56135087                  Playmaker: A Venom Series Novella   \n",
      "9    278586                               The Devil's Notebook   \n",
      "\n",
      "                                title_without_series  \n",
      "0                        W.C. Fields: A Life on Film  \n",
      "1                                        Good Harbor  \n",
      "2  The Unschooled Wizard (Sun Wolf and Starhawk, ...  \n",
      "3                               Best Friends Forever  \n",
      "4  Runic Astrology: Starcraft and Timekeeping in ...  \n",
      "5                      The Aeneid for Boys and Girls  \n",
      "6                              The Wanting of Levine  \n",
      "7  All's Fairy in Love and War (Avalon: Web of Ma...  \n",
      "8                  Playmaker: A Venom Series Novella  \n",
      "9                               The Devil's Notebook  \n",
      "\n",
      "[10 rows x 29 columns]\n",
      "         isbn text_reviews_count     series country_code language_code  \\\n",
      "0  184737297X                 15   [169353]           US                 \n",
      "1                             60  [1052227]           US           eng   \n",
      "2  0413675106                  2  [1070125]           US                 \n",
      "3                              3         []           US           ger   \n",
      "4  555118000X                 19         []           US           eng   \n",
      "5  0800759494               2885         []           US                 \n",
      "6  0842379428                566         []           US           eng   \n",
      "7  037583687X                615         []           US                 \n",
      "8  0590417010                193         []           US           eng   \n",
      "9                             22         []           US           eng   \n",
      "\n",
      "                                     popular_shelves        asin is_ebook  \\\n",
      "0  [{'count': '159', 'name': 'to-read'}, {'count'...                false   \n",
      "1  [{'count': '54', 'name': 'currently-reading'},...  B01NCIKAQX     true   \n",
      "2  [{'count': '2979', 'name': 'to-read'}, {'count...                false   \n",
      "3  [{'count': '22', 'name': 'to-read'}, {'count':...                false   \n",
      "4  [{'count': '3488', 'name': 'to-read'}, {'count...                false   \n",
      "5  [{'count': '9381', 'name': 'to-read'}, {'count...                false   \n",
      "6  [{'count': '6393', 'name': 'to-read'}, {'count...                false   \n",
      "7  [{'count': '4248', 'name': 'to-read'}, {'count...                false   \n",
      "8  [{'count': '450', 'name': 'to-read'}, {'count'...                false   \n",
      "9  [{'count': '70', 'name': 'to-read'}, {'count':...                false   \n",
      "\n",
      "  average_rating kindle_asin  ... publication_month edition_information  \\\n",
      "0           3.93  B007YLTG5I  ...                 4                       \n",
      "1           4.33  B01NCIKAQX  ...                                         \n",
      "2           3.81              ...                                         \n",
      "3           2.22              ...                 6                       \n",
      "4           3.82              ...                                         \n",
      "5           3.91  B00B853QPM  ...                                         \n",
      "6           4.26  B000FCKCJC  ...                                         \n",
      "7           3.98  B0010SEMV4  ...                 7                       \n",
      "8           4.43  B017RORXNI  ...                 9                       \n",
      "9           4.04  B00KLGBERQ  ...                 3                       \n",
      "\n",
      "  publication_year                                                url  \\\n",
      "0             2009  https://www.goodreads.com/book/show/6066814-cr...   \n",
      "1                   https://www.goodreads.com/book/show/33394837-t...   \n",
      "2                   https://www.goodreads.com/book/show/89371.The_...   \n",
      "3             2016  https://www.goodreads.com/book/show/28575155-s...   \n",
      "4                   https://www.goodreads.com/book/show/89373.The_...   \n",
      "5                   https://www.goodreads.com/book/show/89375.90_M...   \n",
      "6                    https://www.goodreads.com/book/show/89376.Heaven   \n",
      "7             2006  https://www.goodreads.com/book/show/89377.Penn...   \n",
      "8             1995  https://www.goodreads.com/book/show/89378.Dog_...   \n",
      "9             2014  https://www.goodreads.com/book/show/21401188-g...   \n",
      "\n",
      "                                           image_url   book_id ratings_count  \\\n",
      "0  https://images.gr-assets.com/books/1328724803m...   6066814           186   \n",
      "1  https://images.gr-assets.com/books/1493114742m...  33394837           269   \n",
      "2  https://s.gr-assets.com/assets/nophoto/book/11...     89371            11   \n",
      "3  https://images.gr-assets.com/books/1452886176m...  28575155             9   \n",
      "4  https://s.gr-assets.com/assets/nophoto/book/11...     89373            77   \n",
      "5  https://s.gr-assets.com/assets/nophoto/book/11...     89375         68157   \n",
      "6  https://images.gr-assets.com/books/1406508230m...     89376          7345   \n",
      "7  https://images.gr-assets.com/books/1320470906m...     89377          6949   \n",
      "8  https://images.gr-assets.com/books/1360057676m...     89378          1331   \n",
      "9  https://images.gr-assets.com/books/1395067717m...  21401188            72   \n",
      "\n",
      "    work_id                                              title  \\\n",
      "0   6243149          Crowner Royal (Crowner John Mystery, #13)   \n",
      "1  54143148            The House of Memory (Pluto's Snitch #2)   \n",
      "2  41333541                                   The Te Of Piglet   \n",
      "3  48735929              Spirit Lake - Die Legende des Wendigo   \n",
      "4   1080201                        The Bonfire of the Vanities   \n",
      "5   2957021  90 Minutes in Heaven: A True Story of Death an...   \n",
      "6     86257                                             Heaven   \n",
      "7     86258                                  Penny from Heaven   \n",
      "8     86259                                         Dog Heaven   \n",
      "9  40699074                                   Glimmering Light   \n",
      "\n",
      "                                title_without_series  \n",
      "0          Crowner Royal (Crowner John Mystery, #13)  \n",
      "1            The House of Memory (Pluto's Snitch #2)  \n",
      "2                                   The Te Of Piglet  \n",
      "3              Spirit Lake - Die Legende des Wendigo  \n",
      "4                        The Bonfire of the Vanities  \n",
      "5  90 Minutes in Heaven: A True Story of Death an...  \n",
      "6                                             Heaven  \n",
      "7                                  Penny from Heaven  \n",
      "8                                         Dog Heaven  \n",
      "9                                   Glimmering Light  \n",
      "\n",
      "[10 rows x 29 columns]\n"
     ]
    },
    {
     "data": {
      "text/plain": [
       "20"
      ]
     },
     "execution_count": 57,
     "metadata": {},
     "output_type": "execute_result"
    }
   ],
   "source": [
    "load_jc(os.path.join(dir, 'goodreads_books.json.gz'))"
   ]
  },
  {
   "cell_type": "code",
   "execution_count": 110,
   "metadata": {},
   "outputs": [],
   "source": [
    "def lw_jcBooks(file_name, chunk=10, nrows=-1):\n",
    "    csv_file = os.path.join(dir, 'books.csv')\n",
    "    total = 0\n",
    "    count = 0\n",
    "    data = []\n",
    "    with gzip.open(file_name) as fin, open(csv_file, 'w', encoding='utf-8', newline='\\n') as csv:\n",
    "        header = True\n",
    "        for l in fin:\n",
    "            if nrows == -1:\n",
    "                d = json.loads(l)\n",
    "                count += 1\n",
    "                total += 1\n",
    "                data.append(d)\n",
    "\n",
    "                if (chunk is not None) and (count > chunk - 1):\n",
    "                    df = pd.DataFrame(data)\n",
    "                    count = 0\n",
    "                    data.clear()\n",
    "                    df = df.drop(['popular_shelves', 'asin', 'kindle_asin', 'is_ebook', 'link', 'edition_information', 'url', 'description', 'image_url', 'series', 'authors', 'similar_books'], axis=1)\n",
    "                    df.to_csv(csv, header=header, index=0)\n",
    "                    header = False\n",
    "            else:\n",
    "                if total < nrows:\n",
    "                    d = json.loads(l)\n",
    "                    count += 1\n",
    "                    total += 1\n",
    "                    data.append(d)\n",
    "\n",
    "                    if (chunk is not None) and (count > chunk - 1):\n",
    "                        df = pd.DataFrame(data)\n",
    "                        count = 0\n",
    "                        data.clear()\n",
    "                        df = df.drop(['popular_shelves', 'asin', 'kindle_asin', 'is_ebook', 'link', 'edition_information', 'url', 'description', 'image_url', 'series', 'authors', 'similar_books'], axis=1)\n",
    "                        df.to_csv(csv, header=header, index=0)\n",
    "                        header = False\n",
    "                else:\n",
    "                    break\n",
    "    return total"
   ]
  },
  {
   "cell_type": "code",
   "execution_count": 111,
   "metadata": {},
   "outputs": [
    {
     "data": {
      "text/plain": [
       "2360655"
      ]
     },
     "execution_count": 111,
     "metadata": {},
     "output_type": "execute_result"
    }
   ],
   "source": [
    "lw_jcBooks(os.path.join(dir, 'goodreads_books.json.gz'), chunk=1000)"
   ]
  },
  {
   "cell_type": "code",
   "execution_count": 86,
   "metadata": {},
   "outputs": [],
   "source": [
    "df_books = pd.read_csv(os.path.join(dir, 'books.csv'))"
   ]
  },
  {
   "cell_type": "code",
   "execution_count": 87,
   "metadata": {},
   "outputs": [
    {
     "data": {
      "text/plain": [
       "isbn                     object\n",
       "text_reviews_count      float64\n",
       "country_code             object\n",
       "language_code            object\n",
       "average_rating          float64\n",
       "format                   object\n",
       "publisher                object\n",
       "num_pages               float64\n",
       "publication_day         float64\n",
       "isbn13                   object\n",
       "publication_month       float64\n",
       "publication_year        float64\n",
       "book_id                   int64\n",
       "ratings_count           float64\n",
       "work_id                 float64\n",
       "title                    object\n",
       "title_without_series     object\n",
       "dtype: object"
      ]
     },
     "execution_count": 87,
     "metadata": {},
     "output_type": "execute_result"
    }
   ],
   "source": [
    "df_books.dtypes"
   ]
  },
  {
   "cell_type": "code",
   "execution_count": 88,
   "metadata": {},
   "outputs": [
    {
     "data": {
      "text/plain": [
       "isbn                     True\n",
       "text_reviews_count       True\n",
       "country_code             True\n",
       "language_code            True\n",
       "average_rating           True\n",
       "format                   True\n",
       "publisher                True\n",
       "num_pages                True\n",
       "publication_day          True\n",
       "isbn13                   True\n",
       "publication_month        True\n",
       "publication_year         True\n",
       "book_id                 False\n",
       "ratings_count            True\n",
       "work_id                  True\n",
       "title                    True\n",
       "title_without_series     True\n",
       "dtype: bool"
      ]
     },
     "execution_count": 88,
     "metadata": {},
     "output_type": "execute_result"
    }
   ],
   "source": [
    "df_books.isna().any()"
   ]
  },
  {
   "cell_type": "code",
   "execution_count": 89,
   "metadata": {},
   "outputs": [
    {
     "data": {
      "text/plain": [
       "isbn                     983098\n",
       "text_reviews_count          524\n",
       "country_code                490\n",
       "language_code           1059845\n",
       "average_rating              524\n",
       "format                   646578\n",
       "publisher                654176\n",
       "num_pages                763912\n",
       "publication_day         1024157\n",
       "isbn13                   780044\n",
       "publication_month        882714\n",
       "publication_year         599462\n",
       "book_id                       0\n",
       "ratings_count               524\n",
       "work_id                     524\n",
       "title                        11\n",
       "title_without_series         11\n",
       "dtype: int64"
      ]
     },
     "execution_count": 89,
     "metadata": {},
     "output_type": "execute_result"
    }
   ],
   "source": [
    "df_books.isna().sum()"
   ]
  },
  {
   "cell_type": "code",
   "execution_count": 90,
   "metadata": {},
   "outputs": [
    {
     "data": {
      "text/plain": [
       "isbn                    41.656695\n",
       "text_reviews_count       0.022203\n",
       "country_code             0.020763\n",
       "language_code           44.908686\n",
       "average_rating           0.022203\n",
       "format                  27.397373\n",
       "publisher               27.719322\n",
       "num_pages               32.369153\n",
       "publication_day         43.396483\n",
       "isbn13                  33.052712\n",
       "publication_month       37.403136\n",
       "publication_year        25.400932\n",
       "book_id                  0.000000\n",
       "ratings_count            0.022203\n",
       "work_id                  0.022203\n",
       "title                    0.000466\n",
       "title_without_series     0.000466\n",
       "dtype: float64"
      ]
     },
     "execution_count": 90,
     "metadata": {},
     "output_type": "execute_result"
    }
   ],
   "source": [
    "df_books.isna().sum() * 100 / len(df_books)"
   ]
  },
  {
   "cell_type": "code",
   "execution_count": 199,
   "metadata": {},
   "outputs": [],
   "source": [
    "def lw_jcBooksInfo(file_name, chunk=10, nrows=-1):\n",
    "    csv_file = os.path.join(dir, 'book_info.csv')\n",
    "    total = 0\n",
    "    count = 0\n",
    "    data = []\n",
    "    with gzip.open(file_name) as fin, open(csv_file, 'w', encoding='utf-8', newline='\\n') as csvf:\n",
    "        header = True\n",
    "        for l in fin:\n",
    "            if nrows == -1:\n",
    "                d = json.loads(l)\n",
    "                keysToExtract = ['book_id', 'work_id', 'description', 'link', 'url', 'image_url']\n",
    "                dm = {key: d[key] for key in keysToExtract}\n",
    "                count += 1\n",
    "                total += 1\n",
    "                data.append(dm)\n",
    "\n",
    "                if (chunk is not None) and (count > chunk - 1):\n",
    "                    df = pd.DataFrame(data)\n",
    "                    df['description'] = df['description'].str.replace('\\n', '\\\\n')\n",
    "                    count = 0\n",
    "                    data.clear()\n",
    "                    df.to_csv(csvf, header=header, index=0)\n",
    "                    header = False\n",
    "            else:\n",
    "                if total < nrows:\n",
    "                    d = json.loads(l)\n",
    "                    keysToExtract = ['book_id', 'work_id', 'description', 'link', 'url', 'image_url']\n",
    "                    dm = {key: d[key] for key in keysToExtract}\n",
    "                    count += 1\n",
    "                    total += 1\n",
    "                    data.append(dm)\n",
    "\n",
    "                    if (chunk is not None) and (count > chunk - 1):\n",
    "                        df = pd.DataFrame(data)\n",
    "                        df['description'] = df['description'].str.replace('\\n', '\\\\n')\n",
    "                        count = 0\n",
    "                        data.clear()\n",
    "                        df.to_csv(csvf, header=header, index=0)\n",
    "                        header = False\n",
    "                else:\n",
    "                    break\n",
    "    return total"
   ]
  },
  {
   "cell_type": "code",
   "execution_count": 201,
   "metadata": {},
   "outputs": [
    {
     "data": {
      "text/plain": [
       "2360655"
      ]
     },
     "execution_count": 201,
     "metadata": {},
     "output_type": "execute_result"
    }
   ],
   "source": [
    "lw_jcBooksInfo(os.path.join(dir, 'goodreads_books.json.gz'), 1000)"
   ]
  },
  {
   "cell_type": "code",
   "execution_count": 178,
   "metadata": {},
   "outputs": [],
   "source": [
    "def show():\n",
    "    with gzip.open(os.path.join(dir, 'goodreads_books.json.gz')) as fin:\n",
    "            for l in fin:\n",
    "                d = json.loads(l)\n",
    "                break\n",
    "    return d"
   ]
  },
  {
   "cell_type": "code",
   "execution_count": 198,
   "metadata": {},
   "outputs": [],
   "source": [
    "with open(os.path.join(dir, 'book_info.csv')) as f, open(os.path.join(dir, 'test.txt'), 'w', encoding='utf-8', newline='\\n') as tex:\n",
    "    fc = csv.reader(f)\n",
    "    for i in range(5):\n",
    "        tex.write((next(f)))"
   ]
  },
  {
   "cell_type": "code",
   "execution_count": null,
   "metadata": {},
   "outputs": [],
   "source": [
    "dd_bi = dd.read_csv(os.path.join(dir, 'book_info.csv'), dtype={'book_id': str, 'work_id': str, 'description': str, 'link': str, 'url': str, 'image_url': str}, engine='python', escapechar='~')\n",
    "dd_bi"
   ]
  },
  {
   "cell_type": "code",
   "execution_count": null,
   "metadata": {},
   "outputs": [],
   "source": [
    "dd_bi.isna().sum().compute()"
   ]
  },
  {
   "cell_type": "markdown",
   "metadata": {},
   "source": [
    "---"
   ]
  },
  {
   "cell_type": "code",
   "execution_count": 76,
   "metadata": {},
   "outputs": [
    {
     "data": {
      "text/html": [
       "<div><strong>Dask DataFrame Structure:</strong></div>\n",
       "<div>\n",
       "<style scoped>\n",
       "    .dataframe tbody tr th:only-of-type {\n",
       "        vertical-align: middle;\n",
       "    }\n",
       "\n",
       "    .dataframe tbody tr th {\n",
       "        vertical-align: top;\n",
       "    }\n",
       "\n",
       "    .dataframe thead th {\n",
       "        text-align: right;\n",
       "    }\n",
       "</style>\n",
       "<table border=\"1\" class=\"dataframe\">\n",
       "  <thead>\n",
       "    <tr style=\"text-align: right;\">\n",
       "      <th></th>\n",
       "      <th>user_id</th>\n",
       "      <th>book_id</th>\n",
       "      <th>is_read</th>\n",
       "      <th>rating</th>\n",
       "      <th>is_reviewed</th>\n",
       "    </tr>\n",
       "    <tr>\n",
       "      <th>npartitions=68</th>\n",
       "      <th></th>\n",
       "      <th></th>\n",
       "      <th></th>\n",
       "      <th></th>\n",
       "      <th></th>\n",
       "    </tr>\n",
       "  </thead>\n",
       "  <tbody>\n",
       "    <tr>\n",
       "      <th></th>\n",
       "      <td>int64</td>\n",
       "      <td>int64</td>\n",
       "      <td>int64</td>\n",
       "      <td>int64</td>\n",
       "      <td>int64</td>\n",
       "    </tr>\n",
       "    <tr>\n",
       "      <th></th>\n",
       "      <td>...</td>\n",
       "      <td>...</td>\n",
       "      <td>...</td>\n",
       "      <td>...</td>\n",
       "      <td>...</td>\n",
       "    </tr>\n",
       "    <tr>\n",
       "      <th>...</th>\n",
       "      <td>...</td>\n",
       "      <td>...</td>\n",
       "      <td>...</td>\n",
       "      <td>...</td>\n",
       "      <td>...</td>\n",
       "    </tr>\n",
       "    <tr>\n",
       "      <th></th>\n",
       "      <td>...</td>\n",
       "      <td>...</td>\n",
       "      <td>...</td>\n",
       "      <td>...</td>\n",
       "      <td>...</td>\n",
       "    </tr>\n",
       "    <tr>\n",
       "      <th></th>\n",
       "      <td>...</td>\n",
       "      <td>...</td>\n",
       "      <td>...</td>\n",
       "      <td>...</td>\n",
       "      <td>...</td>\n",
       "    </tr>\n",
       "  </tbody>\n",
       "</table>\n",
       "</div>\n",
       "<div>Dask Name: read-csv, 68 tasks</div>"
      ],
      "text/plain": [
       "Dask DataFrame Structure:\n",
       "               user_id book_id is_read rating is_reviewed\n",
       "npartitions=68                                           \n",
       "                 int64   int64   int64  int64       int64\n",
       "                   ...     ...     ...    ...         ...\n",
       "...                ...     ...     ...    ...         ...\n",
       "                   ...     ...     ...    ...         ...\n",
       "                   ...     ...     ...    ...         ...\n",
       "Dask Name: read-csv, 68 tasks"
      ]
     },
     "execution_count": 76,
     "metadata": {},
     "output_type": "execute_result"
    }
   ],
   "source": [
    "ddf_interactions = dd.read_csv(os.path.join(dir, 'goodreads_interactions.csv'))\n",
    "ddf_interactions"
   ]
  },
  {
   "cell_type": "code",
   "execution_count": 78,
   "metadata": {},
   "outputs": [
    {
     "data": {
      "text/plain": [
       "user_id        int64\n",
       "book_id        int64\n",
       "is_read        int64\n",
       "rating         int64\n",
       "is_reviewed    int64\n",
       "dtype: object"
      ]
     },
     "execution_count": 78,
     "metadata": {},
     "output_type": "execute_result"
    }
   ],
   "source": [
    "ddf_interactions.dtypes"
   ]
  },
  {
   "cell_type": "code",
   "execution_count": 80,
   "metadata": {},
   "outputs": [
    {
     "data": {
      "text/html": [
       "<div>\n",
       "<style scoped>\n",
       "    .dataframe tbody tr th:only-of-type {\n",
       "        vertical-align: middle;\n",
       "    }\n",
       "\n",
       "    .dataframe tbody tr th {\n",
       "        vertical-align: top;\n",
       "    }\n",
       "\n",
       "    .dataframe thead th {\n",
       "        text-align: right;\n",
       "    }\n",
       "</style>\n",
       "<table border=\"1\" class=\"dataframe\">\n",
       "  <thead>\n",
       "    <tr style=\"text-align: right;\">\n",
       "      <th></th>\n",
       "      <th>user_id</th>\n",
       "      <th>book_id</th>\n",
       "      <th>is_read</th>\n",
       "      <th>rating</th>\n",
       "      <th>is_reviewed</th>\n",
       "    </tr>\n",
       "  </thead>\n",
       "  <tbody>\n",
       "    <tr>\n",
       "      <th>count</th>\n",
       "      <td>2.286483e+08</td>\n",
       "      <td>2.286483e+08</td>\n",
       "      <td>2.286483e+08</td>\n",
       "      <td>2.286483e+08</td>\n",
       "      <td>2.286483e+08</td>\n",
       "    </tr>\n",
       "    <tr>\n",
       "      <th>mean</th>\n",
       "      <td>2.500636e+05</td>\n",
       "      <td>2.015756e+05</td>\n",
       "      <td>4.904090e-01</td>\n",
       "      <td>1.801340e+00</td>\n",
       "      <td>7.093491e-02</td>\n",
       "    </tr>\n",
       "    <tr>\n",
       "      <th>std</th>\n",
       "      <td>1.712713e+05</td>\n",
       "      <td>3.448677e+05</td>\n",
       "      <td>4.999080e-01</td>\n",
       "      <td>2.072672e+00</td>\n",
       "      <td>2.567161e-01</td>\n",
       "    </tr>\n",
       "    <tr>\n",
       "      <th>min</th>\n",
       "      <td>0.000000e+00</td>\n",
       "      <td>0.000000e+00</td>\n",
       "      <td>0.000000e+00</td>\n",
       "      <td>0.000000e+00</td>\n",
       "      <td>0.000000e+00</td>\n",
       "    </tr>\n",
       "    <tr>\n",
       "      <th>25%</th>\n",
       "      <td>1.125510e+05</td>\n",
       "      <td>1.354100e+04</td>\n",
       "      <td>0.000000e+00</td>\n",
       "      <td>0.000000e+00</td>\n",
       "      <td>0.000000e+00</td>\n",
       "    </tr>\n",
       "    <tr>\n",
       "      <th>50%</th>\n",
       "      <td>2.332090e+05</td>\n",
       "      <td>5.984000e+04</td>\n",
       "      <td>1.000000e+00</td>\n",
       "      <td>3.000000e+00</td>\n",
       "      <td>0.000000e+00</td>\n",
       "    </tr>\n",
       "    <tr>\n",
       "      <th>75%</th>\n",
       "      <td>3.564060e+05</td>\n",
       "      <td>2.645935e+05</td>\n",
       "      <td>1.000000e+00</td>\n",
       "      <td>5.000000e+00</td>\n",
       "      <td>0.000000e+00</td>\n",
       "    </tr>\n",
       "    <tr>\n",
       "      <th>max</th>\n",
       "      <td>8.761440e+05</td>\n",
       "      <td>2.360649e+06</td>\n",
       "      <td>1.000000e+00</td>\n",
       "      <td>5.000000e+00</td>\n",
       "      <td>1.000000e+00</td>\n",
       "    </tr>\n",
       "  </tbody>\n",
       "</table>\n",
       "</div>"
      ],
      "text/plain": [
       "            user_id       book_id       is_read        rating   is_reviewed\n",
       "count  2.286483e+08  2.286483e+08  2.286483e+08  2.286483e+08  2.286483e+08\n",
       "mean   2.500636e+05  2.015756e+05  4.904090e-01  1.801340e+00  7.093491e-02\n",
       "std    1.712713e+05  3.448677e+05  4.999080e-01  2.072672e+00  2.567161e-01\n",
       "min    0.000000e+00  0.000000e+00  0.000000e+00  0.000000e+00  0.000000e+00\n",
       "25%    1.125510e+05  1.354100e+04  0.000000e+00  0.000000e+00  0.000000e+00\n",
       "50%    2.332090e+05  5.984000e+04  1.000000e+00  3.000000e+00  0.000000e+00\n",
       "75%    3.564060e+05  2.645935e+05  1.000000e+00  5.000000e+00  0.000000e+00\n",
       "max    8.761440e+05  2.360649e+06  1.000000e+00  5.000000e+00  1.000000e+00"
      ]
     },
     "execution_count": 80,
     "metadata": {},
     "output_type": "execute_result"
    }
   ],
   "source": [
    "ddf_interactions.describe().compute()"
   ]
  },
  {
   "cell_type": "code",
   "execution_count": 75,
   "metadata": {},
   "outputs": [
    {
     "data": {
      "text/plain": [
       "user_id        False\n",
       "book_id        False\n",
       "is_read        False\n",
       "rating         False\n",
       "is_reviewed    False\n",
       "dtype: bool"
      ]
     },
     "execution_count": 75,
     "metadata": {},
     "output_type": "execute_result"
    }
   ],
   "source": [
    "ddf_interactions.isna().any().compute()"
   ]
  },
  {
   "cell_type": "markdown",
   "metadata": {},
   "source": [
    "---"
   ]
  },
  {
   "cell_type": "markdown",
   "metadata": {},
   "source": [
    "### Authors to CSV"
   ]
  },
  {
   "cell_type": "code",
   "execution_count": 91,
   "metadata": {},
   "outputs": [],
   "source": [
    "def lw_jcAuthors(file_name, chunk=10, nrows=-1):\n",
    "    csv_file = os.path.join(dir, 'authors.csv')\n",
    "    total = 0\n",
    "    count = 0\n",
    "    data = []\n",
    "    with gzip.open(file_name) as fin, open(csv_file, 'w', encoding='utf-8', newline='\\n') as csv:\n",
    "        header = True\n",
    "        for l in fin:\n",
    "            if nrows == -1:\n",
    "                d = json.loads(l)\n",
    "                count += 1\n",
    "                total += 1\n",
    "                data.append(d)\n",
    "\n",
    "                if (chunk is not None) and (count > chunk - 1):\n",
    "                    df = pd.DataFrame(data)\n",
    "                    count = 0\n",
    "                    data.clear()\n",
    "                    df.to_csv(csv, header=header, index=0)\n",
    "                    header = False\n",
    "            else:\n",
    "                if total < nrows:\n",
    "                    d = json.loads(l)\n",
    "                    count += 1\n",
    "                    total += 1\n",
    "                    data.append(d)\n",
    "\n",
    "                    if (chunk is not None) and (count > chunk - 1):\n",
    "                        df = pd.DataFrame(data)\n",
    "                        count = 0\n",
    "                        data.clear()\n",
    "                        df.to_csv(csv, header=header, index=0)\n",
    "                        header = False\n",
    "                else:\n",
    "                    break\n",
    "    return total"
   ]
  },
  {
   "cell_type": "code",
   "execution_count": 93,
   "metadata": {},
   "outputs": [
    {
     "data": {
      "text/plain": [
       "829529"
      ]
     },
     "execution_count": 93,
     "metadata": {},
     "output_type": "execute_result"
    }
   ],
   "source": [
    "lw_jcAuthors(os.path.join(dir, 'goodreads_book_authors.json.gz'), chunk = 1000)"
   ]
  },
  {
   "cell_type": "code",
   "execution_count": 94,
   "metadata": {},
   "outputs": [],
   "source": [
    "df_authors = pd.read_csv(os.path.join(dir, 'authors.csv'))"
   ]
  },
  {
   "cell_type": "code",
   "execution_count": 95,
   "metadata": {},
   "outputs": [
    {
     "data": {
      "text/plain": [
       "average_rating        float64\n",
       "author_id               int64\n",
       "text_reviews_count      int64\n",
       "name                   object\n",
       "ratings_count           int64\n",
       "dtype: object"
      ]
     },
     "execution_count": 95,
     "metadata": {},
     "output_type": "execute_result"
    }
   ],
   "source": [
    "df_authors.dtypes"
   ]
  },
  {
   "cell_type": "code",
   "execution_count": 96,
   "metadata": {},
   "outputs": [
    {
     "data": {
      "text/plain": [
       "average_rating        False\n",
       "author_id             False\n",
       "text_reviews_count    False\n",
       "name                   True\n",
       "ratings_count         False\n",
       "dtype: bool"
      ]
     },
     "execution_count": 96,
     "metadata": {},
     "output_type": "execute_result"
    }
   ],
   "source": [
    "df_authors.isna().any()"
   ]
  },
  {
   "cell_type": "code",
   "execution_count": 98,
   "metadata": {},
   "outputs": [
    {
     "data": {
      "text/plain": [
       "average_rating        0\n",
       "author_id             0\n",
       "text_reviews_count    0\n",
       "name                  5\n",
       "ratings_count         0\n",
       "dtype: int64"
      ]
     },
     "execution_count": 98,
     "metadata": {},
     "output_type": "execute_result"
    }
   ],
   "source": [
    "df_authors.isna().sum()"
   ]
  },
  {
   "cell_type": "code",
   "execution_count": 99,
   "metadata": {},
   "outputs": [
    {
     "data": {
      "text/html": [
       "<div>\n",
       "<style scoped>\n",
       "    .dataframe tbody tr th:only-of-type {\n",
       "        vertical-align: middle;\n",
       "    }\n",
       "\n",
       "    .dataframe tbody tr th {\n",
       "        vertical-align: top;\n",
       "    }\n",
       "\n",
       "    .dataframe thead th {\n",
       "        text-align: right;\n",
       "    }\n",
       "</style>\n",
       "<table border=\"1\" class=\"dataframe\">\n",
       "  <thead>\n",
       "    <tr style=\"text-align: right;\">\n",
       "      <th></th>\n",
       "      <th>average_rating</th>\n",
       "      <th>author_id</th>\n",
       "      <th>text_reviews_count</th>\n",
       "      <th>ratings_count</th>\n",
       "    </tr>\n",
       "  </thead>\n",
       "  <tbody>\n",
       "    <tr>\n",
       "      <th>count</th>\n",
       "      <td>829000.000000</td>\n",
       "      <td>8.290000e+05</td>\n",
       "      <td>829000.000000</td>\n",
       "      <td>8.290000e+05</td>\n",
       "    </tr>\n",
       "    <tr>\n",
       "      <th>mean</th>\n",
       "      <td>3.844858</td>\n",
       "      <td>5.750882e+06</td>\n",
       "      <td>106.929556</td>\n",
       "      <td>1.596299e+03</td>\n",
       "    </tr>\n",
       "    <tr>\n",
       "      <th>std</th>\n",
       "      <td>0.602844</td>\n",
       "      <td>5.129887e+06</td>\n",
       "      <td>1770.788657</td>\n",
       "      <td>4.481097e+04</td>\n",
       "    </tr>\n",
       "    <tr>\n",
       "      <th>min</th>\n",
       "      <td>0.000000</td>\n",
       "      <td>3.000000e+00</td>\n",
       "      <td>0.000000</td>\n",
       "      <td>0.000000e+00</td>\n",
       "    </tr>\n",
       "    <tr>\n",
       "      <th>25%</th>\n",
       "      <td>3.580000</td>\n",
       "      <td>9.322970e+05</td>\n",
       "      <td>2.000000</td>\n",
       "      <td>8.000000e+00</td>\n",
       "    </tr>\n",
       "    <tr>\n",
       "      <th>50%</th>\n",
       "      <td>3.900000</td>\n",
       "      <td>4.951601e+06</td>\n",
       "      <td>6.000000</td>\n",
       "      <td>3.100000e+01</td>\n",
       "    </tr>\n",
       "    <tr>\n",
       "      <th>75%</th>\n",
       "      <td>4.170000</td>\n",
       "      <td>7.837560e+06</td>\n",
       "      <td>20.000000</td>\n",
       "      <td>1.320000e+02</td>\n",
       "    </tr>\n",
       "    <tr>\n",
       "      <th>max</th>\n",
       "      <td>5.000000</td>\n",
       "      <td>1.734337e+07</td>\n",
       "      <td>448570.000000</td>\n",
       "      <td>1.853272e+07</td>\n",
       "    </tr>\n",
       "  </tbody>\n",
       "</table>\n",
       "</div>"
      ],
      "text/plain": [
       "       average_rating     author_id  text_reviews_count  ratings_count\n",
       "count   829000.000000  8.290000e+05       829000.000000   8.290000e+05\n",
       "mean         3.844858  5.750882e+06          106.929556   1.596299e+03\n",
       "std          0.602844  5.129887e+06         1770.788657   4.481097e+04\n",
       "min          0.000000  3.000000e+00            0.000000   0.000000e+00\n",
       "25%          3.580000  9.322970e+05            2.000000   8.000000e+00\n",
       "50%          3.900000  4.951601e+06            6.000000   3.100000e+01\n",
       "75%          4.170000  7.837560e+06           20.000000   1.320000e+02\n",
       "max          5.000000  1.734337e+07       448570.000000   1.853272e+07"
      ]
     },
     "execution_count": 99,
     "metadata": {},
     "output_type": "execute_result"
    }
   ],
   "source": [
    "df_authors.describe()"
   ]
  },
  {
   "cell_type": "markdown",
   "metadata": {},
   "source": [
    "---"
   ]
  },
  {
   "cell_type": "markdown",
   "metadata": {},
   "source": [
    "### Series to CSV"
   ]
  },
  {
   "cell_type": "code",
   "execution_count": 100,
   "metadata": {},
   "outputs": [],
   "source": [
    "def lw_jcSeries(file_name, chunk=10, nrows=-1):\n",
    "    csv_file = os.path.join(dir, 'series.csv')\n",
    "    total = 0\n",
    "    count = 0\n",
    "    data = []\n",
    "    with gzip.open(file_name) as fin, open(csv_file, 'w', encoding='utf-8', newline='\\n') as csv:\n",
    "        header = True\n",
    "        for l in fin:\n",
    "            if nrows == -1:\n",
    "                d = json.loads(l)\n",
    "                count += 1\n",
    "                total += 1\n",
    "                data.append(d)\n",
    "\n",
    "                if (chunk is not None) and (count > chunk - 1):\n",
    "                    df = pd.DataFrame(data)\n",
    "                    count = 0\n",
    "                    data.clear()\n",
    "                    df.to_csv(csv, header=header, index=0)\n",
    "                    header = False\n",
    "            else:\n",
    "                if total < nrows:\n",
    "                    d = json.loads(l)\n",
    "                    count += 1\n",
    "                    total += 1\n",
    "                    data.append(d)\n",
    "\n",
    "                    if (chunk is not None) and (count > chunk - 1):\n",
    "                        df = pd.DataFrame(data)\n",
    "                        count = 0\n",
    "                        data.clear()\n",
    "                        df.to_csv(csv, header=header, index=0)\n",
    "                        header = False\n",
    "                else:\n",
    "                    break\n",
    "    return total"
   ]
  },
  {
   "cell_type": "code",
   "execution_count": 101,
   "metadata": {},
   "outputs": [
    {
     "data": {
      "text/plain": [
       "400390"
      ]
     },
     "execution_count": 101,
     "metadata": {},
     "output_type": "execute_result"
    }
   ],
   "source": [
    "lw_jcSeries(os.path.join(dir, 'goodreads_book_series.json.gz'))"
   ]
  },
  {
   "cell_type": "code",
   "execution_count": 102,
   "metadata": {},
   "outputs": [],
   "source": [
    "df_series = pd.read_csv(os.path.join(dir, 'series.csv'))"
   ]
  },
  {
   "cell_type": "code",
   "execution_count": 103,
   "metadata": {},
   "outputs": [
    {
     "data": {
      "text/plain": [
       "numbered                bool\n",
       "note                  object\n",
       "description           object\n",
       "title                 object\n",
       "series_works_count     int64\n",
       "series_id              int64\n",
       "primary_work_count     int64\n",
       "dtype: object"
      ]
     },
     "execution_count": 103,
     "metadata": {},
     "output_type": "execute_result"
    }
   ],
   "source": [
    "df_series.dtypes"
   ]
  },
  {
   "cell_type": "code",
   "execution_count": 104,
   "metadata": {},
   "outputs": [
    {
     "data": {
      "text/plain": [
       "numbered                   0\n",
       "note                  375111\n",
       "description           249371\n",
       "title                      6\n",
       "series_works_count         0\n",
       "series_id                  0\n",
       "primary_work_count         0\n",
       "dtype: int64"
      ]
     },
     "execution_count": 104,
     "metadata": {},
     "output_type": "execute_result"
    }
   ],
   "source": [
    "df_series.isna().sum()"
   ]
  },
  {
   "cell_type": "code",
   "execution_count": 105,
   "metadata": {},
   "outputs": [
    {
     "data": {
      "text/html": [
       "<div>\n",
       "<style scoped>\n",
       "    .dataframe tbody tr th:only-of-type {\n",
       "        vertical-align: middle;\n",
       "    }\n",
       "\n",
       "    .dataframe tbody tr th {\n",
       "        vertical-align: top;\n",
       "    }\n",
       "\n",
       "    .dataframe thead th {\n",
       "        text-align: right;\n",
       "    }\n",
       "</style>\n",
       "<table border=\"1\" class=\"dataframe\">\n",
       "  <thead>\n",
       "    <tr style=\"text-align: right;\">\n",
       "      <th></th>\n",
       "      <th>series_works_count</th>\n",
       "      <th>series_id</th>\n",
       "      <th>primary_work_count</th>\n",
       "    </tr>\n",
       "  </thead>\n",
       "  <tbody>\n",
       "    <tr>\n",
       "      <th>count</th>\n",
       "      <td>400390.000000</td>\n",
       "      <td>4.003900e+05</td>\n",
       "      <td>400390.000000</td>\n",
       "    </tr>\n",
       "    <tr>\n",
       "      <th>mean</th>\n",
       "      <td>21.588149</td>\n",
       "      <td>6.230450e+05</td>\n",
       "      <td>19.771653</td>\n",
       "    </tr>\n",
       "    <tr>\n",
       "      <th>std</th>\n",
       "      <td>65.103100</td>\n",
       "      <td>2.944453e+05</td>\n",
       "      <td>63.501377</td>\n",
       "    </tr>\n",
       "    <tr>\n",
       "      <th>min</th>\n",
       "      <td>-14.000000</td>\n",
       "      <td>1.443920e+05</td>\n",
       "      <td>0.000000</td>\n",
       "    </tr>\n",
       "    <tr>\n",
       "      <th>25%</th>\n",
       "      <td>3.000000</td>\n",
       "      <td>3.637372e+05</td>\n",
       "      <td>3.000000</td>\n",
       "    </tr>\n",
       "    <tr>\n",
       "      <th>50%</th>\n",
       "      <td>6.000000</td>\n",
       "      <td>6.158370e+05</td>\n",
       "      <td>5.000000</td>\n",
       "    </tr>\n",
       "    <tr>\n",
       "      <th>75%</th>\n",
       "      <td>14.000000</td>\n",
       "      <td>8.775648e+05</td>\n",
       "      <td>12.000000</td>\n",
       "    </tr>\n",
       "    <tr>\n",
       "      <th>max</th>\n",
       "      <td>893.000000</td>\n",
       "      <td>1.143859e+06</td>\n",
       "      <td>893.000000</td>\n",
       "    </tr>\n",
       "  </tbody>\n",
       "</table>\n",
       "</div>"
      ],
      "text/plain": [
       "       series_works_count     series_id  primary_work_count\n",
       "count       400390.000000  4.003900e+05       400390.000000\n",
       "mean            21.588149  6.230450e+05           19.771653\n",
       "std             65.103100  2.944453e+05           63.501377\n",
       "min            -14.000000  1.443920e+05            0.000000\n",
       "25%              3.000000  3.637372e+05            3.000000\n",
       "50%              6.000000  6.158370e+05            5.000000\n",
       "75%             14.000000  8.775648e+05           12.000000\n",
       "max            893.000000  1.143859e+06          893.000000"
      ]
     },
     "execution_count": 105,
     "metadata": {},
     "output_type": "execute_result"
    }
   ],
   "source": [
    "df_series.describe()"
   ]
  }
 ],
 "metadata": {
  "interpreter": {
   "hash": "b3ba2566441a7c06988d0923437866b63cedc61552a5af99d1f4fb67d367b25f"
  },
  "kernelspec": {
   "display_name": "Python 3.8.12 ('base')",
   "language": "python",
   "name": "python3"
  },
  "language_info": {
   "codemirror_mode": {
    "name": "ipython",
    "version": 3
   },
   "file_extension": ".py",
   "mimetype": "text/x-python",
   "name": "python",
   "nbconvert_exporter": "python",
   "pygments_lexer": "ipython3",
   "version": "3.9.7"
  },
  "orig_nbformat": 4
 },
 "nbformat": 4,
 "nbformat_minor": 2
}
